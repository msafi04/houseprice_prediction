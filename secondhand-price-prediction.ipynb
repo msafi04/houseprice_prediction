{
 "cells": [
  {
   "cell_type": "code",
   "execution_count": 1,
   "id": "severe-eligibility",
   "metadata": {
    "_cell_guid": "b1076dfc-b9ad-4769-8c92-a6c4dae69d19",
    "_uuid": "8f2839f25d086af736a60e9eeb907d3b93b6e0e5",
    "execution": {
     "iopub.execute_input": "2021-04-11T07:37:34.723511Z",
     "iopub.status.busy": "2021-04-11T07:37:34.722830Z",
     "iopub.status.idle": "2021-04-11T07:37:39.005223Z",
     "shell.execute_reply": "2021-04-11T07:37:39.005889Z"
    },
    "papermill": {
     "duration": 4.329975,
     "end_time": "2021-04-11T07:37:39.006192",
     "exception": false,
     "start_time": "2021-04-11T07:37:34.676217",
     "status": "completed"
    },
    "tags": []
   },
   "outputs": [
    {
     "data": {
      "text/html": [
       "        <script type=\"text/javascript\">\n",
       "        window.PlotlyConfig = {MathJaxConfig: 'local'};\n",
       "        if (window.MathJax) {MathJax.Hub.Config({SVG: {font: \"STIX-Web\"}});}\n",
       "        if (typeof require !== 'undefined') {\n",
       "        require.undef(\"plotly\");\n",
       "        requirejs.config({\n",
       "            paths: {\n",
       "                'plotly': ['https://cdn.plot.ly/plotly-latest.min']\n",
       "            }\n",
       "        });\n",
       "        require(['plotly'], function(Plotly) {\n",
       "            window._Plotly = Plotly;\n",
       "        });\n",
       "        }\n",
       "        </script>\n",
       "        "
      ]
     },
     "metadata": {},
     "output_type": "display_data"
    },
    {
     "name": "stdout",
     "output_type": "stream",
     "text": [
      "['18.csv', '20.csv', '42.csv', '33.csv', 'sample_submission.csv', '07.csv', '24.csv', '11.csv', '30.csv', '17.csv', '36.csv', '16.csv', '38.csv', '31.csv', '19.csv', '35.csv', '41.csv', '45.csv', '26.csv', '28.csv', '13.csv', '43.csv', '23.csv', '14.csv', '22.csv', '40.csv', '44.csv', '06.csv', '05.csv', '12.csv', '39.csv', '09.csv', 'data_explanation.xlsx', '04.csv', '01.csv', '47.csv', '03.csv', '15.csv', '37.csv', '10.csv', '08.csv', '25.csv', '29.csv', 'test.csv', '21.csv', '32.csv', '34.csv', '27.csv', '02.csv', '46.csv']\n",
      "2021-04-11 07:37:38.999081\n"
     ]
    }
   ],
   "source": [
    "%matplotlib inline\n",
    "\n",
    "import numpy as np # linear algebra\n",
    "import pandas as pd # data processing, CSV file I/O (e.g. pd.read_csv)\n",
    "\n",
    "pd.set_option('display.max_columns', None)\n",
    "pd.set_option('display.max_colwidth', None)\n",
    "#pd.set_option('display.max_rows', None)\n",
    "\n",
    "from tqdm import tqdm, tqdm_notebook\n",
    "\n",
    "from glob import glob\n",
    "import gc\n",
    "\n",
    "from sklearn.model_selection import train_test_split, StratifiedKFold\n",
    "from sklearn.utils import class_weight\n",
    "from sklearn.metrics import classification_report, roc_auc_score\n",
    "from sklearn.preprocessing import StandardScaler, LabelEncoder\n",
    "\n",
    "from sklearn.manifold import TSNE\n",
    "from sklearn.cluster import KMeans\n",
    "from sklearn.decomposition import PCA\n",
    "\n",
    "import matplotlib.pyplot as plt\n",
    "import seaborn as sns\n",
    "from IPython.display import display\n",
    "\n",
    "import plotly.express as px #Plotly Express\n",
    "\n",
    "from plotly.offline import iplot\n",
    "#to link plotly to pandas\n",
    "import cufflinks as cf\n",
    "cf.go_offline()\n",
    "cf.set_config_file(offline = False, world_readable = True)\n",
    "\n",
    "plt.rcParams[\"figure.figsize\"] = (12, 8)\n",
    "plt.rcParams['axes.titlesize'] = 16\n",
    "plt.style.use('seaborn-whitegrid')\n",
    "sns.set_palette('Set3')\n",
    "\n",
    "import os\n",
    "print(os.listdir('../input/secondhand-apartment-price-forecasting-2021/'))\n",
    "\n",
    "import warnings\n",
    "warnings.simplefilter('ignore')\n",
    "\n",
    "from time import time, strftime, gmtime\n",
    "start = time()\n",
    "import datetime\n",
    "print(str(datetime.datetime.now()))"
   ]
  },
  {
   "cell_type": "code",
   "execution_count": 2,
   "id": "inappropriate-player",
   "metadata": {
    "execution": {
     "iopub.execute_input": "2021-04-11T07:37:39.073689Z",
     "iopub.status.busy": "2021-04-11T07:37:39.072933Z",
     "iopub.status.idle": "2021-04-11T07:37:39.076323Z",
     "shell.execute_reply": "2021-04-11T07:37:39.075656Z"
    },
    "papermill": {
     "duration": 0.040358,
     "end_time": "2021-04-11T07:37:39.076471",
     "exception": false,
     "start_time": "2021-04-11T07:37:39.036113",
     "status": "completed"
    },
    "tags": []
   },
   "outputs": [],
   "source": [
    "train_column_names = ['ID', 'Type', 'Region', 'City Code', 'Prefecture Name', 'City Name', 'District Name', \n",
    "                'Nearest Station: Name', \"Nearest station: Distance (minutes)\", \"Floor plan\", \"Area (㎡)\", \n",
    "                \"Land shape\", \"Frontage\", \"Total floor area (㎡)\", \"Building year\", \"Building structure\", \"Use\", \n",
    "                \"Purpose of future use\", \"Front road: Direction\", \"Front road: Type\", \"Front road: Width (m)\", \n",
    "                \"City planning\", \"Building coverage ratio (%)\", 'Floor area ratio (%)',\n",
    "                'At the time of transaction', 'Refurbishment', 'Transaction circumstances, etc.', \n",
    "                      'Transaction price (total amount) _log']\n",
    "\n",
    "test_column_names = ['ID', 'Type', 'Region', 'City Code', 'Prefecture Name', 'City Name', 'District Name', \n",
    "                'Nearest Station: Name', \"Nearest station: Distance (minutes)\", \"Floor plan\", \"Area (㎡)\", \n",
    "                \"Land shape\", \"Frontage\", \"Total floor area (㎡)\", \"Building year\", \"Building structure\", \"Use\", \n",
    "                \"Purpose of future use\", \"Front road: Direction\", \"Front road: Type\", \"Front road: Width (m)\", \n",
    "                \"City planning\", \"Building coverage ratio (%)\", 'Floor area ratio (%)',\n",
    "                'At the time of transaction', 'Refurbishment', 'Transaction circumstances, etc.']"
   ]
  },
  {
   "cell_type": "code",
   "execution_count": 3,
   "id": "sonic-crazy",
   "metadata": {
    "execution": {
     "iopub.execute_input": "2021-04-11T07:37:39.143042Z",
     "iopub.status.busy": "2021-04-11T07:37:39.142361Z",
     "iopub.status.idle": "2021-04-11T07:37:39.145931Z",
     "shell.execute_reply": "2021-04-11T07:37:39.145384Z"
    },
    "papermill": {
     "duration": 0.03844,
     "end_time": "2021-04-11T07:37:39.146086",
     "exception": false,
     "start_time": "2021-04-11T07:37:39.107646",
     "status": "completed"
    },
    "tags": []
   },
   "outputs": [],
   "source": [
    "base_dir = '../input/secondhand-apartment-price-forecasting-2021/'"
   ]
  },
  {
   "cell_type": "code",
   "execution_count": 4,
   "id": "successful-issue",
   "metadata": {
    "execution": {
     "iopub.execute_input": "2021-04-11T07:37:39.211022Z",
     "iopub.status.busy": "2021-04-11T07:37:39.210391Z",
     "iopub.status.idle": "2021-04-11T07:37:39.407888Z",
     "shell.execute_reply": "2021-04-11T07:37:39.407367Z"
    },
    "papermill": {
     "duration": 0.232415,
     "end_time": "2021-04-11T07:37:39.408032",
     "exception": false,
     "start_time": "2021-04-11T07:37:39.175617",
     "status": "completed"
    },
    "tags": []
   },
   "outputs": [
    {
     "name": "stdout",
     "output_type": "stream",
     "text": [
      "(17894, 27)\n"
     ]
    },
    {
     "data": {
      "text/html": [
       "<div>\n",
       "<style scoped>\n",
       "    .dataframe tbody tr th:only-of-type {\n",
       "        vertical-align: middle;\n",
       "    }\n",
       "\n",
       "    .dataframe tbody tr th {\n",
       "        vertical-align: top;\n",
       "    }\n",
       "\n",
       "    .dataframe thead th {\n",
       "        text-align: right;\n",
       "    }\n",
       "</style>\n",
       "<table border=\"1\" class=\"dataframe\">\n",
       "  <thead>\n",
       "    <tr style=\"text-align: right;\">\n",
       "      <th></th>\n",
       "      <th>ID</th>\n",
       "      <th>Type</th>\n",
       "      <th>Region</th>\n",
       "      <th>City Code</th>\n",
       "      <th>Prefecture Name</th>\n",
       "      <th>City Name</th>\n",
       "      <th>District Name</th>\n",
       "      <th>Nearest Station: Name</th>\n",
       "      <th>Nearest station: Distance (minutes)</th>\n",
       "      <th>Floor plan</th>\n",
       "      <th>Area (㎡)</th>\n",
       "      <th>Land shape</th>\n",
       "      <th>Frontage</th>\n",
       "      <th>Total floor area (㎡)</th>\n",
       "      <th>Building year</th>\n",
       "      <th>Building structure</th>\n",
       "      <th>Use</th>\n",
       "      <th>Purpose of future use</th>\n",
       "      <th>Front road: Direction</th>\n",
       "      <th>Front road: Type</th>\n",
       "      <th>Front road: Width (m)</th>\n",
       "      <th>City planning</th>\n",
       "      <th>Building coverage ratio (%)</th>\n",
       "      <th>Floor area ratio (%)</th>\n",
       "      <th>At the time of transaction</th>\n",
       "      <th>Refurbishment</th>\n",
       "      <th>Transaction circumstances, etc.</th>\n",
       "    </tr>\n",
       "  </thead>\n",
       "  <tbody>\n",
       "    <tr>\n",
       "      <th>0</th>\n",
       "      <td>1000000</td>\n",
       "      <td>中古マンション等</td>\n",
       "      <td>NaN</td>\n",
       "      <td>1101</td>\n",
       "      <td>北海道</td>\n",
       "      <td>札幌市中央区</td>\n",
       "      <td>旭ケ丘</td>\n",
       "      <td>円山公園</td>\n",
       "      <td>26</td>\n",
       "      <td>３ＬＤＫ</td>\n",
       "      <td>75</td>\n",
       "      <td>NaN</td>\n",
       "      <td>NaN</td>\n",
       "      <td>NaN</td>\n",
       "      <td>昭和64年</td>\n",
       "      <td>ＲＣ</td>\n",
       "      <td>NaN</td>\n",
       "      <td>住宅</td>\n",
       "      <td>NaN</td>\n",
       "      <td>NaN</td>\n",
       "      <td>NaN</td>\n",
       "      <td>第１種低層住居専用地域</td>\n",
       "      <td>40.0</td>\n",
       "      <td>60.0</td>\n",
       "      <td>2020年第２四半期</td>\n",
       "      <td>未改装</td>\n",
       "      <td>NaN</td>\n",
       "    </tr>\n",
       "    <tr>\n",
       "      <th>1</th>\n",
       "      <td>1000110</td>\n",
       "      <td>中古マンション等</td>\n",
       "      <td>NaN</td>\n",
       "      <td>1101</td>\n",
       "      <td>北海道</td>\n",
       "      <td>札幌市中央区</td>\n",
       "      <td>大通西</td>\n",
       "      <td>西１８丁目</td>\n",
       "      <td>2</td>\n",
       "      <td>１ＬＤＫ</td>\n",
       "      <td>45</td>\n",
       "      <td>NaN</td>\n",
       "      <td>NaN</td>\n",
       "      <td>NaN</td>\n",
       "      <td>平成3年</td>\n",
       "      <td>ＳＲＣ</td>\n",
       "      <td>住宅</td>\n",
       "      <td>その他</td>\n",
       "      <td>NaN</td>\n",
       "      <td>NaN</td>\n",
       "      <td>NaN</td>\n",
       "      <td>商業地域</td>\n",
       "      <td>80.0</td>\n",
       "      <td>400.0</td>\n",
       "      <td>2020年第３四半期</td>\n",
       "      <td>未改装</td>\n",
       "      <td>NaN</td>\n",
       "    </tr>\n",
       "    <tr>\n",
       "      <th>2</th>\n",
       "      <td>1000111</td>\n",
       "      <td>中古マンション等</td>\n",
       "      <td>NaN</td>\n",
       "      <td>1101</td>\n",
       "      <td>北海道</td>\n",
       "      <td>札幌市中央区</td>\n",
       "      <td>大通西</td>\n",
       "      <td>西１８丁目</td>\n",
       "      <td>2</td>\n",
       "      <td>２ＬＤＫ</td>\n",
       "      <td>50</td>\n",
       "      <td>NaN</td>\n",
       "      <td>NaN</td>\n",
       "      <td>NaN</td>\n",
       "      <td>昭和64年</td>\n",
       "      <td>ＳＲＣ</td>\n",
       "      <td>住宅</td>\n",
       "      <td>住宅</td>\n",
       "      <td>NaN</td>\n",
       "      <td>NaN</td>\n",
       "      <td>NaN</td>\n",
       "      <td>商業地域</td>\n",
       "      <td>80.0</td>\n",
       "      <td>400.0</td>\n",
       "      <td>2020年第３四半期</td>\n",
       "      <td>改装済</td>\n",
       "      <td>NaN</td>\n",
       "    </tr>\n",
       "    <tr>\n",
       "      <th>3</th>\n",
       "      <td>1000112</td>\n",
       "      <td>中古マンション等</td>\n",
       "      <td>NaN</td>\n",
       "      <td>1101</td>\n",
       "      <td>北海道</td>\n",
       "      <td>札幌市中央区</td>\n",
       "      <td>大通西</td>\n",
       "      <td>西１８丁目</td>\n",
       "      <td>3</td>\n",
       "      <td>２ＬＤＫ</td>\n",
       "      <td>80</td>\n",
       "      <td>NaN</td>\n",
       "      <td>NaN</td>\n",
       "      <td>NaN</td>\n",
       "      <td>平成9年</td>\n",
       "      <td>ＲＣ</td>\n",
       "      <td>NaN</td>\n",
       "      <td>住宅</td>\n",
       "      <td>NaN</td>\n",
       "      <td>NaN</td>\n",
       "      <td>NaN</td>\n",
       "      <td>商業地域</td>\n",
       "      <td>80.0</td>\n",
       "      <td>400.0</td>\n",
       "      <td>2020年第３四半期</td>\n",
       "      <td>改装済</td>\n",
       "      <td>NaN</td>\n",
       "    </tr>\n",
       "    <tr>\n",
       "      <th>4</th>\n",
       "      <td>1000113</td>\n",
       "      <td>中古マンション等</td>\n",
       "      <td>NaN</td>\n",
       "      <td>1101</td>\n",
       "      <td>北海道</td>\n",
       "      <td>札幌市中央区</td>\n",
       "      <td>大通西</td>\n",
       "      <td>西１８丁目</td>\n",
       "      <td>3</td>\n",
       "      <td>１Ｋ</td>\n",
       "      <td>20</td>\n",
       "      <td>NaN</td>\n",
       "      <td>NaN</td>\n",
       "      <td>NaN</td>\n",
       "      <td>昭和56年</td>\n",
       "      <td>ＲＣ</td>\n",
       "      <td>NaN</td>\n",
       "      <td>住宅</td>\n",
       "      <td>NaN</td>\n",
       "      <td>NaN</td>\n",
       "      <td>NaN</td>\n",
       "      <td>商業地域</td>\n",
       "      <td>80.0</td>\n",
       "      <td>400.0</td>\n",
       "      <td>2020年第３四半期</td>\n",
       "      <td>未改装</td>\n",
       "      <td>NaN</td>\n",
       "    </tr>\n",
       "  </tbody>\n",
       "</table>\n",
       "</div>"
      ],
      "text/plain": [
       "        ID      Type  Region  City Code Prefecture Name City Name  \\\n",
       "0  1000000  中古マンション等     NaN       1101             北海道    札幌市中央区   \n",
       "1  1000110  中古マンション等     NaN       1101             北海道    札幌市中央区   \n",
       "2  1000111  中古マンション等     NaN       1101             北海道    札幌市中央区   \n",
       "3  1000112  中古マンション等     NaN       1101             北海道    札幌市中央区   \n",
       "4  1000113  中古マンション等     NaN       1101             北海道    札幌市中央区   \n",
       "\n",
       "  District Name Nearest Station: Name Nearest station: Distance (minutes)  \\\n",
       "0           旭ケ丘                  円山公園                                  26   \n",
       "1           大通西                 西１８丁目                                   2   \n",
       "2           大通西                 西１８丁目                                   2   \n",
       "3           大通西                 西１８丁目                                   3   \n",
       "4           大通西                 西１８丁目                                   3   \n",
       "\n",
       "  Floor plan  Area (㎡)  Land shape  Frontage  Total floor area (㎡)  \\\n",
       "0       ３ＬＤＫ        75         NaN       NaN                   NaN   \n",
       "1       １ＬＤＫ        45         NaN       NaN                   NaN   \n",
       "2       ２ＬＤＫ        50         NaN       NaN                   NaN   \n",
       "3       ２ＬＤＫ        80         NaN       NaN                   NaN   \n",
       "4         １Ｋ        20         NaN       NaN                   NaN   \n",
       "\n",
       "  Building year Building structure  Use Purpose of future use  \\\n",
       "0         昭和64年                 ＲＣ  NaN                    住宅   \n",
       "1          平成3年                ＳＲＣ   住宅                   その他   \n",
       "2         昭和64年                ＳＲＣ   住宅                    住宅   \n",
       "3          平成9年                 ＲＣ  NaN                    住宅   \n",
       "4         昭和56年                 ＲＣ  NaN                    住宅   \n",
       "\n",
       "   Front road: Direction  Front road: Type  Front road: Width (m)  \\\n",
       "0                    NaN               NaN                    NaN   \n",
       "1                    NaN               NaN                    NaN   \n",
       "2                    NaN               NaN                    NaN   \n",
       "3                    NaN               NaN                    NaN   \n",
       "4                    NaN               NaN                    NaN   \n",
       "\n",
       "  City planning  Building coverage ratio (%)  Floor area ratio (%)  \\\n",
       "0   第１種低層住居専用地域                         40.0                  60.0   \n",
       "1          商業地域                         80.0                 400.0   \n",
       "2          商業地域                         80.0                 400.0   \n",
       "3          商業地域                         80.0                 400.0   \n",
       "4          商業地域                         80.0                 400.0   \n",
       "\n",
       "  At the time of transaction Refurbishment Transaction circumstances, etc.  \n",
       "0                 2020年第２四半期           未改装                             NaN  \n",
       "1                 2020年第３四半期           未改装                             NaN  \n",
       "2                 2020年第３四半期           改装済                             NaN  \n",
       "3                 2020年第３四半期           改装済                             NaN  \n",
       "4                 2020年第３四半期           未改装                             NaN  "
      ]
     },
     "execution_count": 4,
     "metadata": {},
     "output_type": "execute_result"
    }
   ],
   "source": [
    "test = pd.read_csv(base_dir + 'test.csv')\n",
    "print(test.shape)\n",
    "test.columns = test_column_names\n",
    "test.head()"
   ]
  },
  {
   "cell_type": "code",
   "execution_count": 5,
   "id": "caroline-student",
   "metadata": {
    "execution": {
     "iopub.execute_input": "2021-04-11T07:37:39.474823Z",
     "iopub.status.busy": "2021-04-11T07:37:39.474133Z",
     "iopub.status.idle": "2021-04-11T07:37:39.493960Z",
     "shell.execute_reply": "2021-04-11T07:37:39.494413Z"
    },
    "papermill": {
     "duration": 0.055398,
     "end_time": "2021-04-11T07:37:39.494586",
     "exception": false,
     "start_time": "2021-04-11T07:37:39.439188",
     "status": "completed"
    },
    "tags": []
   },
   "outputs": [
    {
     "data": {
      "text/html": [
       "<div>\n",
       "<style scoped>\n",
       "    .dataframe tbody tr th:only-of-type {\n",
       "        vertical-align: middle;\n",
       "    }\n",
       "\n",
       "    .dataframe tbody tr th {\n",
       "        vertical-align: top;\n",
       "    }\n",
       "\n",
       "    .dataframe thead th {\n",
       "        text-align: right;\n",
       "    }\n",
       "</style>\n",
       "<table border=\"1\" class=\"dataframe\">\n",
       "  <thead>\n",
       "    <tr style=\"text-align: right;\">\n",
       "      <th></th>\n",
       "      <th>ID</th>\n",
       "      <th>取引価格（総額）_log</th>\n",
       "    </tr>\n",
       "  </thead>\n",
       "  <tbody>\n",
       "    <tr>\n",
       "      <th>0</th>\n",
       "      <td>1000000</td>\n",
       "      <td>0</td>\n",
       "    </tr>\n",
       "    <tr>\n",
       "      <th>1</th>\n",
       "      <td>1000110</td>\n",
       "      <td>0</td>\n",
       "    </tr>\n",
       "    <tr>\n",
       "      <th>2</th>\n",
       "      <td>1000111</td>\n",
       "      <td>0</td>\n",
       "    </tr>\n",
       "    <tr>\n",
       "      <th>3</th>\n",
       "      <td>1000112</td>\n",
       "      <td>0</td>\n",
       "    </tr>\n",
       "    <tr>\n",
       "      <th>4</th>\n",
       "      <td>1000113</td>\n",
       "      <td>0</td>\n",
       "    </tr>\n",
       "    <tr>\n",
       "      <th>...</th>\n",
       "      <td>...</td>\n",
       "      <td>...</td>\n",
       "    </tr>\n",
       "    <tr>\n",
       "      <th>17889</th>\n",
       "      <td>47006180</td>\n",
       "      <td>0</td>\n",
       "    </tr>\n",
       "    <tr>\n",
       "      <th>17890</th>\n",
       "      <td>47006652</td>\n",
       "      <td>0</td>\n",
       "    </tr>\n",
       "    <tr>\n",
       "      <th>17891</th>\n",
       "      <td>47006790</td>\n",
       "      <td>0</td>\n",
       "    </tr>\n",
       "    <tr>\n",
       "      <th>17892</th>\n",
       "      <td>47007026</td>\n",
       "      <td>0</td>\n",
       "    </tr>\n",
       "    <tr>\n",
       "      <th>17893</th>\n",
       "      <td>47008203</td>\n",
       "      <td>0</td>\n",
       "    </tr>\n",
       "  </tbody>\n",
       "</table>\n",
       "<p>17894 rows × 2 columns</p>\n",
       "</div>"
      ],
      "text/plain": [
       "             ID  取引価格（総額）_log\n",
       "0       1000000             0\n",
       "1       1000110             0\n",
       "2       1000111             0\n",
       "3       1000112             0\n",
       "4       1000113             0\n",
       "...         ...           ...\n",
       "17889  47006180             0\n",
       "17890  47006652             0\n",
       "17891  47006790             0\n",
       "17892  47007026             0\n",
       "17893  47008203             0\n",
       "\n",
       "[17894 rows x 2 columns]"
      ]
     },
     "execution_count": 5,
     "metadata": {},
     "output_type": "execute_result"
    }
   ],
   "source": [
    "sub = pd.read_csv(base_dir + 'sample_submission.csv')\n",
    "sub"
   ]
  },
  {
   "cell_type": "markdown",
   "id": "engaged-spine",
   "metadata": {
    "papermill": {
     "duration": 0.030719,
     "end_time": "2021-04-11T07:37:39.556588",
     "exception": false,
     "start_time": "2021-04-11T07:37:39.525869",
     "status": "completed"
    },
    "tags": []
   },
   "source": [
    "__Combine train dataframes into a single train dataframe__"
   ]
  },
  {
   "cell_type": "code",
   "execution_count": 6,
   "id": "vanilla-growth",
   "metadata": {
    "execution": {
     "iopub.execute_input": "2021-04-11T07:37:39.622736Z",
     "iopub.status.busy": "2021-04-11T07:37:39.621756Z",
     "iopub.status.idle": "2021-04-11T07:38:00.263421Z",
     "shell.execute_reply": "2021-04-11T07:38:00.263924Z"
    },
    "papermill": {
     "duration": 20.676379,
     "end_time": "2021-04-11T07:38:00.264111",
     "exception": false,
     "start_time": "2021-04-11T07:37:39.587732",
     "status": "completed"
    },
    "tags": []
   },
   "outputs": [
    {
     "data": {
      "application/vnd.jupyter.widget-view+json": {
       "model_id": "052c53c202a147d1a55831fd4d1c6954",
       "version_major": 2,
       "version_minor": 0
      },
      "text/plain": [
       "  0%|          | 0/47 [00:00<?, ?it/s]"
      ]
     },
     "metadata": {},
     "output_type": "display_data"
    },
    {
     "name": "stdout",
     "output_type": "stream",
     "text": [
      "(651975, 28)\n"
     ]
    },
    {
     "data": {
      "text/html": [
       "<div>\n",
       "<style scoped>\n",
       "    .dataframe tbody tr th:only-of-type {\n",
       "        vertical-align: middle;\n",
       "    }\n",
       "\n",
       "    .dataframe tbody tr th {\n",
       "        vertical-align: top;\n",
       "    }\n",
       "\n",
       "    .dataframe thead th {\n",
       "        text-align: right;\n",
       "    }\n",
       "</style>\n",
       "<table border=\"1\" class=\"dataframe\">\n",
       "  <thead>\n",
       "    <tr style=\"text-align: right;\">\n",
       "      <th></th>\n",
       "      <th>ID</th>\n",
       "      <th>Type</th>\n",
       "      <th>Region</th>\n",
       "      <th>City Code</th>\n",
       "      <th>Prefecture Name</th>\n",
       "      <th>City Name</th>\n",
       "      <th>District Name</th>\n",
       "      <th>Nearest Station: Name</th>\n",
       "      <th>Nearest station: Distance (minutes)</th>\n",
       "      <th>Floor plan</th>\n",
       "      <th>Area (㎡)</th>\n",
       "      <th>Land shape</th>\n",
       "      <th>Frontage</th>\n",
       "      <th>Total floor area (㎡)</th>\n",
       "      <th>Building year</th>\n",
       "      <th>Building structure</th>\n",
       "      <th>Use</th>\n",
       "      <th>Purpose of future use</th>\n",
       "      <th>Front road: Direction</th>\n",
       "      <th>Front road: Type</th>\n",
       "      <th>Front road: Width (m)</th>\n",
       "      <th>City planning</th>\n",
       "      <th>Building coverage ratio (%)</th>\n",
       "      <th>Floor area ratio (%)</th>\n",
       "      <th>At the time of transaction</th>\n",
       "      <th>Refurbishment</th>\n",
       "      <th>Transaction circumstances, etc.</th>\n",
       "      <th>Transaction price (total amount) _log</th>\n",
       "    </tr>\n",
       "  </thead>\n",
       "  <tbody>\n",
       "    <tr>\n",
       "      <th>0</th>\n",
       "      <td>18016956</td>\n",
       "      <td>中古マンション等</td>\n",
       "      <td>NaN</td>\n",
       "      <td>18201</td>\n",
       "      <td>福井県</td>\n",
       "      <td>福井市</td>\n",
       "      <td>大宮</td>\n",
       "      <td>田原町(福井)</td>\n",
       "      <td>13</td>\n",
       "      <td>４ＬＤＫ</td>\n",
       "      <td>80</td>\n",
       "      <td>NaN</td>\n",
       "      <td>NaN</td>\n",
       "      <td>NaN</td>\n",
       "      <td>平成13年</td>\n",
       "      <td>ＲＣ</td>\n",
       "      <td>住宅</td>\n",
       "      <td>NaN</td>\n",
       "      <td>NaN</td>\n",
       "      <td>NaN</td>\n",
       "      <td>NaN</td>\n",
       "      <td>第１種中高層住居専用地域</td>\n",
       "      <td>60.0</td>\n",
       "      <td>200.0</td>\n",
       "      <td>2013年第１四半期</td>\n",
       "      <td>改装済</td>\n",
       "      <td>NaN</td>\n",
       "      <td>7.204120</td>\n",
       "    </tr>\n",
       "    <tr>\n",
       "      <th>1</th>\n",
       "      <td>18017527</td>\n",
       "      <td>中古マンション等</td>\n",
       "      <td>NaN</td>\n",
       "      <td>18201</td>\n",
       "      <td>福井県</td>\n",
       "      <td>福井市</td>\n",
       "      <td>中央</td>\n",
       "      <td>福井(福井)</td>\n",
       "      <td>4</td>\n",
       "      <td>１ＬＤＫ</td>\n",
       "      <td>60</td>\n",
       "      <td>NaN</td>\n",
       "      <td>NaN</td>\n",
       "      <td>NaN</td>\n",
       "      <td>平成22年</td>\n",
       "      <td>ＳＲＣ</td>\n",
       "      <td>住宅</td>\n",
       "      <td>NaN</td>\n",
       "      <td>NaN</td>\n",
       "      <td>NaN</td>\n",
       "      <td>NaN</td>\n",
       "      <td>商業地域</td>\n",
       "      <td>80.0</td>\n",
       "      <td>600.0</td>\n",
       "      <td>2013年第１四半期</td>\n",
       "      <td>未改装</td>\n",
       "      <td>NaN</td>\n",
       "      <td>7.255273</td>\n",
       "    </tr>\n",
       "    <tr>\n",
       "      <th>2</th>\n",
       "      <td>18019565</td>\n",
       "      <td>中古マンション等</td>\n",
       "      <td>NaN</td>\n",
       "      <td>18201</td>\n",
       "      <td>福井県</td>\n",
       "      <td>福井市</td>\n",
       "      <td>文京</td>\n",
       "      <td>福大前西福井</td>\n",
       "      <td>5</td>\n",
       "      <td>１Ｋ</td>\n",
       "      <td>15</td>\n",
       "      <td>NaN</td>\n",
       "      <td>NaN</td>\n",
       "      <td>NaN</td>\n",
       "      <td>平成5年</td>\n",
       "      <td>ＲＣ</td>\n",
       "      <td>住宅</td>\n",
       "      <td>NaN</td>\n",
       "      <td>NaN</td>\n",
       "      <td>NaN</td>\n",
       "      <td>NaN</td>\n",
       "      <td>第１種住居地域</td>\n",
       "      <td>60.0</td>\n",
       "      <td>200.0</td>\n",
       "      <td>2009年第３四半期</td>\n",
       "      <td>未改装</td>\n",
       "      <td>NaN</td>\n",
       "      <td>6.176091</td>\n",
       "    </tr>\n",
       "    <tr>\n",
       "      <th>3</th>\n",
       "      <td>18011653</td>\n",
       "      <td>中古マンション等</td>\n",
       "      <td>NaN</td>\n",
       "      <td>18201</td>\n",
       "      <td>福井県</td>\n",
       "      <td>福井市</td>\n",
       "      <td>開発</td>\n",
       "      <td>越前開発</td>\n",
       "      <td>13</td>\n",
       "      <td>３ＬＤＫ</td>\n",
       "      <td>95</td>\n",
       "      <td>NaN</td>\n",
       "      <td>NaN</td>\n",
       "      <td>NaN</td>\n",
       "      <td>NaN</td>\n",
       "      <td>ＲＣ</td>\n",
       "      <td>住宅</td>\n",
       "      <td>NaN</td>\n",
       "      <td>NaN</td>\n",
       "      <td>NaN</td>\n",
       "      <td>NaN</td>\n",
       "      <td>準工業地域</td>\n",
       "      <td>60.0</td>\n",
       "      <td>200.0</td>\n",
       "      <td>2011年第４四半期</td>\n",
       "      <td>未改装</td>\n",
       "      <td>NaN</td>\n",
       "      <td>7.505150</td>\n",
       "    </tr>\n",
       "    <tr>\n",
       "      <th>4</th>\n",
       "      <td>18021274</td>\n",
       "      <td>中古マンション等</td>\n",
       "      <td>NaN</td>\n",
       "      <td>18201</td>\n",
       "      <td>福井県</td>\n",
       "      <td>福井市</td>\n",
       "      <td>城東</td>\n",
       "      <td>福井(福井)</td>\n",
       "      <td>18</td>\n",
       "      <td>３ＬＤＫ</td>\n",
       "      <td>65</td>\n",
       "      <td>NaN</td>\n",
       "      <td>NaN</td>\n",
       "      <td>NaN</td>\n",
       "      <td>平成9年</td>\n",
       "      <td>ＲＣ</td>\n",
       "      <td>住宅</td>\n",
       "      <td>NaN</td>\n",
       "      <td>NaN</td>\n",
       "      <td>NaN</td>\n",
       "      <td>NaN</td>\n",
       "      <td>第１種中高層住居専用地域</td>\n",
       "      <td>60.0</td>\n",
       "      <td>200.0</td>\n",
       "      <td>2007年第２四半期</td>\n",
       "      <td>改装済</td>\n",
       "      <td>NaN</td>\n",
       "      <td>7.113943</td>\n",
       "    </tr>\n",
       "  </tbody>\n",
       "</table>\n",
       "</div>"
      ],
      "text/plain": [
       "         ID      Type  Region  City Code Prefecture Name City Name  \\\n",
       "0  18016956  中古マンション等     NaN      18201             福井県       福井市   \n",
       "1  18017527  中古マンション等     NaN      18201             福井県       福井市   \n",
       "2  18019565  中古マンション等     NaN      18201             福井県       福井市   \n",
       "3  18011653  中古マンション等     NaN      18201             福井県       福井市   \n",
       "4  18021274  中古マンション等     NaN      18201             福井県       福井市   \n",
       "\n",
       "  District Name Nearest Station: Name Nearest station: Distance (minutes)  \\\n",
       "0            大宮               田原町(福井)                                  13   \n",
       "1            中央                福井(福井)                                   4   \n",
       "2            文京                福大前西福井                                   5   \n",
       "3            開発                  越前開発                                  13   \n",
       "4            城東                福井(福井)                                  18   \n",
       "\n",
       "  Floor plan Area (㎡)  Land shape  Frontage  Total floor area (㎡)  \\\n",
       "0       ４ＬＤＫ       80         NaN       NaN                   NaN   \n",
       "1       １ＬＤＫ       60         NaN       NaN                   NaN   \n",
       "2         １Ｋ       15         NaN       NaN                   NaN   \n",
       "3       ３ＬＤＫ       95         NaN       NaN                   NaN   \n",
       "4       ３ＬＤＫ       65         NaN       NaN                   NaN   \n",
       "\n",
       "  Building year Building structure Use Purpose of future use  \\\n",
       "0         平成13年                 ＲＣ  住宅                   NaN   \n",
       "1         平成22年                ＳＲＣ  住宅                   NaN   \n",
       "2          平成5年                 ＲＣ  住宅                   NaN   \n",
       "3           NaN                 ＲＣ  住宅                   NaN   \n",
       "4          平成9年                 ＲＣ  住宅                   NaN   \n",
       "\n",
       "   Front road: Direction  Front road: Type  Front road: Width (m)  \\\n",
       "0                    NaN               NaN                    NaN   \n",
       "1                    NaN               NaN                    NaN   \n",
       "2                    NaN               NaN                    NaN   \n",
       "3                    NaN               NaN                    NaN   \n",
       "4                    NaN               NaN                    NaN   \n",
       "\n",
       "  City planning  Building coverage ratio (%)  Floor area ratio (%)  \\\n",
       "0  第１種中高層住居専用地域                         60.0                 200.0   \n",
       "1          商業地域                         80.0                 600.0   \n",
       "2       第１種住居地域                         60.0                 200.0   \n",
       "3         準工業地域                         60.0                 200.0   \n",
       "4  第１種中高層住居専用地域                         60.0                 200.0   \n",
       "\n",
       "  At the time of transaction Refurbishment Transaction circumstances, etc.  \\\n",
       "0                 2013年第１四半期           改装済                             NaN   \n",
       "1                 2013年第１四半期           未改装                             NaN   \n",
       "2                 2009年第３四半期           未改装                             NaN   \n",
       "3                 2011年第４四半期           未改装                             NaN   \n",
       "4                 2007年第２四半期           改装済                             NaN   \n",
       "\n",
       "   Transaction price (total amount) _log  \n",
       "0                               7.204120  \n",
       "1                               7.255273  \n",
       "2                               6.176091  \n",
       "3                               7.505150  \n",
       "4                               7.113943  "
      ]
     },
     "execution_count": 6,
     "metadata": {},
     "output_type": "execute_result"
    }
   ],
   "source": [
    "train = pd.DataFrame()\n",
    "for path in tqdm_notebook(glob(base_dir + '[0-9][0-9].csv')):\n",
    "    temp = pd.read_csv(path)\n",
    "    train = train.append(temp, ignore_index = True)\n",
    "train.columns = train_column_names\n",
    "print(train.shape)\n",
    "train.head()"
   ]
  },
  {
   "cell_type": "code",
   "execution_count": 7,
   "id": "official-november",
   "metadata": {
    "execution": {
     "iopub.execute_input": "2021-04-11T07:38:00.337920Z",
     "iopub.status.busy": "2021-04-11T07:38:00.335979Z",
     "iopub.status.idle": "2021-04-11T07:38:00.842956Z",
     "shell.execute_reply": "2021-04-11T07:38:00.842393Z"
    },
    "papermill": {
     "duration": 0.545542,
     "end_time": "2021-04-11T07:38:00.843119",
     "exception": false,
     "start_time": "2021-04-11T07:38:00.297577",
     "status": "completed"
    },
    "tags": []
   },
   "outputs": [
    {
     "data": {
      "text/html": [
       "<div>\n",
       "<style scoped>\n",
       "    .dataframe tbody tr th:only-of-type {\n",
       "        vertical-align: middle;\n",
       "    }\n",
       "\n",
       "    .dataframe tbody tr th {\n",
       "        vertical-align: top;\n",
       "    }\n",
       "\n",
       "    .dataframe thead th {\n",
       "        text-align: right;\n",
       "    }\n",
       "</style>\n",
       "<table border=\"1\" class=\"dataframe\">\n",
       "  <thead>\n",
       "    <tr style=\"text-align: right;\">\n",
       "      <th></th>\n",
       "      <th>count</th>\n",
       "      <th>mean</th>\n",
       "      <th>std</th>\n",
       "      <th>min</th>\n",
       "      <th>25%</th>\n",
       "      <th>50%</th>\n",
       "      <th>75%</th>\n",
       "      <th>max</th>\n",
       "    </tr>\n",
       "  </thead>\n",
       "  <tbody>\n",
       "    <tr>\n",
       "      <th>ID</th>\n",
       "      <td>651975.0</td>\n",
       "      <td>1.847844e+07</td>\n",
       "      <td>9.568488e+06</td>\n",
       "      <td>1.000008e+06</td>\n",
       "      <td>13062658.5</td>\n",
       "      <td>1.402969e+07</td>\n",
       "      <td>2.703359e+07</td>\n",
       "      <td>4.703278e+07</td>\n",
       "    </tr>\n",
       "    <tr>\n",
       "      <th>Region</th>\n",
       "      <td>0.0</td>\n",
       "      <td>NaN</td>\n",
       "      <td>NaN</td>\n",
       "      <td>NaN</td>\n",
       "      <td>NaN</td>\n",
       "      <td>NaN</td>\n",
       "      <td>NaN</td>\n",
       "      <td>NaN</td>\n",
       "    </tr>\n",
       "    <tr>\n",
       "      <th>City Code</th>\n",
       "      <td>651975.0</td>\n",
       "      <td>1.851426e+04</td>\n",
       "      <td>9.594814e+03</td>\n",
       "      <td>1.101000e+03</td>\n",
       "      <td>13107.0</td>\n",
       "      <td>1.410400e+04</td>\n",
       "      <td>2.711400e+04</td>\n",
       "      <td>4.721300e+04</td>\n",
       "    </tr>\n",
       "    <tr>\n",
       "      <th>Land shape</th>\n",
       "      <td>0.0</td>\n",
       "      <td>NaN</td>\n",
       "      <td>NaN</td>\n",
       "      <td>NaN</td>\n",
       "      <td>NaN</td>\n",
       "      <td>NaN</td>\n",
       "      <td>NaN</td>\n",
       "      <td>NaN</td>\n",
       "    </tr>\n",
       "    <tr>\n",
       "      <th>Frontage</th>\n",
       "      <td>0.0</td>\n",
       "      <td>NaN</td>\n",
       "      <td>NaN</td>\n",
       "      <td>NaN</td>\n",
       "      <td>NaN</td>\n",
       "      <td>NaN</td>\n",
       "      <td>NaN</td>\n",
       "      <td>NaN</td>\n",
       "    </tr>\n",
       "    <tr>\n",
       "      <th>Total floor area (㎡)</th>\n",
       "      <td>0.0</td>\n",
       "      <td>NaN</td>\n",
       "      <td>NaN</td>\n",
       "      <td>NaN</td>\n",
       "      <td>NaN</td>\n",
       "      <td>NaN</td>\n",
       "      <td>NaN</td>\n",
       "      <td>NaN</td>\n",
       "    </tr>\n",
       "    <tr>\n",
       "      <th>Front road: Direction</th>\n",
       "      <td>0.0</td>\n",
       "      <td>NaN</td>\n",
       "      <td>NaN</td>\n",
       "      <td>NaN</td>\n",
       "      <td>NaN</td>\n",
       "      <td>NaN</td>\n",
       "      <td>NaN</td>\n",
       "      <td>NaN</td>\n",
       "    </tr>\n",
       "    <tr>\n",
       "      <th>Front road: Type</th>\n",
       "      <td>0.0</td>\n",
       "      <td>NaN</td>\n",
       "      <td>NaN</td>\n",
       "      <td>NaN</td>\n",
       "      <td>NaN</td>\n",
       "      <td>NaN</td>\n",
       "      <td>NaN</td>\n",
       "      <td>NaN</td>\n",
       "    </tr>\n",
       "    <tr>\n",
       "      <th>Front road: Width (m)</th>\n",
       "      <td>0.0</td>\n",
       "      <td>NaN</td>\n",
       "      <td>NaN</td>\n",
       "      <td>NaN</td>\n",
       "      <td>NaN</td>\n",
       "      <td>NaN</td>\n",
       "      <td>NaN</td>\n",
       "      <td>NaN</td>\n",
       "    </tr>\n",
       "    <tr>\n",
       "      <th>Building coverage ratio (%)</th>\n",
       "      <td>629168.0</td>\n",
       "      <td>6.761703e+01</td>\n",
       "      <td>1.040410e+01</td>\n",
       "      <td>3.000000e+01</td>\n",
       "      <td>60.0</td>\n",
       "      <td>6.000000e+01</td>\n",
       "      <td>8.000000e+01</td>\n",
       "      <td>8.000000e+01</td>\n",
       "    </tr>\n",
       "    <tr>\n",
       "      <th>Floor area ratio (%)</th>\n",
       "      <td>629168.0</td>\n",
       "      <td>3.018091e+02</td>\n",
       "      <td>1.481700e+02</td>\n",
       "      <td>5.000000e+01</td>\n",
       "      <td>200.0</td>\n",
       "      <td>2.000000e+02</td>\n",
       "      <td>4.000000e+02</td>\n",
       "      <td>1.300000e+03</td>\n",
       "    </tr>\n",
       "    <tr>\n",
       "      <th>Transaction price (total amount) _log</th>\n",
       "      <td>651975.0</td>\n",
       "      <td>7.219411e+00</td>\n",
       "      <td>3.541666e-01</td>\n",
       "      <td>2.653213e+00</td>\n",
       "      <td>7.0</td>\n",
       "      <td>7.255273e+00</td>\n",
       "      <td>7.447158e+00</td>\n",
       "      <td>9.934498e+00</td>\n",
       "    </tr>\n",
       "  </tbody>\n",
       "</table>\n",
       "</div>"
      ],
      "text/plain": [
       "                                          count          mean           std  \\\n",
       "ID                                     651975.0  1.847844e+07  9.568488e+06   \n",
       "Region                                      0.0           NaN           NaN   \n",
       "City Code                              651975.0  1.851426e+04  9.594814e+03   \n",
       "Land shape                                  0.0           NaN           NaN   \n",
       "Frontage                                    0.0           NaN           NaN   \n",
       "Total floor area (㎡)                        0.0           NaN           NaN   \n",
       "Front road: Direction                       0.0           NaN           NaN   \n",
       "Front road: Type                            0.0           NaN           NaN   \n",
       "Front road: Width (m)                       0.0           NaN           NaN   \n",
       "Building coverage ratio (%)            629168.0  6.761703e+01  1.040410e+01   \n",
       "Floor area ratio (%)                   629168.0  3.018091e+02  1.481700e+02   \n",
       "Transaction price (total amount) _log  651975.0  7.219411e+00  3.541666e-01   \n",
       "\n",
       "                                                min         25%           50%  \\\n",
       "ID                                     1.000008e+06  13062658.5  1.402969e+07   \n",
       "Region                                          NaN         NaN           NaN   \n",
       "City Code                              1.101000e+03     13107.0  1.410400e+04   \n",
       "Land shape                                      NaN         NaN           NaN   \n",
       "Frontage                                        NaN         NaN           NaN   \n",
       "Total floor area (㎡)                            NaN         NaN           NaN   \n",
       "Front road: Direction                           NaN         NaN           NaN   \n",
       "Front road: Type                                NaN         NaN           NaN   \n",
       "Front road: Width (m)                           NaN         NaN           NaN   \n",
       "Building coverage ratio (%)            3.000000e+01        60.0  6.000000e+01   \n",
       "Floor area ratio (%)                   5.000000e+01       200.0  2.000000e+02   \n",
       "Transaction price (total amount) _log  2.653213e+00         7.0  7.255273e+00   \n",
       "\n",
       "                                                75%           max  \n",
       "ID                                     2.703359e+07  4.703278e+07  \n",
       "Region                                          NaN           NaN  \n",
       "City Code                              2.711400e+04  4.721300e+04  \n",
       "Land shape                                      NaN           NaN  \n",
       "Frontage                                        NaN           NaN  \n",
       "Total floor area (㎡)                            NaN           NaN  \n",
       "Front road: Direction                           NaN           NaN  \n",
       "Front road: Type                                NaN           NaN  \n",
       "Front road: Width (m)                           NaN           NaN  \n",
       "Building coverage ratio (%)            8.000000e+01  8.000000e+01  \n",
       "Floor area ratio (%)                   4.000000e+02  1.300000e+03  \n",
       "Transaction price (total amount) _log  7.447158e+00  9.934498e+00  "
      ]
     },
     "execution_count": 7,
     "metadata": {},
     "output_type": "execute_result"
    }
   ],
   "source": [
    "train.describe().T"
   ]
  },
  {
   "cell_type": "code",
   "execution_count": 8,
   "id": "pharmaceutical-mason",
   "metadata": {
    "execution": {
     "iopub.execute_input": "2021-04-11T07:38:00.917801Z",
     "iopub.status.busy": "2021-04-11T07:38:00.916590Z",
     "iopub.status.idle": "2021-04-11T07:38:01.968754Z",
     "shell.execute_reply": "2021-04-11T07:38:01.969494Z"
    },
    "papermill": {
     "duration": 1.09246,
     "end_time": "2021-04-11T07:38:01.969734",
     "exception": false,
     "start_time": "2021-04-11T07:38:00.877274",
     "status": "completed"
    },
    "tags": []
   },
   "outputs": [
    {
     "name": "stdout",
     "output_type": "stream",
     "text": [
      "<class 'pandas.core.frame.DataFrame'>\n",
      "RangeIndex: 651975 entries, 0 to 651974\n",
      "Data columns (total 28 columns):\n",
      " #   Column                                 Non-Null Count   Dtype  \n",
      "---  ------                                 --------------   -----  \n",
      " 0   ID                                     651975 non-null  int64  \n",
      " 1   Type                                   651975 non-null  object \n",
      " 2   Region                                 0 non-null       float64\n",
      " 3   City Code                              651975 non-null  int64  \n",
      " 4   Prefecture Name                        651975 non-null  object \n",
      " 5   City Name                              651975 non-null  object \n",
      " 6   District Name                          651318 non-null  object \n",
      " 7   Nearest Station: Name                  649342 non-null  object \n",
      " 8   Nearest station: Distance (minutes)    628916 non-null  object \n",
      " 9   Floor plan                             629546 non-null  object \n",
      " 10  Area (㎡)                               651975 non-null  object \n",
      " 11  Land shape                             0 non-null       float64\n",
      " 12  Frontage                               0 non-null       float64\n",
      " 13  Total floor area (㎡)                   0 non-null       float64\n",
      " 14  Building year                          633280 non-null  object \n",
      " 15  Building structure                     637098 non-null  object \n",
      " 16  Use                                    601333 non-null  object \n",
      " 17  Purpose of future use                  288948 non-null  object \n",
      " 18  Front road: Direction                  0 non-null       float64\n",
      " 19  Front road: Type                       0 non-null       float64\n",
      " 20  Front road: Width (m)                  0 non-null       float64\n",
      " 21  City planning                          633162 non-null  object \n",
      " 22  Building coverage ratio (%)            629168 non-null  float64\n",
      " 23  Floor area ratio (%)                   629168 non-null  float64\n",
      " 24  At the time of transaction             651975 non-null  object \n",
      " 25  Refurbishment                          593301 non-null  object \n",
      " 26  Transaction circumstances, etc.        18397 non-null   object \n",
      " 27  Transaction price (total amount) _log  651975 non-null  float64\n",
      "dtypes: float64(10), int64(2), object(16)\n",
      "memory usage: 139.3+ MB\n",
      "<class 'pandas.core.frame.DataFrame'>\n",
      "RangeIndex: 17894 entries, 0 to 17893\n",
      "Data columns (total 27 columns):\n",
      " #   Column                               Non-Null Count  Dtype  \n",
      "---  ------                               --------------  -----  \n",
      " 0   ID                                   17894 non-null  int64  \n",
      " 1   Type                                 17894 non-null  object \n",
      " 2   Region                               0 non-null      float64\n",
      " 3   City Code                            17894 non-null  int64  \n",
      " 4   Prefecture Name                      17894 non-null  object \n",
      " 5   City Name                            17894 non-null  object \n",
      " 6   District Name                        17891 non-null  object \n",
      " 7   Nearest Station: Name                17871 non-null  object \n",
      " 8   Nearest station: Distance (minutes)  17871 non-null  object \n",
      " 9   Floor plan                           17082 non-null  object \n",
      " 10  Area (㎡)                             17894 non-null  int64  \n",
      " 11  Land shape                           0 non-null      float64\n",
      " 12  Frontage                             0 non-null      float64\n",
      " 13  Total floor area (㎡)                 0 non-null      float64\n",
      " 14  Building year                        17287 non-null  object \n",
      " 15  Building structure                   16776 non-null  object \n",
      " 16  Use                                  12524 non-null  object \n",
      " 17  Purpose of future use                17099 non-null  object \n",
      " 18  Front road: Direction                0 non-null      float64\n",
      " 19  Front road: Type                     0 non-null      float64\n",
      " 20  Front road: Width (m)                0 non-null      float64\n",
      " 21  City planning                        17617 non-null  object \n",
      " 22  Building coverage ratio (%)          17529 non-null  float64\n",
      " 23  Floor area ratio (%)                 17529 non-null  float64\n",
      " 24  At the time of transaction           17894 non-null  object \n",
      " 25  Refurbishment                        15627 non-null  object \n",
      " 26  Transaction circumstances, etc.      93 non-null     object \n",
      "dtypes: float64(9), int64(3), object(15)\n",
      "memory usage: 3.7+ MB\n"
     ]
    },
    {
     "data": {
      "text/plain": [
       "(None, None)"
      ]
     },
     "execution_count": 8,
     "metadata": {},
     "output_type": "execute_result"
    }
   ],
   "source": [
    "train.info(), test.info()"
   ]
  },
  {
   "cell_type": "code",
   "execution_count": 9,
   "id": "going-tolerance",
   "metadata": {
    "execution": {
     "iopub.execute_input": "2021-04-11T07:38:02.048641Z",
     "iopub.status.busy": "2021-04-11T07:38:02.047418Z",
     "iopub.status.idle": "2021-04-11T07:38:03.932078Z",
     "shell.execute_reply": "2021-04-11T07:38:03.931468Z"
    },
    "papermill": {
     "duration": 1.92658,
     "end_time": "2021-04-11T07:38:03.932228",
     "exception": false,
     "start_time": "2021-04-11T07:38:02.005648",
     "status": "completed"
    },
    "tags": []
   },
   "outputs": [
    {
     "data": {
      "application/vnd.plotly.v1+json": {
       "config": {
        "linkText": "Export to plot.ly",
        "plotlyServerURL": "https://plot.ly",
        "showLink": true
       },
       "data": [
        {
         "marker": {
          "color": "rgba(255, 153, 51, 0.6)",
          "line": {
           "color": "rgba(255, 153, 51, 1.0)",
           "width": 1
          }
         },
         "name": "total_missing",
         "orientation": "v",
         "text": "",
         "type": "bar",
         "x": [
          "ID",
          "Type",
          "Region",
          "City Code",
          "Prefecture Name",
          "City Name",
          "District Name",
          "Nearest Station: Name",
          "Nearest station: Distance (minutes)",
          "Floor plan",
          "Area (㎡)",
          "Land shape",
          "Frontage",
          "Total floor area (㎡)",
          "Building year",
          "Building structure",
          "Use",
          "Purpose of future use",
          "Front road: Direction",
          "Front road: Type",
          "Front road: Width (m)",
          "City planning",
          "Building coverage ratio (%)",
          "Floor area ratio (%)",
          "At the time of transaction",
          "Refurbishment",
          "Transaction circumstances, etc.",
          "Transaction price (total amount) _log"
         ],
         "y": [
          0,
          0,
          651975,
          0,
          0,
          0,
          657,
          2633,
          23059,
          22429,
          0,
          651975,
          651975,
          651975,
          18695,
          14877,
          50642,
          363027,
          651975,
          651975,
          651975,
          18813,
          22807,
          22807,
          0,
          58674,
          633578,
          0
         ]
        }
       ],
       "layout": {
        "legend": {
         "bgcolor": "#F5F6F9",
         "font": {
          "color": "#4D5663"
         }
        },
        "paper_bgcolor": "#F5F6F9",
        "plot_bgcolor": "#F5F6F9",
        "template": {
         "data": {
          "bar": [
           {
            "error_x": {
             "color": "#2a3f5f"
            },
            "error_y": {
             "color": "#2a3f5f"
            },
            "marker": {
             "line": {
              "color": "#E5ECF6",
              "width": 0.5
             }
            },
            "type": "bar"
           }
          ],
          "barpolar": [
           {
            "marker": {
             "line": {
              "color": "#E5ECF6",
              "width": 0.5
             }
            },
            "type": "barpolar"
           }
          ],
          "carpet": [
           {
            "aaxis": {
             "endlinecolor": "#2a3f5f",
             "gridcolor": "white",
             "linecolor": "white",
             "minorgridcolor": "white",
             "startlinecolor": "#2a3f5f"
            },
            "baxis": {
             "endlinecolor": "#2a3f5f",
             "gridcolor": "white",
             "linecolor": "white",
             "minorgridcolor": "white",
             "startlinecolor": "#2a3f5f"
            },
            "type": "carpet"
           }
          ],
          "choropleth": [
           {
            "colorbar": {
             "outlinewidth": 0,
             "ticks": ""
            },
            "type": "choropleth"
           }
          ],
          "contour": [
           {
            "colorbar": {
             "outlinewidth": 0,
             "ticks": ""
            },
            "colorscale": [
             [
              0.0,
              "#0d0887"
             ],
             [
              0.1111111111111111,
              "#46039f"
             ],
             [
              0.2222222222222222,
              "#7201a8"
             ],
             [
              0.3333333333333333,
              "#9c179e"
             ],
             [
              0.4444444444444444,
              "#bd3786"
             ],
             [
              0.5555555555555556,
              "#d8576b"
             ],
             [
              0.6666666666666666,
              "#ed7953"
             ],
             [
              0.7777777777777778,
              "#fb9f3a"
             ],
             [
              0.8888888888888888,
              "#fdca26"
             ],
             [
              1.0,
              "#f0f921"
             ]
            ],
            "type": "contour"
           }
          ],
          "contourcarpet": [
           {
            "colorbar": {
             "outlinewidth": 0,
             "ticks": ""
            },
            "type": "contourcarpet"
           }
          ],
          "heatmap": [
           {
            "colorbar": {
             "outlinewidth": 0,
             "ticks": ""
            },
            "colorscale": [
             [
              0.0,
              "#0d0887"
             ],
             [
              0.1111111111111111,
              "#46039f"
             ],
             [
              0.2222222222222222,
              "#7201a8"
             ],
             [
              0.3333333333333333,
              "#9c179e"
             ],
             [
              0.4444444444444444,
              "#bd3786"
             ],
             [
              0.5555555555555556,
              "#d8576b"
             ],
             [
              0.6666666666666666,
              "#ed7953"
             ],
             [
              0.7777777777777778,
              "#fb9f3a"
             ],
             [
              0.8888888888888888,
              "#fdca26"
             ],
             [
              1.0,
              "#f0f921"
             ]
            ],
            "type": "heatmap"
           }
          ],
          "heatmapgl": [
           {
            "colorbar": {
             "outlinewidth": 0,
             "ticks": ""
            },
            "colorscale": [
             [
              0.0,
              "#0d0887"
             ],
             [
              0.1111111111111111,
              "#46039f"
             ],
             [
              0.2222222222222222,
              "#7201a8"
             ],
             [
              0.3333333333333333,
              "#9c179e"
             ],
             [
              0.4444444444444444,
              "#bd3786"
             ],
             [
              0.5555555555555556,
              "#d8576b"
             ],
             [
              0.6666666666666666,
              "#ed7953"
             ],
             [
              0.7777777777777778,
              "#fb9f3a"
             ],
             [
              0.8888888888888888,
              "#fdca26"
             ],
             [
              1.0,
              "#f0f921"
             ]
            ],
            "type": "heatmapgl"
           }
          ],
          "histogram": [
           {
            "marker": {
             "colorbar": {
              "outlinewidth": 0,
              "ticks": ""
             }
            },
            "type": "histogram"
           }
          ],
          "histogram2d": [
           {
            "colorbar": {
             "outlinewidth": 0,
             "ticks": ""
            },
            "colorscale": [
             [
              0.0,
              "#0d0887"
             ],
             [
              0.1111111111111111,
              "#46039f"
             ],
             [
              0.2222222222222222,
              "#7201a8"
             ],
             [
              0.3333333333333333,
              "#9c179e"
             ],
             [
              0.4444444444444444,
              "#bd3786"
             ],
             [
              0.5555555555555556,
              "#d8576b"
             ],
             [
              0.6666666666666666,
              "#ed7953"
             ],
             [
              0.7777777777777778,
              "#fb9f3a"
             ],
             [
              0.8888888888888888,
              "#fdca26"
             ],
             [
              1.0,
              "#f0f921"
             ]
            ],
            "type": "histogram2d"
           }
          ],
          "histogram2dcontour": [
           {
            "colorbar": {
             "outlinewidth": 0,
             "ticks": ""
            },
            "colorscale": [
             [
              0.0,
              "#0d0887"
             ],
             [
              0.1111111111111111,
              "#46039f"
             ],
             [
              0.2222222222222222,
              "#7201a8"
             ],
             [
              0.3333333333333333,
              "#9c179e"
             ],
             [
              0.4444444444444444,
              "#bd3786"
             ],
             [
              0.5555555555555556,
              "#d8576b"
             ],
             [
              0.6666666666666666,
              "#ed7953"
             ],
             [
              0.7777777777777778,
              "#fb9f3a"
             ],
             [
              0.8888888888888888,
              "#fdca26"
             ],
             [
              1.0,
              "#f0f921"
             ]
            ],
            "type": "histogram2dcontour"
           }
          ],
          "mesh3d": [
           {
            "colorbar": {
             "outlinewidth": 0,
             "ticks": ""
            },
            "type": "mesh3d"
           }
          ],
          "parcoords": [
           {
            "line": {
             "colorbar": {
              "outlinewidth": 0,
              "ticks": ""
             }
            },
            "type": "parcoords"
           }
          ],
          "pie": [
           {
            "automargin": true,
            "type": "pie"
           }
          ],
          "scatter": [
           {
            "marker": {
             "colorbar": {
              "outlinewidth": 0,
              "ticks": ""
             }
            },
            "type": "scatter"
           }
          ],
          "scatter3d": [
           {
            "line": {
             "colorbar": {
              "outlinewidth": 0,
              "ticks": ""
             }
            },
            "marker": {
             "colorbar": {
              "outlinewidth": 0,
              "ticks": ""
             }
            },
            "type": "scatter3d"
           }
          ],
          "scattercarpet": [
           {
            "marker": {
             "colorbar": {
              "outlinewidth": 0,
              "ticks": ""
             }
            },
            "type": "scattercarpet"
           }
          ],
          "scattergeo": [
           {
            "marker": {
             "colorbar": {
              "outlinewidth": 0,
              "ticks": ""
             }
            },
            "type": "scattergeo"
           }
          ],
          "scattergl": [
           {
            "marker": {
             "colorbar": {
              "outlinewidth": 0,
              "ticks": ""
             }
            },
            "type": "scattergl"
           }
          ],
          "scattermapbox": [
           {
            "marker": {
             "colorbar": {
              "outlinewidth": 0,
              "ticks": ""
             }
            },
            "type": "scattermapbox"
           }
          ],
          "scatterpolar": [
           {
            "marker": {
             "colorbar": {
              "outlinewidth": 0,
              "ticks": ""
             }
            },
            "type": "scatterpolar"
           }
          ],
          "scatterpolargl": [
           {
            "marker": {
             "colorbar": {
              "outlinewidth": 0,
              "ticks": ""
             }
            },
            "type": "scatterpolargl"
           }
          ],
          "scatterternary": [
           {
            "marker": {
             "colorbar": {
              "outlinewidth": 0,
              "ticks": ""
             }
            },
            "type": "scatterternary"
           }
          ],
          "surface": [
           {
            "colorbar": {
             "outlinewidth": 0,
             "ticks": ""
            },
            "colorscale": [
             [
              0.0,
              "#0d0887"
             ],
             [
              0.1111111111111111,
              "#46039f"
             ],
             [
              0.2222222222222222,
              "#7201a8"
             ],
             [
              0.3333333333333333,
              "#9c179e"
             ],
             [
              0.4444444444444444,
              "#bd3786"
             ],
             [
              0.5555555555555556,
              "#d8576b"
             ],
             [
              0.6666666666666666,
              "#ed7953"
             ],
             [
              0.7777777777777778,
              "#fb9f3a"
             ],
             [
              0.8888888888888888,
              "#fdca26"
             ],
             [
              1.0,
              "#f0f921"
             ]
            ],
            "type": "surface"
           }
          ],
          "table": [
           {
            "cells": {
             "fill": {
              "color": "#EBF0F8"
             },
             "line": {
              "color": "white"
             }
            },
            "header": {
             "fill": {
              "color": "#C8D4E3"
             },
             "line": {
              "color": "white"
             }
            },
            "type": "table"
           }
          ]
         },
         "layout": {
          "annotationdefaults": {
           "arrowcolor": "#2a3f5f",
           "arrowhead": 0,
           "arrowwidth": 1
          },
          "autotypenumbers": "strict",
          "coloraxis": {
           "colorbar": {
            "outlinewidth": 0,
            "ticks": ""
           }
          },
          "colorscale": {
           "diverging": [
            [
             0,
             "#8e0152"
            ],
            [
             0.1,
             "#c51b7d"
            ],
            [
             0.2,
             "#de77ae"
            ],
            [
             0.3,
             "#f1b6da"
            ],
            [
             0.4,
             "#fde0ef"
            ],
            [
             0.5,
             "#f7f7f7"
            ],
            [
             0.6,
             "#e6f5d0"
            ],
            [
             0.7,
             "#b8e186"
            ],
            [
             0.8,
             "#7fbc41"
            ],
            [
             0.9,
             "#4d9221"
            ],
            [
             1,
             "#276419"
            ]
           ],
           "sequential": [
            [
             0.0,
             "#0d0887"
            ],
            [
             0.1111111111111111,
             "#46039f"
            ],
            [
             0.2222222222222222,
             "#7201a8"
            ],
            [
             0.3333333333333333,
             "#9c179e"
            ],
            [
             0.4444444444444444,
             "#bd3786"
            ],
            [
             0.5555555555555556,
             "#d8576b"
            ],
            [
             0.6666666666666666,
             "#ed7953"
            ],
            [
             0.7777777777777778,
             "#fb9f3a"
            ],
            [
             0.8888888888888888,
             "#fdca26"
            ],
            [
             1.0,
             "#f0f921"
            ]
           ],
           "sequentialminus": [
            [
             0.0,
             "#0d0887"
            ],
            [
             0.1111111111111111,
             "#46039f"
            ],
            [
             0.2222222222222222,
             "#7201a8"
            ],
            [
             0.3333333333333333,
             "#9c179e"
            ],
            [
             0.4444444444444444,
             "#bd3786"
            ],
            [
             0.5555555555555556,
             "#d8576b"
            ],
            [
             0.6666666666666666,
             "#ed7953"
            ],
            [
             0.7777777777777778,
             "#fb9f3a"
            ],
            [
             0.8888888888888888,
             "#fdca26"
            ],
            [
             1.0,
             "#f0f921"
            ]
           ]
          },
          "colorway": [
           "#636efa",
           "#EF553B",
           "#00cc96",
           "#ab63fa",
           "#FFA15A",
           "#19d3f3",
           "#FF6692",
           "#B6E880",
           "#FF97FF",
           "#FECB52"
          ],
          "font": {
           "color": "#2a3f5f"
          },
          "geo": {
           "bgcolor": "white",
           "lakecolor": "white",
           "landcolor": "#E5ECF6",
           "showlakes": true,
           "showland": true,
           "subunitcolor": "white"
          },
          "hoverlabel": {
           "align": "left"
          },
          "hovermode": "closest",
          "mapbox": {
           "style": "light"
          },
          "paper_bgcolor": "white",
          "plot_bgcolor": "#E5ECF6",
          "polar": {
           "angularaxis": {
            "gridcolor": "white",
            "linecolor": "white",
            "ticks": ""
           },
           "bgcolor": "#E5ECF6",
           "radialaxis": {
            "gridcolor": "white",
            "linecolor": "white",
            "ticks": ""
           }
          },
          "scene": {
           "xaxis": {
            "backgroundcolor": "#E5ECF6",
            "gridcolor": "white",
            "gridwidth": 2,
            "linecolor": "white",
            "showbackground": true,
            "ticks": "",
            "zerolinecolor": "white"
           },
           "yaxis": {
            "backgroundcolor": "#E5ECF6",
            "gridcolor": "white",
            "gridwidth": 2,
            "linecolor": "white",
            "showbackground": true,
            "ticks": "",
            "zerolinecolor": "white"
           },
           "zaxis": {
            "backgroundcolor": "#E5ECF6",
            "gridcolor": "white",
            "gridwidth": 2,
            "linecolor": "white",
            "showbackground": true,
            "ticks": "",
            "zerolinecolor": "white"
           }
          },
          "shapedefaults": {
           "line": {
            "color": "#2a3f5f"
           }
          },
          "ternary": {
           "aaxis": {
            "gridcolor": "white",
            "linecolor": "white",
            "ticks": ""
           },
           "baxis": {
            "gridcolor": "white",
            "linecolor": "white",
            "ticks": ""
           },
           "bgcolor": "#E5ECF6",
           "caxis": {
            "gridcolor": "white",
            "linecolor": "white",
            "ticks": ""
           }
          },
          "title": {
           "x": 0.05
          },
          "xaxis": {
           "automargin": true,
           "gridcolor": "white",
           "linecolor": "white",
           "ticks": "",
           "title": {
            "standoff": 15
           },
           "zerolinecolor": "white",
           "zerolinewidth": 2
          },
          "yaxis": {
           "automargin": true,
           "gridcolor": "white",
           "linecolor": "white",
           "ticks": "",
           "title": {
            "standoff": 15
           },
           "zerolinecolor": "white",
           "zerolinewidth": 2
          }
         }
        },
        "title": {
         "font": {
          "color": "#4D5663"
         },
         "text": "Missing Values Plot in Trainset"
        },
        "xaxis": {
         "gridcolor": "#E1E5ED",
         "showgrid": true,
         "tickfont": {
          "color": "#4D5663"
         },
         "title": {
          "font": {
           "color": "#4D5663"
          },
          "text": "Features"
         },
         "zerolinecolor": "#E1E5ED"
        },
        "yaxis": {
         "gridcolor": "#E1E5ED",
         "showgrid": true,
         "tickfont": {
          "color": "#4D5663"
         },
         "title": {
          "font": {
           "color": "#4D5663"
          },
          "text": "Count"
         },
         "zerolinecolor": "#E1E5ED"
        }
       }
      },
      "text/html": [
       "<div>                            <div id=\"5b981ed3-6efe-420f-bcfc-a9d518d8e8ef\" class=\"plotly-graph-div\" style=\"height:525px; width:100%;\"></div>            <script type=\"text/javascript\">                require([\"plotly\"], function(Plotly) {                    window.PLOTLYENV=window.PLOTLYENV || {};\n",
       "                    window.PLOTLYENV.BASE_URL='https://plot.ly';                                    if (document.getElementById(\"5b981ed3-6efe-420f-bcfc-a9d518d8e8ef\")) {                    Plotly.newPlot(                        \"5b981ed3-6efe-420f-bcfc-a9d518d8e8ef\",                        [{\"marker\": {\"color\": \"rgba(255, 153, 51, 0.6)\", \"line\": {\"color\": \"rgba(255, 153, 51, 1.0)\", \"width\": 1}}, \"name\": \"total_missing\", \"orientation\": \"v\", \"text\": \"\", \"type\": \"bar\", \"x\": [\"ID\", \"Type\", \"Region\", \"City Code\", \"Prefecture Name\", \"City Name\", \"District Name\", \"Nearest Station: Name\", \"Nearest station: Distance (minutes)\", \"Floor plan\", \"Area (\\u33a1)\", \"Land shape\", \"Frontage\", \"Total floor area (\\u33a1)\", \"Building year\", \"Building structure\", \"Use\", \"Purpose of future use\", \"Front road: Direction\", \"Front road: Type\", \"Front road: Width (m)\", \"City planning\", \"Building coverage ratio (%)\", \"Floor area ratio (%)\", \"At the time of transaction\", \"Refurbishment\", \"Transaction circumstances, etc.\", \"Transaction price (total amount) _log\"], \"y\": [0, 0, 651975, 0, 0, 0, 657, 2633, 23059, 22429, 0, 651975, 651975, 651975, 18695, 14877, 50642, 363027, 651975, 651975, 651975, 18813, 22807, 22807, 0, 58674, 633578, 0]}],                        {\"legend\": {\"bgcolor\": \"#F5F6F9\", \"font\": {\"color\": \"#4D5663\"}}, \"paper_bgcolor\": \"#F5F6F9\", \"plot_bgcolor\": \"#F5F6F9\", \"template\": {\"data\": {\"bar\": [{\"error_x\": {\"color\": \"#2a3f5f\"}, \"error_y\": {\"color\": \"#2a3f5f\"}, \"marker\": {\"line\": {\"color\": \"#E5ECF6\", \"width\": 0.5}}, \"type\": \"bar\"}], \"barpolar\": [{\"marker\": {\"line\": {\"color\": \"#E5ECF6\", \"width\": 0.5}}, \"type\": \"barpolar\"}], \"carpet\": [{\"aaxis\": {\"endlinecolor\": \"#2a3f5f\", \"gridcolor\": \"white\", \"linecolor\": \"white\", \"minorgridcolor\": \"white\", \"startlinecolor\": \"#2a3f5f\"}, \"baxis\": {\"endlinecolor\": \"#2a3f5f\", \"gridcolor\": \"white\", \"linecolor\": \"white\", \"minorgridcolor\": \"white\", \"startlinecolor\": \"#2a3f5f\"}, \"type\": \"carpet\"}], \"choropleth\": [{\"colorbar\": {\"outlinewidth\": 0, \"ticks\": \"\"}, \"type\": \"choropleth\"}], \"contour\": [{\"colorbar\": {\"outlinewidth\": 0, \"ticks\": \"\"}, \"colorscale\": [[0.0, \"#0d0887\"], [0.1111111111111111, \"#46039f\"], [0.2222222222222222, \"#7201a8\"], [0.3333333333333333, \"#9c179e\"], [0.4444444444444444, \"#bd3786\"], [0.5555555555555556, \"#d8576b\"], [0.6666666666666666, \"#ed7953\"], [0.7777777777777778, \"#fb9f3a\"], [0.8888888888888888, \"#fdca26\"], [1.0, \"#f0f921\"]], \"type\": \"contour\"}], \"contourcarpet\": [{\"colorbar\": {\"outlinewidth\": 0, \"ticks\": \"\"}, \"type\": \"contourcarpet\"}], \"heatmap\": [{\"colorbar\": {\"outlinewidth\": 0, \"ticks\": \"\"}, \"colorscale\": [[0.0, \"#0d0887\"], [0.1111111111111111, \"#46039f\"], [0.2222222222222222, \"#7201a8\"], [0.3333333333333333, \"#9c179e\"], [0.4444444444444444, \"#bd3786\"], [0.5555555555555556, \"#d8576b\"], [0.6666666666666666, \"#ed7953\"], [0.7777777777777778, \"#fb9f3a\"], [0.8888888888888888, \"#fdca26\"], [1.0, \"#f0f921\"]], \"type\": \"heatmap\"}], \"heatmapgl\": [{\"colorbar\": {\"outlinewidth\": 0, \"ticks\": \"\"}, \"colorscale\": [[0.0, \"#0d0887\"], [0.1111111111111111, \"#46039f\"], [0.2222222222222222, \"#7201a8\"], [0.3333333333333333, \"#9c179e\"], [0.4444444444444444, \"#bd3786\"], [0.5555555555555556, \"#d8576b\"], [0.6666666666666666, \"#ed7953\"], [0.7777777777777778, \"#fb9f3a\"], [0.8888888888888888, \"#fdca26\"], [1.0, \"#f0f921\"]], \"type\": \"heatmapgl\"}], \"histogram\": [{\"marker\": {\"colorbar\": {\"outlinewidth\": 0, \"ticks\": \"\"}}, \"type\": \"histogram\"}], \"histogram2d\": [{\"colorbar\": {\"outlinewidth\": 0, \"ticks\": \"\"}, \"colorscale\": [[0.0, \"#0d0887\"], [0.1111111111111111, \"#46039f\"], [0.2222222222222222, \"#7201a8\"], [0.3333333333333333, \"#9c179e\"], [0.4444444444444444, \"#bd3786\"], [0.5555555555555556, \"#d8576b\"], [0.6666666666666666, \"#ed7953\"], [0.7777777777777778, \"#fb9f3a\"], [0.8888888888888888, \"#fdca26\"], [1.0, \"#f0f921\"]], \"type\": \"histogram2d\"}], \"histogram2dcontour\": [{\"colorbar\": {\"outlinewidth\": 0, \"ticks\": \"\"}, \"colorscale\": [[0.0, \"#0d0887\"], [0.1111111111111111, \"#46039f\"], [0.2222222222222222, \"#7201a8\"], [0.3333333333333333, \"#9c179e\"], [0.4444444444444444, \"#bd3786\"], [0.5555555555555556, \"#d8576b\"], [0.6666666666666666, \"#ed7953\"], [0.7777777777777778, \"#fb9f3a\"], [0.8888888888888888, \"#fdca26\"], [1.0, \"#f0f921\"]], \"type\": \"histogram2dcontour\"}], \"mesh3d\": [{\"colorbar\": {\"outlinewidth\": 0, \"ticks\": \"\"}, \"type\": \"mesh3d\"}], \"parcoords\": [{\"line\": {\"colorbar\": {\"outlinewidth\": 0, \"ticks\": \"\"}}, \"type\": \"parcoords\"}], \"pie\": [{\"automargin\": true, \"type\": \"pie\"}], \"scatter\": [{\"marker\": {\"colorbar\": {\"outlinewidth\": 0, \"ticks\": \"\"}}, \"type\": \"scatter\"}], \"scatter3d\": [{\"line\": {\"colorbar\": {\"outlinewidth\": 0, \"ticks\": \"\"}}, \"marker\": {\"colorbar\": {\"outlinewidth\": 0, \"ticks\": \"\"}}, \"type\": \"scatter3d\"}], \"scattercarpet\": [{\"marker\": {\"colorbar\": {\"outlinewidth\": 0, \"ticks\": \"\"}}, \"type\": \"scattercarpet\"}], \"scattergeo\": [{\"marker\": {\"colorbar\": {\"outlinewidth\": 0, \"ticks\": \"\"}}, \"type\": \"scattergeo\"}], \"scattergl\": [{\"marker\": {\"colorbar\": {\"outlinewidth\": 0, \"ticks\": \"\"}}, \"type\": \"scattergl\"}], \"scattermapbox\": [{\"marker\": {\"colorbar\": {\"outlinewidth\": 0, \"ticks\": \"\"}}, \"type\": \"scattermapbox\"}], \"scatterpolar\": [{\"marker\": {\"colorbar\": {\"outlinewidth\": 0, \"ticks\": \"\"}}, \"type\": \"scatterpolar\"}], \"scatterpolargl\": [{\"marker\": {\"colorbar\": {\"outlinewidth\": 0, \"ticks\": \"\"}}, \"type\": \"scatterpolargl\"}], \"scatterternary\": [{\"marker\": {\"colorbar\": {\"outlinewidth\": 0, \"ticks\": \"\"}}, \"type\": \"scatterternary\"}], \"surface\": [{\"colorbar\": {\"outlinewidth\": 0, \"ticks\": \"\"}, \"colorscale\": [[0.0, \"#0d0887\"], [0.1111111111111111, \"#46039f\"], [0.2222222222222222, \"#7201a8\"], [0.3333333333333333, \"#9c179e\"], [0.4444444444444444, \"#bd3786\"], [0.5555555555555556, \"#d8576b\"], [0.6666666666666666, \"#ed7953\"], [0.7777777777777778, \"#fb9f3a\"], [0.8888888888888888, \"#fdca26\"], [1.0, \"#f0f921\"]], \"type\": \"surface\"}], \"table\": [{\"cells\": {\"fill\": {\"color\": \"#EBF0F8\"}, \"line\": {\"color\": \"white\"}}, \"header\": {\"fill\": {\"color\": \"#C8D4E3\"}, \"line\": {\"color\": \"white\"}}, \"type\": \"table\"}]}, \"layout\": {\"annotationdefaults\": {\"arrowcolor\": \"#2a3f5f\", \"arrowhead\": 0, \"arrowwidth\": 1}, \"autotypenumbers\": \"strict\", \"coloraxis\": {\"colorbar\": {\"outlinewidth\": 0, \"ticks\": \"\"}}, \"colorscale\": {\"diverging\": [[0, \"#8e0152\"], [0.1, \"#c51b7d\"], [0.2, \"#de77ae\"], [0.3, \"#f1b6da\"], [0.4, \"#fde0ef\"], [0.5, \"#f7f7f7\"], [0.6, \"#e6f5d0\"], [0.7, \"#b8e186\"], [0.8, \"#7fbc41\"], [0.9, \"#4d9221\"], [1, \"#276419\"]], \"sequential\": [[0.0, \"#0d0887\"], [0.1111111111111111, \"#46039f\"], [0.2222222222222222, \"#7201a8\"], [0.3333333333333333, \"#9c179e\"], [0.4444444444444444, \"#bd3786\"], [0.5555555555555556, \"#d8576b\"], [0.6666666666666666, \"#ed7953\"], [0.7777777777777778, \"#fb9f3a\"], [0.8888888888888888, \"#fdca26\"], [1.0, \"#f0f921\"]], \"sequentialminus\": [[0.0, \"#0d0887\"], [0.1111111111111111, \"#46039f\"], [0.2222222222222222, \"#7201a8\"], [0.3333333333333333, \"#9c179e\"], [0.4444444444444444, \"#bd3786\"], [0.5555555555555556, \"#d8576b\"], [0.6666666666666666, \"#ed7953\"], [0.7777777777777778, \"#fb9f3a\"], [0.8888888888888888, \"#fdca26\"], [1.0, \"#f0f921\"]]}, \"colorway\": [\"#636efa\", \"#EF553B\", \"#00cc96\", \"#ab63fa\", \"#FFA15A\", \"#19d3f3\", \"#FF6692\", \"#B6E880\", \"#FF97FF\", \"#FECB52\"], \"font\": {\"color\": \"#2a3f5f\"}, \"geo\": {\"bgcolor\": \"white\", \"lakecolor\": \"white\", \"landcolor\": \"#E5ECF6\", \"showlakes\": true, \"showland\": true, \"subunitcolor\": \"white\"}, \"hoverlabel\": {\"align\": \"left\"}, \"hovermode\": \"closest\", \"mapbox\": {\"style\": \"light\"}, \"paper_bgcolor\": \"white\", \"plot_bgcolor\": \"#E5ECF6\", \"polar\": {\"angularaxis\": {\"gridcolor\": \"white\", \"linecolor\": \"white\", \"ticks\": \"\"}, \"bgcolor\": \"#E5ECF6\", \"radialaxis\": {\"gridcolor\": \"white\", \"linecolor\": \"white\", \"ticks\": \"\"}}, \"scene\": {\"xaxis\": {\"backgroundcolor\": \"#E5ECF6\", \"gridcolor\": \"white\", \"gridwidth\": 2, \"linecolor\": \"white\", \"showbackground\": true, \"ticks\": \"\", \"zerolinecolor\": \"white\"}, \"yaxis\": {\"backgroundcolor\": \"#E5ECF6\", \"gridcolor\": \"white\", \"gridwidth\": 2, \"linecolor\": \"white\", \"showbackground\": true, \"ticks\": \"\", \"zerolinecolor\": \"white\"}, \"zaxis\": {\"backgroundcolor\": \"#E5ECF6\", \"gridcolor\": \"white\", \"gridwidth\": 2, \"linecolor\": \"white\", \"showbackground\": true, \"ticks\": \"\", \"zerolinecolor\": \"white\"}}, \"shapedefaults\": {\"line\": {\"color\": \"#2a3f5f\"}}, \"ternary\": {\"aaxis\": {\"gridcolor\": \"white\", \"linecolor\": \"white\", \"ticks\": \"\"}, \"baxis\": {\"gridcolor\": \"white\", \"linecolor\": \"white\", \"ticks\": \"\"}, \"bgcolor\": \"#E5ECF6\", \"caxis\": {\"gridcolor\": \"white\", \"linecolor\": \"white\", \"ticks\": \"\"}}, \"title\": {\"x\": 0.05}, \"xaxis\": {\"automargin\": true, \"gridcolor\": \"white\", \"linecolor\": \"white\", \"ticks\": \"\", \"title\": {\"standoff\": 15}, \"zerolinecolor\": \"white\", \"zerolinewidth\": 2}, \"yaxis\": {\"automargin\": true, \"gridcolor\": \"white\", \"linecolor\": \"white\", \"ticks\": \"\", \"title\": {\"standoff\": 15}, \"zerolinecolor\": \"white\", \"zerolinewidth\": 2}}}, \"title\": {\"font\": {\"color\": \"#4D5663\"}, \"text\": \"Missing Values Plot in Trainset\"}, \"xaxis\": {\"gridcolor\": \"#E1E5ED\", \"showgrid\": true, \"tickfont\": {\"color\": \"#4D5663\"}, \"title\": {\"font\": {\"color\": \"#4D5663\"}, \"text\": \"Features\"}, \"zerolinecolor\": \"#E1E5ED\"}, \"yaxis\": {\"gridcolor\": \"#E1E5ED\", \"showgrid\": true, \"tickfont\": {\"color\": \"#4D5663\"}, \"title\": {\"font\": {\"color\": \"#4D5663\"}, \"text\": \"Count\"}, \"zerolinecolor\": \"#E1E5ED\"}},                        {\"showLink\": true, \"linkText\": \"Export to plot.ly\", \"plotlyServerURL\": \"https://plot.ly\", \"responsive\": true}                    ).then(function(){\n",
       "                            \n",
       "var gd = document.getElementById('5b981ed3-6efe-420f-bcfc-a9d518d8e8ef');\n",
       "var x = new MutationObserver(function (mutations, observer) {{\n",
       "        var display = window.getComputedStyle(gd).display;\n",
       "        if (!display || display === 'none') {{\n",
       "            console.log([gd, 'removed!']);\n",
       "            Plotly.purge(gd);\n",
       "            observer.disconnect();\n",
       "        }}\n",
       "}});\n",
       "\n",
       "// Listen for the removal of the full notebook cells\n",
       "var notebookContainer = gd.closest('#notebook-container');\n",
       "if (notebookContainer) {{\n",
       "    x.observe(notebookContainer, {childList: true});\n",
       "}}\n",
       "\n",
       "// Listen for the clearing of the current output cell\n",
       "var outputEl = gd.closest('.output');\n",
       "if (outputEl) {{\n",
       "    x.observe(outputEl, {childList: true});\n",
       "}}\n",
       "\n",
       "                        })                };                });            </script>        </div>"
      ]
     },
     "metadata": {},
     "output_type": "display_data"
    },
    {
     "data": {
      "text/html": [
       "<div>\n",
       "<style scoped>\n",
       "    .dataframe tbody tr th:only-of-type {\n",
       "        vertical-align: middle;\n",
       "    }\n",
       "\n",
       "    .dataframe tbody tr th {\n",
       "        vertical-align: top;\n",
       "    }\n",
       "\n",
       "    .dataframe thead th {\n",
       "        text-align: right;\n",
       "    }\n",
       "</style>\n",
       "<table border=\"1\" class=\"dataframe\">\n",
       "  <thead>\n",
       "    <tr style=\"text-align: right;\">\n",
       "      <th>features</th>\n",
       "      <th>ID</th>\n",
       "      <th>Type</th>\n",
       "      <th>Region</th>\n",
       "      <th>City Code</th>\n",
       "      <th>Prefecture Name</th>\n",
       "      <th>City Name</th>\n",
       "      <th>District Name</th>\n",
       "      <th>Nearest Station: Name</th>\n",
       "      <th>Nearest station: Distance (minutes)</th>\n",
       "      <th>Floor plan</th>\n",
       "      <th>Area (㎡)</th>\n",
       "      <th>Land shape</th>\n",
       "      <th>Frontage</th>\n",
       "      <th>Total floor area (㎡)</th>\n",
       "      <th>Building year</th>\n",
       "      <th>Building structure</th>\n",
       "      <th>Use</th>\n",
       "      <th>Purpose of future use</th>\n",
       "      <th>Front road: Direction</th>\n",
       "      <th>Front road: Type</th>\n",
       "      <th>Front road: Width (m)</th>\n",
       "      <th>City planning</th>\n",
       "      <th>Building coverage ratio (%)</th>\n",
       "      <th>Floor area ratio (%)</th>\n",
       "      <th>At the time of transaction</th>\n",
       "      <th>Refurbishment</th>\n",
       "      <th>Transaction circumstances, etc.</th>\n",
       "      <th>Transaction price (total amount) _log</th>\n",
       "    </tr>\n",
       "  </thead>\n",
       "  <tbody>\n",
       "    <tr>\n",
       "      <th>total_missing</th>\n",
       "      <td>0.0</td>\n",
       "      <td>0.0</td>\n",
       "      <td>651975.0</td>\n",
       "      <td>0.0</td>\n",
       "      <td>0.0</td>\n",
       "      <td>0.0</td>\n",
       "      <td>657.000000</td>\n",
       "      <td>2633.00000</td>\n",
       "      <td>23059.000000</td>\n",
       "      <td>22429.000000</td>\n",
       "      <td>0.0</td>\n",
       "      <td>651975.0</td>\n",
       "      <td>651975.0</td>\n",
       "      <td>651975.0</td>\n",
       "      <td>18695.000000</td>\n",
       "      <td>14877.000000</td>\n",
       "      <td>50642.000000</td>\n",
       "      <td>363027.000000</td>\n",
       "      <td>651975.0</td>\n",
       "      <td>651975.0</td>\n",
       "      <td>651975.0</td>\n",
       "      <td>18813.00000</td>\n",
       "      <td>22807.00000</td>\n",
       "      <td>22807.00000</td>\n",
       "      <td>0.0</td>\n",
       "      <td>58674.000000</td>\n",
       "      <td>633578.000000</td>\n",
       "      <td>0.0</td>\n",
       "    </tr>\n",
       "    <tr>\n",
       "      <th>percent</th>\n",
       "      <td>0.0</td>\n",
       "      <td>0.0</td>\n",
       "      <td>100.0</td>\n",
       "      <td>0.0</td>\n",
       "      <td>0.0</td>\n",
       "      <td>0.0</td>\n",
       "      <td>0.100771</td>\n",
       "      <td>0.40385</td>\n",
       "      <td>3.536792</td>\n",
       "      <td>3.440163</td>\n",
       "      <td>0.0</td>\n",
       "      <td>100.0</td>\n",
       "      <td>100.0</td>\n",
       "      <td>100.0</td>\n",
       "      <td>2.867441</td>\n",
       "      <td>2.281836</td>\n",
       "      <td>7.767476</td>\n",
       "      <td>55.681123</td>\n",
       "      <td>100.0</td>\n",
       "      <td>100.0</td>\n",
       "      <td>100.0</td>\n",
       "      <td>2.88554</td>\n",
       "      <td>3.49814</td>\n",
       "      <td>3.49814</td>\n",
       "      <td>0.0</td>\n",
       "      <td>8.999425</td>\n",
       "      <td>97.178266</td>\n",
       "      <td>0.0</td>\n",
       "    </tr>\n",
       "  </tbody>\n",
       "</table>\n",
       "</div>"
      ],
      "text/plain": [
       "features        ID  Type    Region  City Code  Prefecture Name  City Name  \\\n",
       "total_missing  0.0   0.0  651975.0        0.0              0.0        0.0   \n",
       "percent        0.0   0.0     100.0        0.0              0.0        0.0   \n",
       "\n",
       "features       District Name  Nearest Station: Name  \\\n",
       "total_missing     657.000000             2633.00000   \n",
       "percent             0.100771                0.40385   \n",
       "\n",
       "features       Nearest station: Distance (minutes)    Floor plan  Area (㎡)  \\\n",
       "total_missing                         23059.000000  22429.000000       0.0   \n",
       "percent                                   3.536792      3.440163       0.0   \n",
       "\n",
       "features       Land shape  Frontage  Total floor area (㎡)  Building year  \\\n",
       "total_missing    651975.0  651975.0              651975.0   18695.000000   \n",
       "percent             100.0     100.0                 100.0       2.867441   \n",
       "\n",
       "features       Building structure           Use  Purpose of future use  \\\n",
       "total_missing        14877.000000  50642.000000          363027.000000   \n",
       "percent                  2.281836      7.767476              55.681123   \n",
       "\n",
       "features       Front road: Direction  Front road: Type  Front road: Width (m)  \\\n",
       "total_missing               651975.0          651975.0               651975.0   \n",
       "percent                        100.0             100.0                  100.0   \n",
       "\n",
       "features       City planning  Building coverage ratio (%)  \\\n",
       "total_missing    18813.00000                  22807.00000   \n",
       "percent              2.88554                      3.49814   \n",
       "\n",
       "features       Floor area ratio (%)  At the time of transaction  \\\n",
       "total_missing           22807.00000                         0.0   \n",
       "percent                     3.49814                         0.0   \n",
       "\n",
       "features       Refurbishment  Transaction circumstances, etc.  \\\n",
       "total_missing   58674.000000                    633578.000000   \n",
       "percent             8.999425                        97.178266   \n",
       "\n",
       "features       Transaction price (total amount) _log  \n",
       "total_missing                                    0.0  \n",
       "percent                                          0.0  "
      ]
     },
     "execution_count": 9,
     "metadata": {},
     "output_type": "execute_result"
    }
   ],
   "source": [
    "missing = train.isna().sum().reset_index()\n",
    "missing.columns = ['features', 'total_missing']\n",
    "missing['percent'] = (missing['total_missing'] / len(train)) * 100\n",
    "missing.index = missing['features']\n",
    "del missing['features']\n",
    "\n",
    "missing['total_missing'].iplot(kind = 'bar', \n",
    "                               title = 'Missing Values Plot in Trainset',\n",
    "                               xTitle = 'Features',\n",
    "                               yTitle = 'Count')\n",
    "missing.T"
   ]
  },
  {
   "cell_type": "code",
   "execution_count": 10,
   "id": "sensitive-colorado",
   "metadata": {
    "execution": {
     "iopub.execute_input": "2021-04-11T07:38:04.047631Z",
     "iopub.status.busy": "2021-04-11T07:38:04.023083Z",
     "iopub.status.idle": "2021-04-11T07:38:04.129013Z",
     "shell.execute_reply": "2021-04-11T07:38:04.128326Z"
    },
    "papermill": {
     "duration": 0.154492,
     "end_time": "2021-04-11T07:38:04.129160",
     "exception": false,
     "start_time": "2021-04-11T07:38:03.974668",
     "status": "completed"
    },
    "tags": []
   },
   "outputs": [
    {
     "data": {
      "application/vnd.plotly.v1+json": {
       "config": {
        "linkText": "Export to plot.ly",
        "plotlyServerURL": "https://plot.ly",
        "showLink": true
       },
       "data": [
        {
         "marker": {
          "color": "rgba(255, 153, 51, 0.6)",
          "line": {
           "color": "rgba(255, 153, 51, 1.0)",
           "width": 1
          }
         },
         "name": "total_missing",
         "orientation": "v",
         "text": "",
         "type": "bar",
         "x": [
          "ID",
          "Type",
          "Region",
          "City Code",
          "Prefecture Name",
          "City Name",
          "District Name",
          "Nearest Station: Name",
          "Nearest station: Distance (minutes)",
          "Floor plan",
          "Area (㎡)",
          "Land shape",
          "Frontage",
          "Total floor area (㎡)",
          "Building year",
          "Building structure",
          "Use",
          "Purpose of future use",
          "Front road: Direction",
          "Front road: Type",
          "Front road: Width (m)",
          "City planning",
          "Building coverage ratio (%)",
          "Floor area ratio (%)",
          "At the time of transaction",
          "Refurbishment",
          "Transaction circumstances, etc."
         ],
         "y": [
          0,
          0,
          17894,
          0,
          0,
          0,
          3,
          23,
          23,
          812,
          0,
          17894,
          17894,
          17894,
          607,
          1118,
          5370,
          795,
          17894,
          17894,
          17894,
          277,
          365,
          365,
          0,
          2267,
          17801
         ]
        }
       ],
       "layout": {
        "legend": {
         "bgcolor": "#F5F6F9",
         "font": {
          "color": "#4D5663"
         }
        },
        "paper_bgcolor": "#F5F6F9",
        "plot_bgcolor": "#F5F6F9",
        "template": {
         "data": {
          "bar": [
           {
            "error_x": {
             "color": "#2a3f5f"
            },
            "error_y": {
             "color": "#2a3f5f"
            },
            "marker": {
             "line": {
              "color": "#E5ECF6",
              "width": 0.5
             }
            },
            "type": "bar"
           }
          ],
          "barpolar": [
           {
            "marker": {
             "line": {
              "color": "#E5ECF6",
              "width": 0.5
             }
            },
            "type": "barpolar"
           }
          ],
          "carpet": [
           {
            "aaxis": {
             "endlinecolor": "#2a3f5f",
             "gridcolor": "white",
             "linecolor": "white",
             "minorgridcolor": "white",
             "startlinecolor": "#2a3f5f"
            },
            "baxis": {
             "endlinecolor": "#2a3f5f",
             "gridcolor": "white",
             "linecolor": "white",
             "minorgridcolor": "white",
             "startlinecolor": "#2a3f5f"
            },
            "type": "carpet"
           }
          ],
          "choropleth": [
           {
            "colorbar": {
             "outlinewidth": 0,
             "ticks": ""
            },
            "type": "choropleth"
           }
          ],
          "contour": [
           {
            "colorbar": {
             "outlinewidth": 0,
             "ticks": ""
            },
            "colorscale": [
             [
              0.0,
              "#0d0887"
             ],
             [
              0.1111111111111111,
              "#46039f"
             ],
             [
              0.2222222222222222,
              "#7201a8"
             ],
             [
              0.3333333333333333,
              "#9c179e"
             ],
             [
              0.4444444444444444,
              "#bd3786"
             ],
             [
              0.5555555555555556,
              "#d8576b"
             ],
             [
              0.6666666666666666,
              "#ed7953"
             ],
             [
              0.7777777777777778,
              "#fb9f3a"
             ],
             [
              0.8888888888888888,
              "#fdca26"
             ],
             [
              1.0,
              "#f0f921"
             ]
            ],
            "type": "contour"
           }
          ],
          "contourcarpet": [
           {
            "colorbar": {
             "outlinewidth": 0,
             "ticks": ""
            },
            "type": "contourcarpet"
           }
          ],
          "heatmap": [
           {
            "colorbar": {
             "outlinewidth": 0,
             "ticks": ""
            },
            "colorscale": [
             [
              0.0,
              "#0d0887"
             ],
             [
              0.1111111111111111,
              "#46039f"
             ],
             [
              0.2222222222222222,
              "#7201a8"
             ],
             [
              0.3333333333333333,
              "#9c179e"
             ],
             [
              0.4444444444444444,
              "#bd3786"
             ],
             [
              0.5555555555555556,
              "#d8576b"
             ],
             [
              0.6666666666666666,
              "#ed7953"
             ],
             [
              0.7777777777777778,
              "#fb9f3a"
             ],
             [
              0.8888888888888888,
              "#fdca26"
             ],
             [
              1.0,
              "#f0f921"
             ]
            ],
            "type": "heatmap"
           }
          ],
          "heatmapgl": [
           {
            "colorbar": {
             "outlinewidth": 0,
             "ticks": ""
            },
            "colorscale": [
             [
              0.0,
              "#0d0887"
             ],
             [
              0.1111111111111111,
              "#46039f"
             ],
             [
              0.2222222222222222,
              "#7201a8"
             ],
             [
              0.3333333333333333,
              "#9c179e"
             ],
             [
              0.4444444444444444,
              "#bd3786"
             ],
             [
              0.5555555555555556,
              "#d8576b"
             ],
             [
              0.6666666666666666,
              "#ed7953"
             ],
             [
              0.7777777777777778,
              "#fb9f3a"
             ],
             [
              0.8888888888888888,
              "#fdca26"
             ],
             [
              1.0,
              "#f0f921"
             ]
            ],
            "type": "heatmapgl"
           }
          ],
          "histogram": [
           {
            "marker": {
             "colorbar": {
              "outlinewidth": 0,
              "ticks": ""
             }
            },
            "type": "histogram"
           }
          ],
          "histogram2d": [
           {
            "colorbar": {
             "outlinewidth": 0,
             "ticks": ""
            },
            "colorscale": [
             [
              0.0,
              "#0d0887"
             ],
             [
              0.1111111111111111,
              "#46039f"
             ],
             [
              0.2222222222222222,
              "#7201a8"
             ],
             [
              0.3333333333333333,
              "#9c179e"
             ],
             [
              0.4444444444444444,
              "#bd3786"
             ],
             [
              0.5555555555555556,
              "#d8576b"
             ],
             [
              0.6666666666666666,
              "#ed7953"
             ],
             [
              0.7777777777777778,
              "#fb9f3a"
             ],
             [
              0.8888888888888888,
              "#fdca26"
             ],
             [
              1.0,
              "#f0f921"
             ]
            ],
            "type": "histogram2d"
           }
          ],
          "histogram2dcontour": [
           {
            "colorbar": {
             "outlinewidth": 0,
             "ticks": ""
            },
            "colorscale": [
             [
              0.0,
              "#0d0887"
             ],
             [
              0.1111111111111111,
              "#46039f"
             ],
             [
              0.2222222222222222,
              "#7201a8"
             ],
             [
              0.3333333333333333,
              "#9c179e"
             ],
             [
              0.4444444444444444,
              "#bd3786"
             ],
             [
              0.5555555555555556,
              "#d8576b"
             ],
             [
              0.6666666666666666,
              "#ed7953"
             ],
             [
              0.7777777777777778,
              "#fb9f3a"
             ],
             [
              0.8888888888888888,
              "#fdca26"
             ],
             [
              1.0,
              "#f0f921"
             ]
            ],
            "type": "histogram2dcontour"
           }
          ],
          "mesh3d": [
           {
            "colorbar": {
             "outlinewidth": 0,
             "ticks": ""
            },
            "type": "mesh3d"
           }
          ],
          "parcoords": [
           {
            "line": {
             "colorbar": {
              "outlinewidth": 0,
              "ticks": ""
             }
            },
            "type": "parcoords"
           }
          ],
          "pie": [
           {
            "automargin": true,
            "type": "pie"
           }
          ],
          "scatter": [
           {
            "marker": {
             "colorbar": {
              "outlinewidth": 0,
              "ticks": ""
             }
            },
            "type": "scatter"
           }
          ],
          "scatter3d": [
           {
            "line": {
             "colorbar": {
              "outlinewidth": 0,
              "ticks": ""
             }
            },
            "marker": {
             "colorbar": {
              "outlinewidth": 0,
              "ticks": ""
             }
            },
            "type": "scatter3d"
           }
          ],
          "scattercarpet": [
           {
            "marker": {
             "colorbar": {
              "outlinewidth": 0,
              "ticks": ""
             }
            },
            "type": "scattercarpet"
           }
          ],
          "scattergeo": [
           {
            "marker": {
             "colorbar": {
              "outlinewidth": 0,
              "ticks": ""
             }
            },
            "type": "scattergeo"
           }
          ],
          "scattergl": [
           {
            "marker": {
             "colorbar": {
              "outlinewidth": 0,
              "ticks": ""
             }
            },
            "type": "scattergl"
           }
          ],
          "scattermapbox": [
           {
            "marker": {
             "colorbar": {
              "outlinewidth": 0,
              "ticks": ""
             }
            },
            "type": "scattermapbox"
           }
          ],
          "scatterpolar": [
           {
            "marker": {
             "colorbar": {
              "outlinewidth": 0,
              "ticks": ""
             }
            },
            "type": "scatterpolar"
           }
          ],
          "scatterpolargl": [
           {
            "marker": {
             "colorbar": {
              "outlinewidth": 0,
              "ticks": ""
             }
            },
            "type": "scatterpolargl"
           }
          ],
          "scatterternary": [
           {
            "marker": {
             "colorbar": {
              "outlinewidth": 0,
              "ticks": ""
             }
            },
            "type": "scatterternary"
           }
          ],
          "surface": [
           {
            "colorbar": {
             "outlinewidth": 0,
             "ticks": ""
            },
            "colorscale": [
             [
              0.0,
              "#0d0887"
             ],
             [
              0.1111111111111111,
              "#46039f"
             ],
             [
              0.2222222222222222,
              "#7201a8"
             ],
             [
              0.3333333333333333,
              "#9c179e"
             ],
             [
              0.4444444444444444,
              "#bd3786"
             ],
             [
              0.5555555555555556,
              "#d8576b"
             ],
             [
              0.6666666666666666,
              "#ed7953"
             ],
             [
              0.7777777777777778,
              "#fb9f3a"
             ],
             [
              0.8888888888888888,
              "#fdca26"
             ],
             [
              1.0,
              "#f0f921"
             ]
            ],
            "type": "surface"
           }
          ],
          "table": [
           {
            "cells": {
             "fill": {
              "color": "#EBF0F8"
             },
             "line": {
              "color": "white"
             }
            },
            "header": {
             "fill": {
              "color": "#C8D4E3"
             },
             "line": {
              "color": "white"
             }
            },
            "type": "table"
           }
          ]
         },
         "layout": {
          "annotationdefaults": {
           "arrowcolor": "#2a3f5f",
           "arrowhead": 0,
           "arrowwidth": 1
          },
          "autotypenumbers": "strict",
          "coloraxis": {
           "colorbar": {
            "outlinewidth": 0,
            "ticks": ""
           }
          },
          "colorscale": {
           "diverging": [
            [
             0,
             "#8e0152"
            ],
            [
             0.1,
             "#c51b7d"
            ],
            [
             0.2,
             "#de77ae"
            ],
            [
             0.3,
             "#f1b6da"
            ],
            [
             0.4,
             "#fde0ef"
            ],
            [
             0.5,
             "#f7f7f7"
            ],
            [
             0.6,
             "#e6f5d0"
            ],
            [
             0.7,
             "#b8e186"
            ],
            [
             0.8,
             "#7fbc41"
            ],
            [
             0.9,
             "#4d9221"
            ],
            [
             1,
             "#276419"
            ]
           ],
           "sequential": [
            [
             0.0,
             "#0d0887"
            ],
            [
             0.1111111111111111,
             "#46039f"
            ],
            [
             0.2222222222222222,
             "#7201a8"
            ],
            [
             0.3333333333333333,
             "#9c179e"
            ],
            [
             0.4444444444444444,
             "#bd3786"
            ],
            [
             0.5555555555555556,
             "#d8576b"
            ],
            [
             0.6666666666666666,
             "#ed7953"
            ],
            [
             0.7777777777777778,
             "#fb9f3a"
            ],
            [
             0.8888888888888888,
             "#fdca26"
            ],
            [
             1.0,
             "#f0f921"
            ]
           ],
           "sequentialminus": [
            [
             0.0,
             "#0d0887"
            ],
            [
             0.1111111111111111,
             "#46039f"
            ],
            [
             0.2222222222222222,
             "#7201a8"
            ],
            [
             0.3333333333333333,
             "#9c179e"
            ],
            [
             0.4444444444444444,
             "#bd3786"
            ],
            [
             0.5555555555555556,
             "#d8576b"
            ],
            [
             0.6666666666666666,
             "#ed7953"
            ],
            [
             0.7777777777777778,
             "#fb9f3a"
            ],
            [
             0.8888888888888888,
             "#fdca26"
            ],
            [
             1.0,
             "#f0f921"
            ]
           ]
          },
          "colorway": [
           "#636efa",
           "#EF553B",
           "#00cc96",
           "#ab63fa",
           "#FFA15A",
           "#19d3f3",
           "#FF6692",
           "#B6E880",
           "#FF97FF",
           "#FECB52"
          ],
          "font": {
           "color": "#2a3f5f"
          },
          "geo": {
           "bgcolor": "white",
           "lakecolor": "white",
           "landcolor": "#E5ECF6",
           "showlakes": true,
           "showland": true,
           "subunitcolor": "white"
          },
          "hoverlabel": {
           "align": "left"
          },
          "hovermode": "closest",
          "mapbox": {
           "style": "light"
          },
          "paper_bgcolor": "white",
          "plot_bgcolor": "#E5ECF6",
          "polar": {
           "angularaxis": {
            "gridcolor": "white",
            "linecolor": "white",
            "ticks": ""
           },
           "bgcolor": "#E5ECF6",
           "radialaxis": {
            "gridcolor": "white",
            "linecolor": "white",
            "ticks": ""
           }
          },
          "scene": {
           "xaxis": {
            "backgroundcolor": "#E5ECF6",
            "gridcolor": "white",
            "gridwidth": 2,
            "linecolor": "white",
            "showbackground": true,
            "ticks": "",
            "zerolinecolor": "white"
           },
           "yaxis": {
            "backgroundcolor": "#E5ECF6",
            "gridcolor": "white",
            "gridwidth": 2,
            "linecolor": "white",
            "showbackground": true,
            "ticks": "",
            "zerolinecolor": "white"
           },
           "zaxis": {
            "backgroundcolor": "#E5ECF6",
            "gridcolor": "white",
            "gridwidth": 2,
            "linecolor": "white",
            "showbackground": true,
            "ticks": "",
            "zerolinecolor": "white"
           }
          },
          "shapedefaults": {
           "line": {
            "color": "#2a3f5f"
           }
          },
          "ternary": {
           "aaxis": {
            "gridcolor": "white",
            "linecolor": "white",
            "ticks": ""
           },
           "baxis": {
            "gridcolor": "white",
            "linecolor": "white",
            "ticks": ""
           },
           "bgcolor": "#E5ECF6",
           "caxis": {
            "gridcolor": "white",
            "linecolor": "white",
            "ticks": ""
           }
          },
          "title": {
           "x": 0.05
          },
          "xaxis": {
           "automargin": true,
           "gridcolor": "white",
           "linecolor": "white",
           "ticks": "",
           "title": {
            "standoff": 15
           },
           "zerolinecolor": "white",
           "zerolinewidth": 2
          },
          "yaxis": {
           "automargin": true,
           "gridcolor": "white",
           "linecolor": "white",
           "ticks": "",
           "title": {
            "standoff": 15
           },
           "zerolinecolor": "white",
           "zerolinewidth": 2
          }
         }
        },
        "title": {
         "font": {
          "color": "#4D5663"
         },
         "text": "Missing Values Plot in Testset"
        },
        "xaxis": {
         "gridcolor": "#E1E5ED",
         "showgrid": true,
         "tickfont": {
          "color": "#4D5663"
         },
         "title": {
          "font": {
           "color": "#4D5663"
          },
          "text": "Features"
         },
         "zerolinecolor": "#E1E5ED"
        },
        "yaxis": {
         "gridcolor": "#E1E5ED",
         "showgrid": true,
         "tickfont": {
          "color": "#4D5663"
         },
         "title": {
          "font": {
           "color": "#4D5663"
          },
          "text": "Count"
         },
         "zerolinecolor": "#E1E5ED"
        }
       }
      },
      "text/html": [
       "<div>                            <div id=\"a34af587-2d0f-4c6a-9cef-8509701aab77\" class=\"plotly-graph-div\" style=\"height:525px; width:100%;\"></div>            <script type=\"text/javascript\">                require([\"plotly\"], function(Plotly) {                    window.PLOTLYENV=window.PLOTLYENV || {};\n",
       "                    window.PLOTLYENV.BASE_URL='https://plot.ly';                                    if (document.getElementById(\"a34af587-2d0f-4c6a-9cef-8509701aab77\")) {                    Plotly.newPlot(                        \"a34af587-2d0f-4c6a-9cef-8509701aab77\",                        [{\"marker\": {\"color\": \"rgba(255, 153, 51, 0.6)\", \"line\": {\"color\": \"rgba(255, 153, 51, 1.0)\", \"width\": 1}}, \"name\": \"total_missing\", \"orientation\": \"v\", \"text\": \"\", \"type\": \"bar\", \"x\": [\"ID\", \"Type\", \"Region\", \"City Code\", \"Prefecture Name\", \"City Name\", \"District Name\", \"Nearest Station: Name\", \"Nearest station: Distance (minutes)\", \"Floor plan\", \"Area (\\u33a1)\", \"Land shape\", \"Frontage\", \"Total floor area (\\u33a1)\", \"Building year\", \"Building structure\", \"Use\", \"Purpose of future use\", \"Front road: Direction\", \"Front road: Type\", \"Front road: Width (m)\", \"City planning\", \"Building coverage ratio (%)\", \"Floor area ratio (%)\", \"At the time of transaction\", \"Refurbishment\", \"Transaction circumstances, etc.\"], \"y\": [0, 0, 17894, 0, 0, 0, 3, 23, 23, 812, 0, 17894, 17894, 17894, 607, 1118, 5370, 795, 17894, 17894, 17894, 277, 365, 365, 0, 2267, 17801]}],                        {\"legend\": {\"bgcolor\": \"#F5F6F9\", \"font\": {\"color\": \"#4D5663\"}}, \"paper_bgcolor\": \"#F5F6F9\", \"plot_bgcolor\": \"#F5F6F9\", \"template\": {\"data\": {\"bar\": [{\"error_x\": {\"color\": \"#2a3f5f\"}, \"error_y\": {\"color\": \"#2a3f5f\"}, \"marker\": {\"line\": {\"color\": \"#E5ECF6\", \"width\": 0.5}}, \"type\": \"bar\"}], \"barpolar\": [{\"marker\": {\"line\": {\"color\": \"#E5ECF6\", \"width\": 0.5}}, \"type\": \"barpolar\"}], \"carpet\": [{\"aaxis\": {\"endlinecolor\": \"#2a3f5f\", \"gridcolor\": \"white\", \"linecolor\": \"white\", \"minorgridcolor\": \"white\", \"startlinecolor\": \"#2a3f5f\"}, \"baxis\": {\"endlinecolor\": \"#2a3f5f\", \"gridcolor\": \"white\", \"linecolor\": \"white\", \"minorgridcolor\": \"white\", \"startlinecolor\": \"#2a3f5f\"}, \"type\": \"carpet\"}], \"choropleth\": [{\"colorbar\": {\"outlinewidth\": 0, \"ticks\": \"\"}, \"type\": \"choropleth\"}], \"contour\": [{\"colorbar\": {\"outlinewidth\": 0, \"ticks\": \"\"}, \"colorscale\": [[0.0, \"#0d0887\"], [0.1111111111111111, \"#46039f\"], [0.2222222222222222, \"#7201a8\"], [0.3333333333333333, \"#9c179e\"], [0.4444444444444444, \"#bd3786\"], [0.5555555555555556, \"#d8576b\"], [0.6666666666666666, \"#ed7953\"], [0.7777777777777778, \"#fb9f3a\"], [0.8888888888888888, \"#fdca26\"], [1.0, \"#f0f921\"]], \"type\": \"contour\"}], \"contourcarpet\": [{\"colorbar\": {\"outlinewidth\": 0, \"ticks\": \"\"}, \"type\": \"contourcarpet\"}], \"heatmap\": [{\"colorbar\": {\"outlinewidth\": 0, \"ticks\": \"\"}, \"colorscale\": [[0.0, \"#0d0887\"], [0.1111111111111111, \"#46039f\"], [0.2222222222222222, \"#7201a8\"], [0.3333333333333333, \"#9c179e\"], [0.4444444444444444, \"#bd3786\"], [0.5555555555555556, \"#d8576b\"], [0.6666666666666666, \"#ed7953\"], [0.7777777777777778, \"#fb9f3a\"], [0.8888888888888888, \"#fdca26\"], [1.0, \"#f0f921\"]], \"type\": \"heatmap\"}], \"heatmapgl\": [{\"colorbar\": {\"outlinewidth\": 0, \"ticks\": \"\"}, \"colorscale\": [[0.0, \"#0d0887\"], [0.1111111111111111, \"#46039f\"], [0.2222222222222222, \"#7201a8\"], [0.3333333333333333, \"#9c179e\"], [0.4444444444444444, \"#bd3786\"], [0.5555555555555556, \"#d8576b\"], [0.6666666666666666, \"#ed7953\"], [0.7777777777777778, \"#fb9f3a\"], [0.8888888888888888, \"#fdca26\"], [1.0, \"#f0f921\"]], \"type\": \"heatmapgl\"}], \"histogram\": [{\"marker\": {\"colorbar\": {\"outlinewidth\": 0, \"ticks\": \"\"}}, \"type\": \"histogram\"}], \"histogram2d\": [{\"colorbar\": {\"outlinewidth\": 0, \"ticks\": \"\"}, \"colorscale\": [[0.0, \"#0d0887\"], [0.1111111111111111, \"#46039f\"], [0.2222222222222222, \"#7201a8\"], [0.3333333333333333, \"#9c179e\"], [0.4444444444444444, \"#bd3786\"], [0.5555555555555556, \"#d8576b\"], [0.6666666666666666, \"#ed7953\"], [0.7777777777777778, \"#fb9f3a\"], [0.8888888888888888, \"#fdca26\"], [1.0, \"#f0f921\"]], \"type\": \"histogram2d\"}], \"histogram2dcontour\": [{\"colorbar\": {\"outlinewidth\": 0, \"ticks\": \"\"}, \"colorscale\": [[0.0, \"#0d0887\"], [0.1111111111111111, \"#46039f\"], [0.2222222222222222, \"#7201a8\"], [0.3333333333333333, \"#9c179e\"], [0.4444444444444444, \"#bd3786\"], [0.5555555555555556, \"#d8576b\"], [0.6666666666666666, \"#ed7953\"], [0.7777777777777778, \"#fb9f3a\"], [0.8888888888888888, \"#fdca26\"], [1.0, \"#f0f921\"]], \"type\": \"histogram2dcontour\"}], \"mesh3d\": [{\"colorbar\": {\"outlinewidth\": 0, \"ticks\": \"\"}, \"type\": \"mesh3d\"}], \"parcoords\": [{\"line\": {\"colorbar\": {\"outlinewidth\": 0, \"ticks\": \"\"}}, \"type\": \"parcoords\"}], \"pie\": [{\"automargin\": true, \"type\": \"pie\"}], \"scatter\": [{\"marker\": {\"colorbar\": {\"outlinewidth\": 0, \"ticks\": \"\"}}, \"type\": \"scatter\"}], \"scatter3d\": [{\"line\": {\"colorbar\": {\"outlinewidth\": 0, \"ticks\": \"\"}}, \"marker\": {\"colorbar\": {\"outlinewidth\": 0, \"ticks\": \"\"}}, \"type\": \"scatter3d\"}], \"scattercarpet\": [{\"marker\": {\"colorbar\": {\"outlinewidth\": 0, \"ticks\": \"\"}}, \"type\": \"scattercarpet\"}], \"scattergeo\": [{\"marker\": {\"colorbar\": {\"outlinewidth\": 0, \"ticks\": \"\"}}, \"type\": \"scattergeo\"}], \"scattergl\": [{\"marker\": {\"colorbar\": {\"outlinewidth\": 0, \"ticks\": \"\"}}, \"type\": \"scattergl\"}], \"scattermapbox\": [{\"marker\": {\"colorbar\": {\"outlinewidth\": 0, \"ticks\": \"\"}}, \"type\": \"scattermapbox\"}], \"scatterpolar\": [{\"marker\": {\"colorbar\": {\"outlinewidth\": 0, \"ticks\": \"\"}}, \"type\": \"scatterpolar\"}], \"scatterpolargl\": [{\"marker\": {\"colorbar\": {\"outlinewidth\": 0, \"ticks\": \"\"}}, \"type\": \"scatterpolargl\"}], \"scatterternary\": [{\"marker\": {\"colorbar\": {\"outlinewidth\": 0, \"ticks\": \"\"}}, \"type\": \"scatterternary\"}], \"surface\": [{\"colorbar\": {\"outlinewidth\": 0, \"ticks\": \"\"}, \"colorscale\": [[0.0, \"#0d0887\"], [0.1111111111111111, \"#46039f\"], [0.2222222222222222, \"#7201a8\"], [0.3333333333333333, \"#9c179e\"], [0.4444444444444444, \"#bd3786\"], [0.5555555555555556, \"#d8576b\"], [0.6666666666666666, \"#ed7953\"], [0.7777777777777778, \"#fb9f3a\"], [0.8888888888888888, \"#fdca26\"], [1.0, \"#f0f921\"]], \"type\": \"surface\"}], \"table\": [{\"cells\": {\"fill\": {\"color\": \"#EBF0F8\"}, \"line\": {\"color\": \"white\"}}, \"header\": {\"fill\": {\"color\": \"#C8D4E3\"}, \"line\": {\"color\": \"white\"}}, \"type\": \"table\"}]}, \"layout\": {\"annotationdefaults\": {\"arrowcolor\": \"#2a3f5f\", \"arrowhead\": 0, \"arrowwidth\": 1}, \"autotypenumbers\": \"strict\", \"coloraxis\": {\"colorbar\": {\"outlinewidth\": 0, \"ticks\": \"\"}}, \"colorscale\": {\"diverging\": [[0, \"#8e0152\"], [0.1, \"#c51b7d\"], [0.2, \"#de77ae\"], [0.3, \"#f1b6da\"], [0.4, \"#fde0ef\"], [0.5, \"#f7f7f7\"], [0.6, \"#e6f5d0\"], [0.7, \"#b8e186\"], [0.8, \"#7fbc41\"], [0.9, \"#4d9221\"], [1, \"#276419\"]], \"sequential\": [[0.0, \"#0d0887\"], [0.1111111111111111, \"#46039f\"], [0.2222222222222222, \"#7201a8\"], [0.3333333333333333, \"#9c179e\"], [0.4444444444444444, \"#bd3786\"], [0.5555555555555556, \"#d8576b\"], [0.6666666666666666, \"#ed7953\"], [0.7777777777777778, \"#fb9f3a\"], [0.8888888888888888, \"#fdca26\"], [1.0, \"#f0f921\"]], \"sequentialminus\": [[0.0, \"#0d0887\"], [0.1111111111111111, \"#46039f\"], [0.2222222222222222, \"#7201a8\"], [0.3333333333333333, \"#9c179e\"], [0.4444444444444444, \"#bd3786\"], [0.5555555555555556, \"#d8576b\"], [0.6666666666666666, \"#ed7953\"], [0.7777777777777778, \"#fb9f3a\"], [0.8888888888888888, \"#fdca26\"], [1.0, \"#f0f921\"]]}, \"colorway\": [\"#636efa\", \"#EF553B\", \"#00cc96\", \"#ab63fa\", \"#FFA15A\", \"#19d3f3\", \"#FF6692\", \"#B6E880\", \"#FF97FF\", \"#FECB52\"], \"font\": {\"color\": \"#2a3f5f\"}, \"geo\": {\"bgcolor\": \"white\", \"lakecolor\": \"white\", \"landcolor\": \"#E5ECF6\", \"showlakes\": true, \"showland\": true, \"subunitcolor\": \"white\"}, \"hoverlabel\": {\"align\": \"left\"}, \"hovermode\": \"closest\", \"mapbox\": {\"style\": \"light\"}, \"paper_bgcolor\": \"white\", \"plot_bgcolor\": \"#E5ECF6\", \"polar\": {\"angularaxis\": {\"gridcolor\": \"white\", \"linecolor\": \"white\", \"ticks\": \"\"}, \"bgcolor\": \"#E5ECF6\", \"radialaxis\": {\"gridcolor\": \"white\", \"linecolor\": \"white\", \"ticks\": \"\"}}, \"scene\": {\"xaxis\": {\"backgroundcolor\": \"#E5ECF6\", \"gridcolor\": \"white\", \"gridwidth\": 2, \"linecolor\": \"white\", \"showbackground\": true, \"ticks\": \"\", \"zerolinecolor\": \"white\"}, \"yaxis\": {\"backgroundcolor\": \"#E5ECF6\", \"gridcolor\": \"white\", \"gridwidth\": 2, \"linecolor\": \"white\", \"showbackground\": true, \"ticks\": \"\", \"zerolinecolor\": \"white\"}, \"zaxis\": {\"backgroundcolor\": \"#E5ECF6\", \"gridcolor\": \"white\", \"gridwidth\": 2, \"linecolor\": \"white\", \"showbackground\": true, \"ticks\": \"\", \"zerolinecolor\": \"white\"}}, \"shapedefaults\": {\"line\": {\"color\": \"#2a3f5f\"}}, \"ternary\": {\"aaxis\": {\"gridcolor\": \"white\", \"linecolor\": \"white\", \"ticks\": \"\"}, \"baxis\": {\"gridcolor\": \"white\", \"linecolor\": \"white\", \"ticks\": \"\"}, \"bgcolor\": \"#E5ECF6\", \"caxis\": {\"gridcolor\": \"white\", \"linecolor\": \"white\", \"ticks\": \"\"}}, \"title\": {\"x\": 0.05}, \"xaxis\": {\"automargin\": true, \"gridcolor\": \"white\", \"linecolor\": \"white\", \"ticks\": \"\", \"title\": {\"standoff\": 15}, \"zerolinecolor\": \"white\", \"zerolinewidth\": 2}, \"yaxis\": {\"automargin\": true, \"gridcolor\": \"white\", \"linecolor\": \"white\", \"ticks\": \"\", \"title\": {\"standoff\": 15}, \"zerolinecolor\": \"white\", \"zerolinewidth\": 2}}}, \"title\": {\"font\": {\"color\": \"#4D5663\"}, \"text\": \"Missing Values Plot in Testset\"}, \"xaxis\": {\"gridcolor\": \"#E1E5ED\", \"showgrid\": true, \"tickfont\": {\"color\": \"#4D5663\"}, \"title\": {\"font\": {\"color\": \"#4D5663\"}, \"text\": \"Features\"}, \"zerolinecolor\": \"#E1E5ED\"}, \"yaxis\": {\"gridcolor\": \"#E1E5ED\", \"showgrid\": true, \"tickfont\": {\"color\": \"#4D5663\"}, \"title\": {\"font\": {\"color\": \"#4D5663\"}, \"text\": \"Count\"}, \"zerolinecolor\": \"#E1E5ED\"}},                        {\"showLink\": true, \"linkText\": \"Export to plot.ly\", \"plotlyServerURL\": \"https://plot.ly\", \"responsive\": true}                    ).then(function(){\n",
       "                            \n",
       "var gd = document.getElementById('a34af587-2d0f-4c6a-9cef-8509701aab77');\n",
       "var x = new MutationObserver(function (mutations, observer) {{\n",
       "        var display = window.getComputedStyle(gd).display;\n",
       "        if (!display || display === 'none') {{\n",
       "            console.log([gd, 'removed!']);\n",
       "            Plotly.purge(gd);\n",
       "            observer.disconnect();\n",
       "        }}\n",
       "}});\n",
       "\n",
       "// Listen for the removal of the full notebook cells\n",
       "var notebookContainer = gd.closest('#notebook-container');\n",
       "if (notebookContainer) {{\n",
       "    x.observe(notebookContainer, {childList: true});\n",
       "}}\n",
       "\n",
       "// Listen for the clearing of the current output cell\n",
       "var outputEl = gd.closest('.output');\n",
       "if (outputEl) {{\n",
       "    x.observe(outputEl, {childList: true});\n",
       "}}\n",
       "\n",
       "                        })                };                });            </script>        </div>"
      ]
     },
     "metadata": {},
     "output_type": "display_data"
    },
    {
     "data": {
      "text/html": [
       "<div>\n",
       "<style scoped>\n",
       "    .dataframe tbody tr th:only-of-type {\n",
       "        vertical-align: middle;\n",
       "    }\n",
       "\n",
       "    .dataframe tbody tr th {\n",
       "        vertical-align: top;\n",
       "    }\n",
       "\n",
       "    .dataframe thead th {\n",
       "        text-align: right;\n",
       "    }\n",
       "</style>\n",
       "<table border=\"1\" class=\"dataframe\">\n",
       "  <thead>\n",
       "    <tr style=\"text-align: right;\">\n",
       "      <th>features</th>\n",
       "      <th>ID</th>\n",
       "      <th>Type</th>\n",
       "      <th>Region</th>\n",
       "      <th>City Code</th>\n",
       "      <th>Prefecture Name</th>\n",
       "      <th>City Name</th>\n",
       "      <th>District Name</th>\n",
       "      <th>Nearest Station: Name</th>\n",
       "      <th>Nearest station: Distance (minutes)</th>\n",
       "      <th>Floor plan</th>\n",
       "      <th>Area (㎡)</th>\n",
       "      <th>Land shape</th>\n",
       "      <th>Frontage</th>\n",
       "      <th>Total floor area (㎡)</th>\n",
       "      <th>Building year</th>\n",
       "      <th>Building structure</th>\n",
       "      <th>Use</th>\n",
       "      <th>Purpose of future use</th>\n",
       "      <th>Front road: Direction</th>\n",
       "      <th>Front road: Type</th>\n",
       "      <th>Front road: Width (m)</th>\n",
       "      <th>City planning</th>\n",
       "      <th>Building coverage ratio (%)</th>\n",
       "      <th>Floor area ratio (%)</th>\n",
       "      <th>At the time of transaction</th>\n",
       "      <th>Refurbishment</th>\n",
       "      <th>Transaction circumstances, etc.</th>\n",
       "    </tr>\n",
       "  </thead>\n",
       "  <tbody>\n",
       "    <tr>\n",
       "      <th>total_missing</th>\n",
       "      <td>0.0</td>\n",
       "      <td>0.0</td>\n",
       "      <td>17894.000000</td>\n",
       "      <td>0.0</td>\n",
       "      <td>0.0</td>\n",
       "      <td>0.0</td>\n",
       "      <td>3.00000</td>\n",
       "      <td>23.000000</td>\n",
       "      <td>23.000000</td>\n",
       "      <td>812.000000</td>\n",
       "      <td>0.0</td>\n",
       "      <td>17894.000000</td>\n",
       "      <td>17894.000000</td>\n",
       "      <td>17894.000000</td>\n",
       "      <td>607.000000</td>\n",
       "      <td>1118.000000</td>\n",
       "      <td>5370.000000</td>\n",
       "      <td>795.000000</td>\n",
       "      <td>17894.000000</td>\n",
       "      <td>17894.000000</td>\n",
       "      <td>17894.000000</td>\n",
       "      <td>277.000000</td>\n",
       "      <td>365.000000</td>\n",
       "      <td>365.000000</td>\n",
       "      <td>0.0</td>\n",
       "      <td>2267.000000</td>\n",
       "      <td>17801.000000</td>\n",
       "    </tr>\n",
       "    <tr>\n",
       "      <th>percent</th>\n",
       "      <td>0.0</td>\n",
       "      <td>0.0</td>\n",
       "      <td>2.744584</td>\n",
       "      <td>0.0</td>\n",
       "      <td>0.0</td>\n",
       "      <td>0.0</td>\n",
       "      <td>0.00046</td>\n",
       "      <td>0.003528</td>\n",
       "      <td>0.003528</td>\n",
       "      <td>0.124545</td>\n",
       "      <td>0.0</td>\n",
       "      <td>2.744584</td>\n",
       "      <td>2.744584</td>\n",
       "      <td>2.744584</td>\n",
       "      <td>0.093102</td>\n",
       "      <td>0.171479</td>\n",
       "      <td>0.823651</td>\n",
       "      <td>0.121937</td>\n",
       "      <td>2.744584</td>\n",
       "      <td>2.744584</td>\n",
       "      <td>2.744584</td>\n",
       "      <td>0.042486</td>\n",
       "      <td>0.055984</td>\n",
       "      <td>0.055984</td>\n",
       "      <td>0.0</td>\n",
       "      <td>0.347713</td>\n",
       "      <td>2.730319</td>\n",
       "    </tr>\n",
       "  </tbody>\n",
       "</table>\n",
       "</div>"
      ],
      "text/plain": [
       "features        ID  Type        Region  City Code  Prefecture Name  City Name  \\\n",
       "total_missing  0.0   0.0  17894.000000        0.0              0.0        0.0   \n",
       "percent        0.0   0.0      2.744584        0.0              0.0        0.0   \n",
       "\n",
       "features       District Name  Nearest Station: Name  \\\n",
       "total_missing        3.00000              23.000000   \n",
       "percent              0.00046               0.003528   \n",
       "\n",
       "features       Nearest station: Distance (minutes)  Floor plan  Area (㎡)  \\\n",
       "total_missing                            23.000000  812.000000       0.0   \n",
       "percent                                   0.003528    0.124545       0.0   \n",
       "\n",
       "features         Land shape      Frontage  Total floor area (㎡)  \\\n",
       "total_missing  17894.000000  17894.000000          17894.000000   \n",
       "percent            2.744584      2.744584              2.744584   \n",
       "\n",
       "features       Building year  Building structure          Use  \\\n",
       "total_missing     607.000000         1118.000000  5370.000000   \n",
       "percent             0.093102            0.171479     0.823651   \n",
       "\n",
       "features       Purpose of future use  Front road: Direction  Front road: Type  \\\n",
       "total_missing             795.000000           17894.000000      17894.000000   \n",
       "percent                     0.121937               2.744584          2.744584   \n",
       "\n",
       "features       Front road: Width (m)  City planning  \\\n",
       "total_missing           17894.000000     277.000000   \n",
       "percent                     2.744584       0.042486   \n",
       "\n",
       "features       Building coverage ratio (%)  Floor area ratio (%)  \\\n",
       "total_missing                   365.000000            365.000000   \n",
       "percent                           0.055984              0.055984   \n",
       "\n",
       "features       At the time of transaction  Refurbishment  \\\n",
       "total_missing                         0.0    2267.000000   \n",
       "percent                               0.0       0.347713   \n",
       "\n",
       "features       Transaction circumstances, etc.  \n",
       "total_missing                     17801.000000  \n",
       "percent                               2.730319  "
      ]
     },
     "execution_count": 10,
     "metadata": {},
     "output_type": "execute_result"
    }
   ],
   "source": [
    "test_missing = test.isna().sum().reset_index()\n",
    "test_missing.columns = ['features', 'total_missing']\n",
    "test_missing['percent'] = (test_missing['total_missing'] / len(train)) * 100\n",
    "test_missing.index = test_missing['features']\n",
    "del test_missing['features']\n",
    "\n",
    "test_missing['total_missing'].iplot(kind = 'bar', \n",
    "                               title = 'Missing Values Plot in Testset',\n",
    "                               xTitle = 'Features',\n",
    "                               yTitle = 'Count')\n",
    "test_missing.T"
   ]
  },
  {
   "cell_type": "code",
   "execution_count": 11,
   "id": "governmental-gallery",
   "metadata": {
    "execution": {
     "iopub.execute_input": "2021-04-11T07:38:04.352104Z",
     "iopub.status.busy": "2021-04-11T07:38:04.349305Z",
     "iopub.status.idle": "2021-04-11T07:38:04.357338Z",
     "shell.execute_reply": "2021-04-11T07:38:04.356683Z"
    },
    "papermill": {
     "duration": 0.177842,
     "end_time": "2021-04-11T07:38:04.357477",
     "exception": false,
     "start_time": "2021-04-11T07:38:04.179635",
     "status": "completed"
    },
    "tags": []
   },
   "outputs": [
    {
     "name": "stdout",
     "output_type": "stream",
     "text": [
      "Number of features to drop: 8\n"
     ]
    },
    {
     "data": {
      "text/plain": [
       "((651975, 20), (17894, 19))"
      ]
     },
     "execution_count": 11,
     "metadata": {},
     "output_type": "execute_result"
    }
   ],
   "source": [
    "drop_cols = missing[missing['percent'] > 95].index.tolist()\n",
    "print(f\"Number of features to drop: {len(drop_cols)}\")\n",
    "train.drop(drop_cols, axis = 1, inplace = True)\n",
    "test.drop(drop_cols, axis = 1, inplace = True)\n",
    "train.shape, test.shape"
   ]
  },
  {
   "cell_type": "markdown",
   "id": "handmade-helping",
   "metadata": {
    "papermill": {
     "duration": 0.04985,
     "end_time": "2021-04-11T07:38:04.459966",
     "exception": false,
     "start_time": "2021-04-11T07:38:04.410116",
     "status": "completed"
    },
    "tags": []
   },
   "source": [
    "- We should drop 'Type' as well as Type has only one value in train"
   ]
  },
  {
   "cell_type": "code",
   "execution_count": 12,
   "id": "canadian-chamber",
   "metadata": {
    "execution": {
     "iopub.execute_input": "2021-04-11T07:38:04.668239Z",
     "iopub.status.busy": "2021-04-11T07:38:04.667497Z",
     "iopub.status.idle": "2021-04-11T07:38:04.676933Z",
     "shell.execute_reply": "2021-04-11T07:38:04.676339Z"
    },
    "papermill": {
     "duration": 0.166917,
     "end_time": "2021-04-11T07:38:04.677097",
     "exception": false,
     "start_time": "2021-04-11T07:38:04.510180",
     "status": "completed"
    },
    "tags": []
   },
   "outputs": [
    {
     "data": {
      "text/plain": [
       "((651975, 19), (17894, 18))"
      ]
     },
     "execution_count": 12,
     "metadata": {},
     "output_type": "execute_result"
    }
   ],
   "source": [
    "train.drop('Type', axis = 1, inplace = True)\n",
    "test.drop('Type', axis = 1, inplace = True)\n",
    "train.shape, test.shape"
   ]
  },
  {
   "cell_type": "code",
   "execution_count": 13,
   "id": "integrated-remainder",
   "metadata": {
    "execution": {
     "iopub.execute_input": "2021-04-11T07:38:04.925493Z",
     "iopub.status.busy": "2021-04-11T07:38:04.924810Z",
     "iopub.status.idle": "2021-04-11T07:38:04.931733Z",
     "shell.execute_reply": "2021-04-11T07:38:04.931200Z"
    },
    "papermill": {
     "duration": 0.203614,
     "end_time": "2021-04-11T07:38:04.931906",
     "exception": false,
     "start_time": "2021-04-11T07:38:04.728292",
     "status": "completed"
    },
    "tags": []
   },
   "outputs": [
    {
     "data": {
      "text/plain": [
       "1763"
      ]
     },
     "execution_count": 13,
     "metadata": {},
     "output_type": "execute_result"
    }
   ],
   "source": [
    "del missing, test_missing\n",
    "gc.collect()"
   ]
  },
  {
   "cell_type": "code",
   "execution_count": 14,
   "id": "interesting-replication",
   "metadata": {
    "execution": {
     "iopub.execute_input": "2021-04-11T07:38:05.056860Z",
     "iopub.status.busy": "2021-04-11T07:38:05.056161Z",
     "iopub.status.idle": "2021-04-11T07:38:09.009651Z",
     "shell.execute_reply": "2021-04-11T07:38:09.008752Z"
    },
    "papermill": {
     "duration": 4.026112,
     "end_time": "2021-04-11T07:38:09.009818",
     "exception": false,
     "start_time": "2021-04-11T07:38:04.983706",
     "status": "completed"
    },
    "tags": []
   },
   "outputs": [
    {
     "data": {
      "image/png": "[encoded data removed]",
      "text/plain": [
       "<Figure size 864x576 with 1 Axes>"
      ]
     },
     "metadata": {},
     "output_type": "display_data"
    }
   ],
   "source": [
    "sns.distplot(train['Transaction price (total amount) _log']);"
   ]
  },
  {
   "cell_type": "code",
   "execution_count": 15,
   "id": "sublime-witness",
   "metadata": {
    "execution": {
     "iopub.execute_input": "2021-04-11T07:38:09.276167Z",
     "iopub.status.busy": "2021-04-11T07:38:09.214869Z",
     "iopub.status.idle": "2021-04-11T07:38:09.325207Z",
     "shell.execute_reply": "2021-04-11T07:38:09.325700Z"
    },
    "papermill": {
     "duration": 0.263187,
     "end_time": "2021-04-11T07:38:09.325883",
     "exception": false,
     "start_time": "2021-04-11T07:38:09.062696",
     "status": "completed"
    },
    "tags": []
   },
   "outputs": [
    {
     "data": {
      "application/vnd.plotly.v1+json": {
       "config": {
        "linkText": "Export to plot.ly",
        "plotlyServerURL": "https://plot.ly",
        "showLink": true
       },
       "data": [
        {
         "marker": {
          "color": "rgba(255, 153, 51, 0.6)",
          "line": {
           "color": "rgba(255, 153, 51, 1.0)",
           "width": 1
          }
         },
         "name": "Floor plan",
         "orientation": "h",
         "text": "",
         "type": "bar",
         "x": [
          1,
          1,
          1,
          1,
          1,
          1,
          1,
          1,
          1,
          1,
          1,
          2,
          2,
          2,
          2,
          3,
          3,
          3,
          3,
          4,
          4,
          5,
          5,
          5,
          7,
          8,
          8,
          9,
          10,
          11,
          13,
          17,
          20,
          21,
          22,
          28,
          30,
          35,
          72,
          76,
          83,
          95,
          111,
          157,
          166,
          441,
          480,
          843,
          912,
          1099,
          1294,
          1715,
          3834,
          5263,
          6891,
          12041,
          18962,
          20805,
          27500,
          59745,
          93683,
          94656,
          278329
         ],
         "y": [
          "２Ｄ",
          "２Ｌ＋Ｓ",
          "７ＤＫ",
          "１Ｌ＋Ｓ",
          "５ＬＤＫ＋Ｋ",
          "４Ｌ",
          "２ＬＤ",
          "２ＬＤＫ＋Ｋ",
          "４Ｄ",
          "１ＤＫ＋Ｋ",
          "８ＬＤＫ＋Ｓ",
          "３Ｄ",
          "７ＬＤＫ＋Ｓ",
          "８ＬＤＫ",
          "２Ｌ",
          "１ＬＤ＋Ｓ",
          "４ＬＤＫ＋Ｋ",
          "６ＬＤＫ＋Ｓ",
          "３Ｋ＋Ｓ",
          "５Ｋ",
          "２ＬＫ＋Ｓ",
          "７ＬＤＫ",
          "３ＬＤ＋Ｓ",
          "６ＤＫ",
          "３ＬＤＫ＋Ｋ",
          "４Ｌ＋Ｋ",
          "１Ｌ",
          "２ＬＤ＋Ｓ",
          "３ＬＤ",
          "２Ｋ＋Ｓ",
          "１ＬＫ",
          "１Ｒ＋Ｓ",
          "１Ｋ＋Ｓ",
          "２ＬＫ",
          "４ＤＫ＋Ｓ",
          "メゾネット",
          "５ＬＤＫ＋Ｓ",
          "６ＬＤＫ",
          "３ＤＫ＋Ｓ",
          "１ＤＫ＋Ｓ",
          "スタジオ",
          "５ＤＫ",
          "３ＬＫ",
          "４Ｋ",
          "４ＬＤＫ＋Ｓ",
          "２ＤＫ＋Ｓ",
          "３Ｋ",
          "５ＬＤＫ",
          "３ＬＤＫ＋Ｓ",
          "１ＬＤＫ＋Ｓ",
          "２Ｋ",
          "４ＤＫ",
          "２ＬＤＫ＋Ｓ",
          "オープンフロア",
          "１Ｒ",
          "３ＤＫ",
          "１ＤＫ",
          "２ＤＫ",
          "１ＬＤＫ",
          "４ＬＤＫ",
          "２ＬＤＫ",
          "１Ｋ",
          "３ＬＤＫ"
         ]
        }
       ],
       "layout": {
        "legend": {
         "bgcolor": "#F5F6F9",
         "font": {
          "color": "#4D5663"
         }
        },
        "paper_bgcolor": "#F5F6F9",
        "plot_bgcolor": "#F5F6F9",
        "template": {
         "data": {
          "bar": [
           {
            "error_x": {
             "color": "#2a3f5f"
            },
            "error_y": {
             "color": "#2a3f5f"
            },
            "marker": {
             "line": {
              "color": "#E5ECF6",
              "width": 0.5
             }
            },
            "type": "bar"
           }
          ],
          "barpolar": [
           {
            "marker": {
             "line": {
              "color": "#E5ECF6",
              "width": 0.5
             }
            },
            "type": "barpolar"
           }
          ],
          "carpet": [
           {
            "aaxis": {
             "endlinecolor": "#2a3f5f",
             "gridcolor": "white",
             "linecolor": "white",
             "minorgridcolor": "white",
             "startlinecolor": "#2a3f5f"
            },
            "baxis": {
             "endlinecolor": "#2a3f5f",
             "gridcolor": "white",
             "linecolor": "white",
             "minorgridcolor": "white",
             "startlinecolor": "#2a3f5f"
            },
            "type": "carpet"
           }
          ],
          "choropleth": [
           {
            "colorbar": {
             "outlinewidth": 0,
             "ticks": ""
            },
            "type": "choropleth"
           }
          ],
          "contour": [
           {
            "colorbar": {
             "outlinewidth": 0,
             "ticks": ""
            },
            "colorscale": [
             [
              0.0,
              "#0d0887"
             ],
             [
              0.1111111111111111,
              "#46039f"
             ],
             [
              0.2222222222222222,
              "#7201a8"
             ],
             [
              0.3333333333333333,
              "#9c179e"
             ],
             [
              0.4444444444444444,
              "#bd3786"
             ],
             [
              0.5555555555555556,
              "#d8576b"
             ],
             [
              0.6666666666666666,
              "#ed7953"
             ],
             [
              0.7777777777777778,
              "#fb9f3a"
             ],
             [
              0.8888888888888888,
              "#fdca26"
             ],
             [
              1.0,
              "#f0f921"
             ]
            ],
            "type": "contour"
           }
          ],
          "contourcarpet": [
           {
            "colorbar": {
             "outlinewidth": 0,
             "ticks": ""
            },
            "type": "contourcarpet"
           }
          ],
          "heatmap": [
           {
            "colorbar": {
             "outlinewidth": 0,
             "ticks": ""
            },
            "colorscale": [
             [
              0.0,
              "#0d0887"
             ],
             [
              0.1111111111111111,
              "#46039f"
             ],
             [
              0.2222222222222222,
              "#7201a8"
             ],
             [
              0.3333333333333333,
              "#9c179e"
             ],
             [
              0.4444444444444444,
              "#bd3786"
             ],
             [
              0.5555555555555556,
              "#d8576b"
             ],
             [
              0.6666666666666666,
              "#ed7953"
             ],
             [
              0.7777777777777778,
              "#fb9f3a"
             ],
             [
              0.8888888888888888,
              "#fdca26"
             ],
             [
              1.0,
              "#f0f921"
             ]
            ],
            "type": "heatmap"
           }
          ],
          "heatmapgl": [
           {
            "colorbar": {
             "outlinewidth": 0,
             "ticks": ""
            },
            "colorscale": [
             [
              0.0,
              "#0d0887"
             ],
             [
              0.1111111111111111,
              "#46039f"
             ],
             [
              0.2222222222222222,
              "#7201a8"
             ],
             [
              0.3333333333333333,
              "#9c179e"
             ],
             [
              0.4444444444444444,
              "#bd3786"
             ],
             [
              0.5555555555555556,
              "#d8576b"
             ],
             [
              0.6666666666666666,
              "#ed7953"
             ],
             [
              0.7777777777777778,
              "#fb9f3a"
             ],
             [
              0.8888888888888888,
              "#fdca26"
             ],
             [
              1.0,
              "#f0f921"
             ]
            ],
            "type": "heatmapgl"
           }
          ],
          "histogram": [
           {
            "marker": {
             "colorbar": {
              "outlinewidth": 0,
              "ticks": ""
             }
            },
            "type": "histogram"
           }
          ],
          "histogram2d": [
           {
            "colorbar": {
             "outlinewidth": 0,
             "ticks": ""
            },
            "colorscale": [
             [
              0.0,
              "#0d0887"
             ],
             [
              0.1111111111111111,
              "#46039f"
             ],
             [
              0.2222222222222222,
              "#7201a8"
             ],
             [
              0.3333333333333333,
              "#9c179e"
             ],
             [
              0.4444444444444444,
              "#bd3786"
             ],
             [
              0.5555555555555556,
              "#d8576b"
             ],
             [
              0.6666666666666666,
              "#ed7953"
             ],
             [
              0.7777777777777778,
              "#fb9f3a"
             ],
             [
              0.8888888888888888,
              "#fdca26"
             ],
             [
              1.0,
              "#f0f921"
             ]
            ],
            "type": "histogram2d"
           }
          ],
          "histogram2dcontour": [
           {
            "colorbar": {
             "outlinewidth": 0,
             "ticks": ""
            },
            "colorscale": [
             [
              0.0,
              "#0d0887"
             ],
             [
              0.1111111111111111,
              "#46039f"
             ],
             [
              0.2222222222222222,
              "#7201a8"
             ],
             [
              0.3333333333333333,
              "#9c179e"
             ],
             [
              0.4444444444444444,
              "#bd3786"
             ],
             [
              0.5555555555555556,
              "#d8576b"
             ],
             [
              0.6666666666666666,
              "#ed7953"
             ],
             [
              0.7777777777777778,
              "#fb9f3a"
             ],
             [
              0.8888888888888888,
              "#fdca26"
             ],
             [
              1.0,
              "#f0f921"
             ]
            ],
            "type": "histogram2dcontour"
           }
          ],
          "mesh3d": [
           {
            "colorbar": {
             "outlinewidth": 0,
             "ticks": ""
            },
            "type": "mesh3d"
           }
          ],
          "parcoords": [
           {
            "line": {
             "colorbar": {
              "outlinewidth": 0,
              "ticks": ""
             }
            },
            "type": "parcoords"
           }
          ],
          "pie": [
           {
            "automargin": true,
            "type": "pie"
           }
          ],
          "scatter": [
           {
            "marker": {
             "colorbar": {
              "outlinewidth": 0,
              "ticks": ""
             }
            },
            "type": "scatter"
           }
          ],
          "scatter3d": [
           {
            "line": {
             "colorbar": {
              "outlinewidth": 0,
              "ticks": ""
             }
            },
            "marker": {
             "colorbar": {
              "outlinewidth": 0,
              "ticks": ""
             }
            },
            "type": "scatter3d"
           }
          ],
          "scattercarpet": [
           {
            "marker": {
             "colorbar": {
              "outlinewidth": 0,
              "ticks": ""
             }
            },
            "type": "scattercarpet"
           }
          ],
          "scattergeo": [
           {
            "marker": {
             "colorbar": {
              "outlinewidth": 0,
              "ticks": ""
             }
            },
            "type": "scattergeo"
           }
          ],
          "scattergl": [
           {
            "marker": {
             "colorbar": {
              "outlinewidth": 0,
              "ticks": ""
             }
            },
            "type": "scattergl"
           }
          ],
          "scattermapbox": [
           {
            "marker": {
             "colorbar": {
              "outlinewidth": 0,
              "ticks": ""
             }
            },
            "type": "scattermapbox"
           }
          ],
          "scatterpolar": [
           {
            "marker": {
             "colorbar": {
              "outlinewidth": 0,
              "ticks": ""
             }
            },
            "type": "scatterpolar"
           }
          ],
          "scatterpolargl": [
           {
            "marker": {
             "colorbar": {
              "outlinewidth": 0,
              "ticks": ""
             }
            },
            "type": "scatterpolargl"
           }
          ],
          "scatterternary": [
           {
            "marker": {
             "colorbar": {
              "outlinewidth": 0,
              "ticks": ""
             }
            },
            "type": "scatterternary"
           }
          ],
          "surface": [
           {
            "colorbar": {
             "outlinewidth": 0,
             "ticks": ""
            },
            "colorscale": [
             [
              0.0,
              "#0d0887"
             ],
             [
              0.1111111111111111,
              "#46039f"
             ],
             [
              0.2222222222222222,
              "#7201a8"
             ],
             [
              0.3333333333333333,
              "#9c179e"
             ],
             [
              0.4444444444444444,
              "#bd3786"
             ],
             [
              0.5555555555555556,
              "#d8576b"
             ],
             [
              0.6666666666666666,
              "#ed7953"
             ],
             [
              0.7777777777777778,
              "#fb9f3a"
             ],
             [
              0.8888888888888888,
              "#fdca26"
             ],
             [
              1.0,
              "#f0f921"
             ]
            ],
            "type": "surface"
           }
          ],
          "table": [
           {
            "cells": {
             "fill": {
              "color": "#EBF0F8"
             },
             "line": {
              "color": "white"
             }
            },
            "header": {
             "fill": {
              "color": "#C8D4E3"
             },
             "line": {
              "color": "white"
             }
            },
            "type": "table"
           }
          ]
         },
         "layout": {
          "annotationdefaults": {
           "arrowcolor": "#2a3f5f",
           "arrowhead": 0,
           "arrowwidth": 1
          },
          "autotypenumbers": "strict",
          "coloraxis": {
           "colorbar": {
            "outlinewidth": 0,
            "ticks": ""
           }
          },
          "colorscale": {
           "diverging": [
            [
             0,
             "#8e0152"
            ],
            [
             0.1,
             "#c51b7d"
            ],
            [
             0.2,
             "#de77ae"
            ],
            [
             0.3,
             "#f1b6da"
            ],
            [
             0.4,
             "#fde0ef"
            ],
            [
             0.5,
             "#f7f7f7"
            ],
            [
             0.6,
             "#e6f5d0"
            ],
            [
             0.7,
             "#b8e186"
            ],
            [
             0.8,
             "#7fbc41"
            ],
            [
             0.9,
             "#4d9221"
            ],
            [
             1,
             "#276419"
            ]
           ],
           "sequential": [
            [
             0.0,
             "#0d0887"
            ],
            [
             0.1111111111111111,
             "#46039f"
            ],
            [
             0.2222222222222222,
             "#7201a8"
            ],
            [
             0.3333333333333333,
             "#9c179e"
            ],
            [
             0.4444444444444444,
             "#bd3786"
            ],
            [
             0.5555555555555556,
             "#d8576b"
            ],
            [
             0.6666666666666666,
             "#ed7953"
            ],
            [
             0.7777777777777778,
             "#fb9f3a"
            ],
            [
             0.8888888888888888,
             "#fdca26"
            ],
            [
             1.0,
             "#f0f921"
            ]
           ],
           "sequentialminus": [
            [
             0.0,
             "#0d0887"
            ],
            [
             0.1111111111111111,
             "#46039f"
            ],
            [
             0.2222222222222222,
             "#7201a8"
            ],
            [
             0.3333333333333333,
             "#9c179e"
            ],
            [
             0.4444444444444444,
             "#bd3786"
            ],
            [
             0.5555555555555556,
             "#d8576b"
            ],
            [
             0.6666666666666666,
             "#ed7953"
            ],
            [
             0.7777777777777778,
             "#fb9f3a"
            ],
            [
             0.8888888888888888,
             "#fdca26"
            ],
            [
             1.0,
             "#f0f921"
            ]
           ]
          },
          "colorway": [
           "#636efa",
           "#EF553B",
           "#00cc96",
           "#ab63fa",
           "#FFA15A",
           "#19d3f3",
           "#FF6692",
           "#B6E880",
           "#FF97FF",
           "#FECB52"
          ],
          "font": {
           "color": "#2a3f5f"
          },
          "geo": {
           "bgcolor": "white",
           "lakecolor": "white",
           "landcolor": "#E5ECF6",
           "showlakes": true,
           "showland": true,
           "subunitcolor": "white"
          },
          "hoverlabel": {
           "align": "left"
          },
          "hovermode": "closest",
          "mapbox": {
           "style": "light"
          },
          "paper_bgcolor": "white",
          "plot_bgcolor": "#E5ECF6",
          "polar": {
           "angularaxis": {
            "gridcolor": "white",
            "linecolor": "white",
            "ticks": ""
           },
           "bgcolor": "#E5ECF6",
           "radialaxis": {
            "gridcolor": "white",
            "linecolor": "white",
            "ticks": ""
           }
          },
          "scene": {
           "xaxis": {
            "backgroundcolor": "#E5ECF6",
            "gridcolor": "white",
            "gridwidth": 2,
            "linecolor": "white",
            "showbackground": true,
            "ticks": "",
            "zerolinecolor": "white"
           },
           "yaxis": {
            "backgroundcolor": "#E5ECF6",
            "gridcolor": "white",
            "gridwidth": 2,
            "linecolor": "white",
            "showbackground": true,
            "ticks": "",
            "zerolinecolor": "white"
           },
           "zaxis": {
            "backgroundcolor": "#E5ECF6",
            "gridcolor": "white",
            "gridwidth": 2,
            "linecolor": "white",
            "showbackground": true,
            "ticks": "",
            "zerolinecolor": "white"
           }
          },
          "shapedefaults": {
           "line": {
            "color": "#2a3f5f"
           }
          },
          "ternary": {
           "aaxis": {
            "gridcolor": "white",
            "linecolor": "white",
            "ticks": ""
           },
           "baxis": {
            "gridcolor": "white",
            "linecolor": "white",
            "ticks": ""
           },
           "bgcolor": "#E5ECF6",
           "caxis": {
            "gridcolor": "white",
            "linecolor": "white",
            "ticks": ""
           }
          },
          "title": {
           "x": 0.05
          },
          "xaxis": {
           "automargin": true,
           "gridcolor": "white",
           "linecolor": "white",
           "ticks": "",
           "title": {
            "standoff": 15
           },
           "zerolinecolor": "white",
           "zerolinewidth": 2
          },
          "yaxis": {
           "automargin": true,
           "gridcolor": "white",
           "linecolor": "white",
           "ticks": "",
           "title": {
            "standoff": 15
           },
           "zerolinecolor": "white",
           "zerolinewidth": 2
          }
         }
        },
        "title": {
         "font": {
          "color": "#4D5663"
         },
         "text": "Countplot of Apartment Floor"
        },
        "xaxis": {
         "gridcolor": "#E1E5ED",
         "showgrid": true,
         "tickfont": {
          "color": "#4D5663"
         },
         "title": {
          "font": {
           "color": "#4D5663"
          },
          "text": ""
         },
         "zerolinecolor": "#E1E5ED"
        },
        "yaxis": {
         "gridcolor": "#E1E5ED",
         "showgrid": true,
         "tickfont": {
          "color": "#4D5663"
         },
         "title": {
          "font": {
           "color": "#4D5663"
          },
          "text": "Floors"
         },
         "zerolinecolor": "#E1E5ED"
        }
       }
      },
      "text/html": [
       "<div>                            <div id=\"d67100f2-ccdb-410c-8863-c26e4bbfab01\" class=\"plotly-graph-div\" style=\"height:525px; width:100%;\"></div>            <script type=\"text/javascript\">                require([\"plotly\"], function(Plotly) {                    window.PLOTLYENV=window.PLOTLYENV || {};\n",
       "                    window.PLOTLYENV.BASE_URL='https://plot.ly';                                    if (document.getElementById(\"d67100f2-ccdb-410c-8863-c26e4bbfab01\")) {                    Plotly.newPlot(                        \"d67100f2-ccdb-410c-8863-c26e4bbfab01\",                        [{\"marker\": {\"color\": \"rgba(255, 153, 51, 0.6)\", \"line\": {\"color\": \"rgba(255, 153, 51, 1.0)\", \"width\": 1}}, \"name\": \"Floor plan\", \"orientation\": \"h\", \"text\": \"\", \"type\": \"bar\", \"x\": [1, 1, 1, 1, 1, 1, 1, 1, 1, 1, 1, 2, 2, 2, 2, 3, 3, 3, 3, 4, 4, 5, 5, 5, 7, 8, 8, 9, 10, 11, 13, 17, 20, 21, 22, 28, 30, 35, 72, 76, 83, 95, 111, 157, 166, 441, 480, 843, 912, 1099, 1294, 1715, 3834, 5263, 6891, 12041, 18962, 20805, 27500, 59745, 93683, 94656, 278329], \"y\": [\"\\uff12\\uff24\", \"\\uff12\\uff2c\\uff0b\\uff33\", \"\\uff17\\uff24\\uff2b\", \"\\uff11\\uff2c\\uff0b\\uff33\", \"\\uff15\\uff2c\\uff24\\uff2b\\uff0b\\uff2b\", \"\\uff14\\uff2c\", \"\\uff12\\uff2c\\uff24\", \"\\uff12\\uff2c\\uff24\\uff2b\\uff0b\\uff2b\", \"\\uff14\\uff24\", \"\\uff11\\uff24\\uff2b\\uff0b\\uff2b\", \"\\uff18\\uff2c\\uff24\\uff2b\\uff0b\\uff33\", \"\\uff13\\uff24\", \"\\uff17\\uff2c\\uff24\\uff2b\\uff0b\\uff33\", \"\\uff18\\uff2c\\uff24\\uff2b\", \"\\uff12\\uff2c\", \"\\uff11\\uff2c\\uff24\\uff0b\\uff33\", \"\\uff14\\uff2c\\uff24\\uff2b\\uff0b\\uff2b\", \"\\uff16\\uff2c\\uff24\\uff2b\\uff0b\\uff33\", \"\\uff13\\uff2b\\uff0b\\uff33\", \"\\uff15\\uff2b\", \"\\uff12\\uff2c\\uff2b\\uff0b\\uff33\", \"\\uff17\\uff2c\\uff24\\uff2b\", \"\\uff13\\uff2c\\uff24\\uff0b\\uff33\", \"\\uff16\\uff24\\uff2b\", \"\\uff13\\uff2c\\uff24\\uff2b\\uff0b\\uff2b\", \"\\uff14\\uff2c\\uff0b\\uff2b\", \"\\uff11\\uff2c\", \"\\uff12\\uff2c\\uff24\\uff0b\\uff33\", \"\\uff13\\uff2c\\uff24\", \"\\uff12\\uff2b\\uff0b\\uff33\", \"\\uff11\\uff2c\\uff2b\", \"\\uff11\\uff32\\uff0b\\uff33\", \"\\uff11\\uff2b\\uff0b\\uff33\", \"\\uff12\\uff2c\\uff2b\", \"\\uff14\\uff24\\uff2b\\uff0b\\uff33\", \"\\u30e1\\u30be\\u30cd\\u30c3\\u30c8\", \"\\uff15\\uff2c\\uff24\\uff2b\\uff0b\\uff33\", \"\\uff16\\uff2c\\uff24\\uff2b\", \"\\uff13\\uff24\\uff2b\\uff0b\\uff33\", \"\\uff11\\uff24\\uff2b\\uff0b\\uff33\", \"\\u30b9\\u30bf\\u30b8\\u30aa\", \"\\uff15\\uff24\\uff2b\", \"\\uff13\\uff2c\\uff2b\", \"\\uff14\\uff2b\", \"\\uff14\\uff2c\\uff24\\uff2b\\uff0b\\uff33\", \"\\uff12\\uff24\\uff2b\\uff0b\\uff33\", \"\\uff13\\uff2b\", \"\\uff15\\uff2c\\uff24\\uff2b\", \"\\uff13\\uff2c\\uff24\\uff2b\\uff0b\\uff33\", \"\\uff11\\uff2c\\uff24\\uff2b\\uff0b\\uff33\", \"\\uff12\\uff2b\", \"\\uff14\\uff24\\uff2b\", \"\\uff12\\uff2c\\uff24\\uff2b\\uff0b\\uff33\", \"\\u30aa\\u30fc\\u30d7\\u30f3\\u30d5\\u30ed\\u30a2\", \"\\uff11\\uff32\", \"\\uff13\\uff24\\uff2b\", \"\\uff11\\uff24\\uff2b\", \"\\uff12\\uff24\\uff2b\", \"\\uff11\\uff2c\\uff24\\uff2b\", \"\\uff14\\uff2c\\uff24\\uff2b\", \"\\uff12\\uff2c\\uff24\\uff2b\", \"\\uff11\\uff2b\", \"\\uff13\\uff2c\\uff24\\uff2b\"]}],                        {\"legend\": {\"bgcolor\": \"#F5F6F9\", \"font\": {\"color\": \"#4D5663\"}}, \"paper_bgcolor\": \"#F5F6F9\", \"plot_bgcolor\": \"#F5F6F9\", \"template\": {\"data\": {\"bar\": [{\"error_x\": {\"color\": \"#2a3f5f\"}, \"error_y\": {\"color\": \"#2a3f5f\"}, \"marker\": {\"line\": {\"color\": \"#E5ECF6\", \"width\": 0.5}}, \"type\": \"bar\"}], \"barpolar\": [{\"marker\": {\"line\": {\"color\": \"#E5ECF6\", \"width\": 0.5}}, \"type\": \"barpolar\"}], \"carpet\": [{\"aaxis\": {\"endlinecolor\": \"#2a3f5f\", \"gridcolor\": \"white\", \"linecolor\": \"white\", \"minorgridcolor\": \"white\", \"startlinecolor\": \"#2a3f5f\"}, \"baxis\": {\"endlinecolor\": \"#2a3f5f\", \"gridcolor\": \"white\", \"linecolor\": \"white\", \"minorgridcolor\": \"white\", \"startlinecolor\": \"#2a3f5f\"}, \"type\": \"carpet\"}], \"choropleth\": [{\"colorbar\": {\"outlinewidth\": 0, \"ticks\": \"\"}, \"type\": \"choropleth\"}], \"contour\": [{\"colorbar\": {\"outlinewidth\": 0, \"ticks\": \"\"}, \"colorscale\": [[0.0, \"#0d0887\"], [0.1111111111111111, \"#46039f\"], [0.2222222222222222, \"#7201a8\"], [0.3333333333333333, \"#9c179e\"], [0.4444444444444444, \"#bd3786\"], [0.5555555555555556, \"#d8576b\"], [0.6666666666666666, \"#ed7953\"], [0.7777777777777778, \"#fb9f3a\"], [0.8888888888888888, \"#fdca26\"], [1.0, \"#f0f921\"]], \"type\": \"contour\"}], \"contourcarpet\": [{\"colorbar\": {\"outlinewidth\": 0, \"ticks\": \"\"}, \"type\": \"contourcarpet\"}], \"heatmap\": [{\"colorbar\": {\"outlinewidth\": 0, \"ticks\": \"\"}, \"colorscale\": [[0.0, \"#0d0887\"], [0.1111111111111111, \"#46039f\"], [0.2222222222222222, \"#7201a8\"], [0.3333333333333333, \"#9c179e\"], [0.4444444444444444, \"#bd3786\"], [0.5555555555555556, \"#d8576b\"], [0.6666666666666666, \"#ed7953\"], [0.7777777777777778, \"#fb9f3a\"], [0.8888888888888888, \"#fdca26\"], [1.0, \"#f0f921\"]], \"type\": \"heatmap\"}], \"heatmapgl\": [{\"colorbar\": {\"outlinewidth\": 0, \"ticks\": \"\"}, \"colorscale\": [[0.0, \"#0d0887\"], [0.1111111111111111, \"#46039f\"], [0.2222222222222222, \"#7201a8\"], [0.3333333333333333, \"#9c179e\"], [0.4444444444444444, \"#bd3786\"], [0.5555555555555556, \"#d8576b\"], [0.6666666666666666, \"#ed7953\"], [0.7777777777777778, \"#fb9f3a\"], [0.8888888888888888, \"#fdca26\"], [1.0, \"#f0f921\"]], \"type\": \"heatmapgl\"}], \"histogram\": [{\"marker\": {\"colorbar\": {\"outlinewidth\": 0, \"ticks\": \"\"}}, \"type\": \"histogram\"}], \"histogram2d\": [{\"colorbar\": {\"outlinewidth\": 0, \"ticks\": \"\"}, \"colorscale\": [[0.0, \"#0d0887\"], [0.1111111111111111, \"#46039f\"], [0.2222222222222222, \"#7201a8\"], [0.3333333333333333, \"#9c179e\"], [0.4444444444444444, \"#bd3786\"], [0.5555555555555556, \"#d8576b\"], [0.6666666666666666, \"#ed7953\"], [0.7777777777777778, \"#fb9f3a\"], [0.8888888888888888, \"#fdca26\"], [1.0, \"#f0f921\"]], \"type\": \"histogram2d\"}], \"histogram2dcontour\": [{\"colorbar\": {\"outlinewidth\": 0, \"ticks\": \"\"}, \"colorscale\": [[0.0, \"#0d0887\"], [0.1111111111111111, \"#46039f\"], [0.2222222222222222, \"#7201a8\"], [0.3333333333333333, \"#9c179e\"], [0.4444444444444444, \"#bd3786\"], [0.5555555555555556, \"#d8576b\"], [0.6666666666666666, \"#ed7953\"], [0.7777777777777778, \"#fb9f3a\"], [0.8888888888888888, \"#fdca26\"], [1.0, \"#f0f921\"]], \"type\": \"histogram2dcontour\"}], \"mesh3d\": [{\"colorbar\": {\"outlinewidth\": 0, \"ticks\": \"\"}, \"type\": \"mesh3d\"}], \"parcoords\": [{\"line\": {\"colorbar\": {\"outlinewidth\": 0, \"ticks\": \"\"}}, \"type\": \"parcoords\"}], \"pie\": [{\"automargin\": true, \"type\": \"pie\"}], \"scatter\": [{\"marker\": {\"colorbar\": {\"outlinewidth\": 0, \"ticks\": \"\"}}, \"type\": \"scatter\"}], \"scatter3d\": [{\"line\": {\"colorbar\": {\"outlinewidth\": 0, \"ticks\": \"\"}}, \"marker\": {\"colorbar\": {\"outlinewidth\": 0, \"ticks\": \"\"}}, \"type\": \"scatter3d\"}], \"scattercarpet\": [{\"marker\": {\"colorbar\": {\"outlinewidth\": 0, \"ticks\": \"\"}}, \"type\": \"scattercarpet\"}], \"scattergeo\": [{\"marker\": {\"colorbar\": {\"outlinewidth\": 0, \"ticks\": \"\"}}, \"type\": \"scattergeo\"}], \"scattergl\": [{\"marker\": {\"colorbar\": {\"outlinewidth\": 0, \"ticks\": \"\"}}, \"type\": \"scattergl\"}], \"scattermapbox\": [{\"marker\": {\"colorbar\": {\"outlinewidth\": 0, \"ticks\": \"\"}}, \"type\": \"scattermapbox\"}], \"scatterpolar\": [{\"marker\": {\"colorbar\": {\"outlinewidth\": 0, \"ticks\": \"\"}}, \"type\": \"scatterpolar\"}], \"scatterpolargl\": [{\"marker\": {\"colorbar\": {\"outlinewidth\": 0, \"ticks\": \"\"}}, \"type\": \"scatterpolargl\"}], \"scatterternary\": [{\"marker\": {\"colorbar\": {\"outlinewidth\": 0, \"ticks\": \"\"}}, \"type\": \"scatterternary\"}], \"surface\": [{\"colorbar\": {\"outlinewidth\": 0, \"ticks\": \"\"}, \"colorscale\": [[0.0, \"#0d0887\"], [0.1111111111111111, \"#46039f\"], [0.2222222222222222, \"#7201a8\"], [0.3333333333333333, \"#9c179e\"], [0.4444444444444444, \"#bd3786\"], [0.5555555555555556, \"#d8576b\"], [0.6666666666666666, \"#ed7953\"], [0.7777777777777778, \"#fb9f3a\"], [0.8888888888888888, \"#fdca26\"], [1.0, \"#f0f921\"]], \"type\": \"surface\"}], \"table\": [{\"cells\": {\"fill\": {\"color\": \"#EBF0F8\"}, \"line\": {\"color\": \"white\"}}, \"header\": {\"fill\": {\"color\": \"#C8D4E3\"}, \"line\": {\"color\": \"white\"}}, \"type\": \"table\"}]}, \"layout\": {\"annotationdefaults\": {\"arrowcolor\": \"#2a3f5f\", \"arrowhead\": 0, \"arrowwidth\": 1}, \"autotypenumbers\": \"strict\", \"coloraxis\": {\"colorbar\": {\"outlinewidth\": 0, \"ticks\": \"\"}}, \"colorscale\": {\"diverging\": [[0, \"#8e0152\"], [0.1, \"#c51b7d\"], [0.2, \"#de77ae\"], [0.3, \"#f1b6da\"], [0.4, \"#fde0ef\"], [0.5, \"#f7f7f7\"], [0.6, \"#e6f5d0\"], [0.7, \"#b8e186\"], [0.8, \"#7fbc41\"], [0.9, \"#4d9221\"], [1, \"#276419\"]], \"sequential\": [[0.0, \"#0d0887\"], [0.1111111111111111, \"#46039f\"], [0.2222222222222222, \"#7201a8\"], [0.3333333333333333, \"#9c179e\"], [0.4444444444444444, \"#bd3786\"], [0.5555555555555556, \"#d8576b\"], [0.6666666666666666, \"#ed7953\"], [0.7777777777777778, \"#fb9f3a\"], [0.8888888888888888, \"#fdca26\"], [1.0, \"#f0f921\"]], \"sequentialminus\": [[0.0, \"#0d0887\"], [0.1111111111111111, \"#46039f\"], [0.2222222222222222, \"#7201a8\"], [0.3333333333333333, \"#9c179e\"], [0.4444444444444444, \"#bd3786\"], [0.5555555555555556, \"#d8576b\"], [0.6666666666666666, \"#ed7953\"], [0.7777777777777778, \"#fb9f3a\"], [0.8888888888888888, \"#fdca26\"], [1.0, \"#f0f921\"]]}, \"colorway\": [\"#636efa\", \"#EF553B\", \"#00cc96\", \"#ab63fa\", \"#FFA15A\", \"#19d3f3\", \"#FF6692\", \"#B6E880\", \"#FF97FF\", \"#FECB52\"], \"font\": {\"color\": \"#2a3f5f\"}, \"geo\": {\"bgcolor\": \"white\", \"lakecolor\": \"white\", \"landcolor\": \"#E5ECF6\", \"showlakes\": true, \"showland\": true, \"subunitcolor\": \"white\"}, \"hoverlabel\": {\"align\": \"left\"}, \"hovermode\": \"closest\", \"mapbox\": {\"style\": \"light\"}, \"paper_bgcolor\": \"white\", \"plot_bgcolor\": \"#E5ECF6\", \"polar\": {\"angularaxis\": {\"gridcolor\": \"white\", \"linecolor\": \"white\", \"ticks\": \"\"}, \"bgcolor\": \"#E5ECF6\", \"radialaxis\": {\"gridcolor\": \"white\", \"linecolor\": \"white\", \"ticks\": \"\"}}, \"scene\": {\"xaxis\": {\"backgroundcolor\": \"#E5ECF6\", \"gridcolor\": \"white\", \"gridwidth\": 2, \"linecolor\": \"white\", \"showbackground\": true, \"ticks\": \"\", \"zerolinecolor\": \"white\"}, \"yaxis\": {\"backgroundcolor\": \"#E5ECF6\", \"gridcolor\": \"white\", \"gridwidth\": 2, \"linecolor\": \"white\", \"showbackground\": true, \"ticks\": \"\", \"zerolinecolor\": \"white\"}, \"zaxis\": {\"backgroundcolor\": \"#E5ECF6\", \"gridcolor\": \"white\", \"gridwidth\": 2, \"linecolor\": \"white\", \"showbackground\": true, \"ticks\": \"\", \"zerolinecolor\": \"white\"}}, \"shapedefaults\": {\"line\": {\"color\": \"#2a3f5f\"}}, \"ternary\": {\"aaxis\": {\"gridcolor\": \"white\", \"linecolor\": \"white\", \"ticks\": \"\"}, \"baxis\": {\"gridcolor\": \"white\", \"linecolor\": \"white\", \"ticks\": \"\"}, \"bgcolor\": \"#E5ECF6\", \"caxis\": {\"gridcolor\": \"white\", \"linecolor\": \"white\", \"ticks\": \"\"}}, \"title\": {\"x\": 0.05}, \"xaxis\": {\"automargin\": true, \"gridcolor\": \"white\", \"linecolor\": \"white\", \"ticks\": \"\", \"title\": {\"standoff\": 15}, \"zerolinecolor\": \"white\", \"zerolinewidth\": 2}, \"yaxis\": {\"automargin\": true, \"gridcolor\": \"white\", \"linecolor\": \"white\", \"ticks\": \"\", \"title\": {\"standoff\": 15}, \"zerolinecolor\": \"white\", \"zerolinewidth\": 2}}}, \"title\": {\"font\": {\"color\": \"#4D5663\"}, \"text\": \"Countplot of Apartment Floor\"}, \"xaxis\": {\"gridcolor\": \"#E1E5ED\", \"showgrid\": true, \"tickfont\": {\"color\": \"#4D5663\"}, \"title\": {\"font\": {\"color\": \"#4D5663\"}, \"text\": \"\"}, \"zerolinecolor\": \"#E1E5ED\"}, \"yaxis\": {\"gridcolor\": \"#E1E5ED\", \"showgrid\": true, \"tickfont\": {\"color\": \"#4D5663\"}, \"title\": {\"font\": {\"color\": \"#4D5663\"}, \"text\": \"Floors\"}, \"zerolinecolor\": \"#E1E5ED\"}},                        {\"showLink\": true, \"linkText\": \"Export to plot.ly\", \"plotlyServerURL\": \"https://plot.ly\", \"responsive\": true}                    ).then(function(){\n",
       "                            \n",
       "var gd = document.getElementById('d67100f2-ccdb-410c-8863-c26e4bbfab01');\n",
       "var x = new MutationObserver(function (mutations, observer) {{\n",
       "        var display = window.getComputedStyle(gd).display;\n",
       "        if (!display || display === 'none') {{\n",
       "            console.log([gd, 'removed!']);\n",
       "            Plotly.purge(gd);\n",
       "            observer.disconnect();\n",
       "        }}\n",
       "}});\n",
       "\n",
       "// Listen for the removal of the full notebook cells\n",
       "var notebookContainer = gd.closest('#notebook-container');\n",
       "if (notebookContainer) {{\n",
       "    x.observe(notebookContainer, {childList: true});\n",
       "}}\n",
       "\n",
       "// Listen for the clearing of the current output cell\n",
       "var outputEl = gd.closest('.output');\n",
       "if (outputEl) {{\n",
       "    x.observe(outputEl, {childList: true});\n",
       "}}\n",
       "\n",
       "                        })                };                });            </script>        </div>"
      ]
     },
     "metadata": {},
     "output_type": "display_data"
    }
   ],
   "source": [
    "train['Floor plan'].value_counts().sort_values(ascending = True).iplot(kind = 'bar', \n",
    "                                                                  orientation = 'h',\n",
    "                                                                  yTitle = 'Floors',\n",
    "                                                                  title = 'Countplot of Apartment Floor'\n",
    "                                                                 )"
   ]
  },
  {
   "cell_type": "code",
   "execution_count": 16,
   "id": "pointed-coupon",
   "metadata": {
    "execution": {
     "iopub.execute_input": "2021-04-11T07:38:09.450065Z",
     "iopub.status.busy": "2021-04-11T07:38:09.449306Z",
     "iopub.status.idle": "2021-04-11T07:38:10.338452Z",
     "shell.execute_reply": "2021-04-11T07:38:10.337812Z"
    },
    "papermill": {
     "duration": 0.951788,
     "end_time": "2021-04-11T07:38:10.338600",
     "exception": false,
     "start_time": "2021-04-11T07:38:09.386812",
     "status": "completed"
    },
    "tags": []
   },
   "outputs": [
    {
     "data": {
      "image/png": "[encoded data removed]",
      "text/plain": [
       "<Figure size 864x576 with 1 Axes>"
      ]
     },
     "metadata": {},
     "output_type": "display_data"
    }
   ],
   "source": [
    "ax = sns.countplot(data = train, x = 'Refurbishment')\n",
    "for p in ax.patches:\n",
    "    ax.annotate(str(p.get_height()), (p.get_x() * 1.005, p.get_height() * 1.005))"
   ]
  },
  {
   "cell_type": "markdown",
   "id": "chemical-clerk",
   "metadata": {
    "papermill": {
     "duration": 0.060078,
     "end_time": "2021-04-11T07:38:10.462104",
     "exception": false,
     "start_time": "2021-04-11T07:38:10.402026",
     "status": "completed"
    },
    "tags": []
   },
   "source": [
    "__Cleaning the Data__"
   ]
  },
  {
   "cell_type": "code",
   "execution_count": 17,
   "id": "smooth-shame",
   "metadata": {
    "execution": {
     "iopub.execute_input": "2021-04-11T07:38:10.621365Z",
     "iopub.status.busy": "2021-04-11T07:38:10.619526Z",
     "iopub.status.idle": "2021-04-11T07:38:10.627065Z",
     "shell.execute_reply": "2021-04-11T07:38:10.626443Z"
    },
    "papermill": {
     "duration": 0.104582,
     "end_time": "2021-04-11T07:38:10.627213",
     "exception": false,
     "start_time": "2021-04-11T07:38:10.522631",
     "status": "completed"
    },
    "tags": []
   },
   "outputs": [
    {
     "data": {
      "text/plain": [
       "array([80, 60, 15, 95, 65, 45, 75, 20, 25, 85, 50, 35, 30, 55, 105, 110,\n",
       "       70, 90, 125, 100, 165, 135, 130, 40, 120, 115, 140, 180, 150, 155,\n",
       "       370, 230, '65', '75', '85', '95', '80', '70', '60', '100', '90',\n",
       "       '50', '20', '55', '40', '105', '45', '980', '35', '115', '120',\n",
       "       '270', '110', '30', '290', '150', '820', '470', '300', '830', '25',\n",
       "       '125', '160', '140', '710', '130', '15', '2000㎡以上', '165', 550,\n",
       "       160, 145, 10, 350, 190, 290, 360, 200, 490, 420, 240, 170, 320,\n",
       "       330, 195, 860, 220, 1000, 460, 175, 270, 210, 580, 260, 185, 280,\n",
       "       '10', '155', '185', '145', '780', '590', '135', '320', '650',\n",
       "       '190', '250', '410', '630', '620', '170', '660', '200', '510',\n",
       "       '180', '730', '360', '195', '175', '240', '390', '220', '490',\n",
       "       '370', '520', '1400', '670', '310', '560', '210', '760', '450',\n",
       "       '900', 250, 340, 300, 500, 400, 630, 440, 1500, 450, 380, 560, 970,\n",
       "       480, 710, 310, 410, 690, 430, 820, 990, 1200, 390, 590, 680, 700,\n",
       "       520, 730, 890, 1300, 620, 720, 770, '420', '1000', '400', '440',\n",
       "       '480', '230', '280', '1200', '260', 600, 790, 660, 540, 470, 960,\n",
       "       900, 940, 780, 1100, 650, 760, 670, '740', '330', '500', 570, 530,\n",
       "       740, 610, 830, 510, 800], dtype=object)"
      ]
     },
     "execution_count": 17,
     "metadata": {},
     "output_type": "execute_result"
    }
   ],
   "source": [
    "train['Area (㎡)'].unique()"
   ]
  },
  {
   "cell_type": "code",
   "execution_count": 18,
   "id": "blond-murder",
   "metadata": {
    "execution": {
     "iopub.execute_input": "2021-04-11T07:38:10.756229Z",
     "iopub.status.busy": "2021-04-11T07:38:10.755509Z",
     "iopub.status.idle": "2021-04-11T07:38:12.528401Z",
     "shell.execute_reply": "2021-04-11T07:38:12.527824Z"
    },
    "papermill": {
     "duration": 1.84021,
     "end_time": "2021-04-11T07:38:12.528546",
     "exception": false,
     "start_time": "2021-04-11T07:38:10.688336",
     "status": "completed"
    },
    "tags": []
   },
   "outputs": [
    {
     "data": {
      "image/png": "[encoded data removed]",
      "text/plain": [
       "<Figure size 864x576 with 1 Axes>"
      ]
     },
     "metadata": {},
     "output_type": "display_data"
    }
   ],
   "source": [
    "import re\n",
    "\n",
    "train['Area (㎡)'] = train['Area (㎡)'].apply(lambda x: re.sub(r'\\D+', '', str(x)))\n",
    "test['Area (㎡)'] = test['Area (㎡)'].apply(lambda x: re.sub(r'\\D+', '', str(x)))\n",
    "\n",
    "train['Area (㎡)'] = train['Area (㎡)'].astype('int32')\n",
    "test['Area (㎡)'] = test['Area (㎡)'].astype('int32')\n",
    "\n",
    "sns.boxplot(data = train, x = 'Area (㎡)');"
   ]
  },
  {
   "cell_type": "code",
   "execution_count": 19,
   "id": "sudden-costs",
   "metadata": {
    "execution": {
     "iopub.execute_input": "2021-04-11T07:38:12.672919Z",
     "iopub.status.busy": "2021-04-11T07:38:12.672247Z",
     "iopub.status.idle": "2021-04-11T07:38:12.675894Z",
     "shell.execute_reply": "2021-04-11T07:38:12.676318Z"
    },
    "papermill": {
     "duration": 0.086296,
     "end_time": "2021-04-11T07:38:12.676487",
     "exception": false,
     "start_time": "2021-04-11T07:38:12.590191",
     "status": "completed"
    },
    "tags": []
   },
   "outputs": [
    {
     "data": {
      "text/html": [
       "<div>\n",
       "<style scoped>\n",
       "    .dataframe tbody tr th:only-of-type {\n",
       "        vertical-align: middle;\n",
       "    }\n",
       "\n",
       "    .dataframe tbody tr th {\n",
       "        vertical-align: top;\n",
       "    }\n",
       "\n",
       "    .dataframe thead th {\n",
       "        text-align: right;\n",
       "    }\n",
       "</style>\n",
       "<table border=\"1\" class=\"dataframe\">\n",
       "  <thead>\n",
       "    <tr style=\"text-align: right;\">\n",
       "      <th></th>\n",
       "      <th>ID</th>\n",
       "      <th>City Code</th>\n",
       "      <th>Prefecture Name</th>\n",
       "      <th>City Name</th>\n",
       "      <th>District Name</th>\n",
       "      <th>Nearest Station: Name</th>\n",
       "      <th>Nearest station: Distance (minutes)</th>\n",
       "      <th>Floor plan</th>\n",
       "      <th>Area (㎡)</th>\n",
       "      <th>Building year</th>\n",
       "      <th>Building structure</th>\n",
       "      <th>Use</th>\n",
       "      <th>Purpose of future use</th>\n",
       "      <th>City planning</th>\n",
       "      <th>Building coverage ratio (%)</th>\n",
       "      <th>Floor area ratio (%)</th>\n",
       "      <th>At the time of transaction</th>\n",
       "      <th>Refurbishment</th>\n",
       "      <th>Transaction price (total amount) _log</th>\n",
       "    </tr>\n",
       "  </thead>\n",
       "  <tbody>\n",
       "    <tr>\n",
       "      <th>0</th>\n",
       "      <td>18016956</td>\n",
       "      <td>18201</td>\n",
       "      <td>福井県</td>\n",
       "      <td>福井市</td>\n",
       "      <td>大宮</td>\n",
       "      <td>田原町(福井)</td>\n",
       "      <td>13</td>\n",
       "      <td>４ＬＤＫ</td>\n",
       "      <td>80</td>\n",
       "      <td>平成13年</td>\n",
       "      <td>ＲＣ</td>\n",
       "      <td>住宅</td>\n",
       "      <td>NaN</td>\n",
       "      <td>第１種中高層住居専用地域</td>\n",
       "      <td>60.0</td>\n",
       "      <td>200.0</td>\n",
       "      <td>2013年第１四半期</td>\n",
       "      <td>改装済</td>\n",
       "      <td>7.20412</td>\n",
       "    </tr>\n",
       "  </tbody>\n",
       "</table>\n",
       "</div>"
      ],
      "text/plain": [
       "         ID  City Code Prefecture Name City Name District Name  \\\n",
       "0  18016956      18201             福井県       福井市            大宮   \n",
       "\n",
       "  Nearest Station: Name Nearest station: Distance (minutes) Floor plan  \\\n",
       "0               田原町(福井)                                  13       ４ＬＤＫ   \n",
       "\n",
       "   Area (㎡) Building year Building structure Use Purpose of future use  \\\n",
       "0        80         平成13年                 ＲＣ  住宅                   NaN   \n",
       "\n",
       "  City planning  Building coverage ratio (%)  Floor area ratio (%)  \\\n",
       "0  第１種中高層住居専用地域                         60.0                 200.0   \n",
       "\n",
       "  At the time of transaction Refurbishment  \\\n",
       "0                 2013年第１四半期           改装済   \n",
       "\n",
       "   Transaction price (total amount) _log  \n",
       "0                                7.20412  "
      ]
     },
     "execution_count": 19,
     "metadata": {},
     "output_type": "execute_result"
    }
   ],
   "source": [
    "train.head(1)"
   ]
  },
  {
   "cell_type": "code",
   "execution_count": 20,
   "id": "atmospheric-martin",
   "metadata": {
    "execution": {
     "iopub.execute_input": "2021-04-11T07:38:12.827905Z",
     "iopub.status.busy": "2021-04-11T07:38:12.827238Z",
     "iopub.status.idle": "2021-04-11T07:38:14.119447Z",
     "shell.execute_reply": "2021-04-11T07:38:14.118641Z"
    },
    "papermill": {
     "duration": 1.380578,
     "end_time": "2021-04-11T07:38:14.119604",
     "exception": false,
     "start_time": "2021-04-11T07:38:12.739026",
     "status": "completed"
    },
    "tags": []
   },
   "outputs": [
    {
     "data": {
      "text/plain": [
       "Text(0.5, 1.0, 'Area vs Transaction Price')"
      ]
     },
     "execution_count": 20,
     "metadata": {},
     "output_type": "execute_result"
    },
    {
     "data": {
      "image/png": "[encoded data removed]",
      "text/plain": [
       "<Figure size 864x576 with 1 Axes>"
      ]
     },
     "metadata": {},
     "output_type": "display_data"
    }
   ],
   "source": [
    "plt.scatter(data = train, x = 'Area (㎡)', y = 'Transaction price (total amount) _log');\n",
    "plt.title('Area vs Transaction Price')"
   ]
  },
  {
   "cell_type": "markdown",
   "id": "acceptable-plasma",
   "metadata": {
    "papermill": {
     "duration": 0.065264,
     "end_time": "2021-04-11T07:38:14.251879",
     "exception": false,
     "start_time": "2021-04-11T07:38:14.186615",
     "status": "completed"
    },
    "tags": []
   },
   "source": [
    "- LDK is Living, Dining and Kitchen\n",
    "- 1 LDK means 1 Bedrooms with Living, Dining rooms and Kitchen\n",
    "- S is Storage room"
   ]
  },
  {
   "cell_type": "code",
   "execution_count": 21,
   "id": "suffering-discount",
   "metadata": {
    "execution": {
     "iopub.execute_input": "2021-04-11T07:38:14.454751Z",
     "iopub.status.busy": "2021-04-11T07:38:14.453597Z",
     "iopub.status.idle": "2021-04-11T07:38:14.459212Z",
     "shell.execute_reply": "2021-04-11T07:38:14.459658Z"
    },
    "papermill": {
     "duration": 0.143849,
     "end_time": "2021-04-11T07:38:14.459855",
     "exception": false,
     "start_time": "2021-04-11T07:38:14.316006",
     "status": "completed"
    },
    "tags": []
   },
   "outputs": [
    {
     "data": {
      "text/plain": [
       "array(['４ＬＤＫ', '１ＬＤＫ', '１Ｋ', '３ＬＤＫ', '２ＬＤＫ', nan, '１Ｒ', '１ＤＫ', '２ＤＫ',\n",
       "       '１ＬＤＫ＋Ｓ', '３ＤＫ', '５ＬＤＫ', 'オープンフロア', '２ＬＤＫ＋Ｓ', '５ＬＤＫ＋Ｓ', '４ＤＫ',\n",
       "       '２ＤＫ＋Ｓ', '２Ｋ', '３ＬＫ', '３Ｋ', '３ＬＤＫ＋Ｓ', '４ＬＤＫ＋Ｓ', '３ＤＫ＋Ｓ', '３Ｋ＋Ｓ',\n",
       "       '５ＤＫ', '２ＬＫ', '４Ｋ', '６ＬＤＫ', '４ＤＫ＋Ｓ', 'メゾネット', '１Ｒ＋Ｓ', '１ＤＫ＋Ｓ',\n",
       "       '２ＬＫ＋Ｓ', '３ＬＤ', '４ＬＤＫ＋Ｋ', '２ＬＤ＋Ｓ', '７ＬＤＫ', '１ＬＫ', '５Ｋ', '１Ｋ＋Ｓ',\n",
       "       '２Ｌ＋Ｓ', '７ＬＤＫ＋Ｓ', '４Ｌ＋Ｋ', '１Ｌ', 'スタジオ', '３ＬＤＫ＋Ｋ', '２Ｋ＋Ｓ', '６ＤＫ',\n",
       "       '２ＬＤ', '３ＬＤ＋Ｓ', '１ＬＤ＋Ｓ', '６ＬＤＫ＋Ｓ', '１Ｌ＋Ｓ', '２Ｄ', '８ＬＤＫ', '２Ｌ',\n",
       "       '２ＬＤＫ＋Ｋ', '５ＬＤＫ＋Ｋ', '３Ｄ', '４Ｄ', '１ＤＫ＋Ｋ', '８ＬＤＫ＋Ｓ', '４Ｌ', '７ＤＫ'],\n",
       "      dtype=object)"
      ]
     },
     "execution_count": 21,
     "metadata": {},
     "output_type": "execute_result"
    }
   ],
   "source": [
    "train['Floor plan'].unique()"
   ]
  },
  {
   "cell_type": "code",
   "execution_count": 22,
   "id": "retained-sentence",
   "metadata": {
    "execution": {
     "iopub.execute_input": "2021-04-11T07:38:14.597942Z",
     "iopub.status.busy": "2021-04-11T07:38:14.596880Z",
     "iopub.status.idle": "2021-04-11T07:38:15.480057Z",
     "shell.execute_reply": "2021-04-11T07:38:15.480591Z"
    },
    "papermill": {
     "duration": 0.956553,
     "end_time": "2021-04-11T07:38:15.480760",
     "exception": false,
     "start_time": "2021-04-11T07:38:14.524207",
     "status": "completed"
    },
    "tags": []
   },
   "outputs": [
    {
     "data": {
      "text/plain": [
       "(3.0    319775\n",
       " 1.0    149247\n",
       " 2.0    120108\n",
       " 4.0     61818\n",
       " 5.0       973\n",
       " 6.0        43\n",
       " 7.0         8\n",
       " 8.0         3\n",
       " Name: num_bedrooms, dtype: int64,\n",
       " 3.0    8202\n",
       " 1.0    4760\n",
       " 2.0    3458\n",
       " 4.0    1446\n",
       " 5.0      26\n",
       " 6.0       2\n",
       " Name: num_bedrooms, dtype: int64)"
      ]
     },
     "execution_count": 22,
     "metadata": {},
     "output_type": "execute_result"
    }
   ],
   "source": [
    "train['num_bedrooms'] = train['Floor plan'].apply(lambda x: str(x)[0])\n",
    "train['num_bedrooms'] = train['num_bedrooms'].apply(lambda x: int(x) if x.isdigit() else np.nan)\n",
    "train['num_bedrooms'].fillna(train['num_bedrooms'].median(), inplace = True)\n",
    "\n",
    "test['num_bedrooms'] = test['Floor plan'].apply(lambda x: str(x)[0])\n",
    "test['num_bedrooms'] = test['num_bedrooms'].apply(lambda x: int(x) if x.isdigit() else np.nan)\n",
    "test['num_bedrooms'].fillna(test['num_bedrooms'].median(), inplace = True)\n",
    "train['num_bedrooms'].value_counts(dropna = False), test['num_bedrooms'].value_counts(dropna = False)"
   ]
  },
  {
   "cell_type": "markdown",
   "id": "secret-contract",
   "metadata": {
    "papermill": {
     "duration": 0.06521,
     "end_time": "2021-04-11T07:38:15.611489",
     "exception": false,
     "start_time": "2021-04-11T07:38:15.546279",
     "status": "completed"
    },
    "tags": []
   },
   "source": [
    "train['living'] = train['Floor plan'].apply(lambda x: 1 if 'L' in str(x) else 0) \n",
    "train['dining'] = train['Floor plan'].apply(lambda x: 1 if 'D' in str(x) else 0) \n",
    "train['kitchen'] = train['Floor plan'].apply(lambda x: 1 if 'K' in str(x) else 0) \n",
    "train['storage'] = train['Floor plan'].apply(lambda x: 1 if 'S' in str(x) else 0)\n",
    "\n",
    "test['living'] = test['Floor plan'].apply(lambda x: 1 if 'L' in str(x) else 0) \n",
    "test['dining'] = test['Floor plan'].apply(lambda x: 1 if 'D' in str(x) else 0) \n",
    "test['kitchen'] = test['Floor plan'].apply(lambda x: 1 if 'K' in str(x) else 0) \n",
    "test['storage'] = test['Floor plan'].apply(lambda x: 1 if 'S' in str(x) else 0)\n",
    "\n",
    "train['living'].unique()"
   ]
  },
  {
   "cell_type": "code",
   "execution_count": 23,
   "id": "valued-warehouse",
   "metadata": {
    "execution": {
     "iopub.execute_input": "2021-04-11T07:38:15.750540Z",
     "iopub.status.busy": "2021-04-11T07:38:15.749605Z",
     "iopub.status.idle": "2021-04-11T07:38:15.754287Z",
     "shell.execute_reply": "2021-04-11T07:38:15.754798Z"
    },
    "papermill": {
     "duration": 0.078283,
     "end_time": "2021-04-11T07:38:15.754980",
     "exception": false,
     "start_time": "2021-04-11T07:38:15.676697",
     "status": "completed"
    },
    "tags": []
   },
   "outputs": [
    {
     "data": {
      "text/plain": [
       "(['ID',\n",
       "  'City Code',\n",
       "  'Area (㎡)',\n",
       "  'Building coverage ratio (%)',\n",
       "  'Floor area ratio (%)',\n",
       "  'Transaction price (total amount) _log',\n",
       "  'num_bedrooms'],\n",
       " ['Prefecture Name',\n",
       "  'City Name',\n",
       "  'District Name',\n",
       "  'Nearest Station: Name',\n",
       "  'Nearest station: Distance (minutes)',\n",
       "  'Floor plan',\n",
       "  'Building year',\n",
       "  'Building structure',\n",
       "  'Use',\n",
       "  'Purpose of future use',\n",
       "  'City planning',\n",
       "  'At the time of transaction',\n",
       "  'Refurbishment'],\n",
       " 7,\n",
       " 13)"
      ]
     },
     "execution_count": 23,
     "metadata": {},
     "output_type": "execute_result"
    }
   ],
   "source": [
    "categorical_features = [c for c in train.columns if train[c].dtype == 'object']\n",
    "numerical_features = [c for c in train.columns if c not in categorical_features]\n",
    "numerical_features, categorical_features, len(numerical_features), len(categorical_features)"
   ]
  },
  {
   "cell_type": "code",
   "execution_count": 24,
   "id": "sensitive-trail",
   "metadata": {
    "execution": {
     "iopub.execute_input": "2021-04-11T07:38:15.895380Z",
     "iopub.status.busy": "2021-04-11T07:38:15.894646Z",
     "iopub.status.idle": "2021-04-11T07:38:15.985504Z",
     "shell.execute_reply": "2021-04-11T07:38:15.984910Z"
    },
    "papermill": {
     "duration": 0.161567,
     "end_time": "2021-04-11T07:38:15.985657",
     "exception": false,
     "start_time": "2021-04-11T07:38:15.824090",
     "status": "completed"
    },
    "tags": []
   },
   "outputs": [
    {
     "data": {
      "text/plain": [
       "(100000, 20)"
      ]
     },
     "execution_count": 24,
     "metadata": {},
     "output_type": "execute_result"
    }
   ],
   "source": [
    "df = train.sample(100000)\n",
    "df.shape"
   ]
  },
  {
   "cell_type": "code",
   "execution_count": 25,
   "id": "italian-science",
   "metadata": {
    "execution": {
     "iopub.execute_input": "2021-04-11T07:38:16.127357Z",
     "iopub.status.busy": "2021-04-11T07:38:16.126640Z",
     "iopub.status.idle": "2021-04-11T07:38:16.150847Z",
     "shell.execute_reply": "2021-04-11T07:38:16.150152Z"
    },
    "papermill": {
     "duration": 0.098915,
     "end_time": "2021-04-11T07:38:16.151003",
     "exception": false,
     "start_time": "2021-04-11T07:38:16.052088",
     "status": "completed"
    },
    "tags": []
   },
   "outputs": [
    {
     "name": "stdout",
     "output_type": "stream",
     "text": [
      "Transaction price (total amount) _log    1.000000\n",
      "Area (㎡)                                 0.392924\n",
      "num_bedrooms                             0.201113\n",
      "Floor area ratio (%)                     0.106336\n",
      "Building coverage ratio (%)              0.019258\n",
      "ID                                      -0.154264\n",
      "City Code                               -0.155475\n",
      "Name: Transaction price (total amount) _log, dtype: float64\n"
     ]
    }
   ],
   "source": [
    "corr = df[numerical_features].corr()\n",
    "print(corr['Transaction price (total amount) _log'].sort_values(ascending = False))"
   ]
  },
  {
   "cell_type": "code",
   "execution_count": 26,
   "id": "durable-marijuana",
   "metadata": {
    "execution": {
     "iopub.execute_input": "2021-04-11T07:38:16.291313Z",
     "iopub.status.busy": "2021-04-11T07:38:16.290487Z",
     "iopub.status.idle": "2021-04-11T07:38:17.103756Z",
     "shell.execute_reply": "2021-04-11T07:38:17.103092Z"
    },
    "papermill": {
     "duration": 0.886196,
     "end_time": "2021-04-11T07:38:17.103920",
     "exception": false,
     "start_time": "2021-04-11T07:38:16.217724",
     "status": "completed"
    },
    "tags": []
   },
   "outputs": [
    {
     "data": {
      "text/html": [
       "<div>\n",
       "<style scoped>\n",
       "    .dataframe tbody tr th:only-of-type {\n",
       "        vertical-align: middle;\n",
       "    }\n",
       "\n",
       "    .dataframe tbody tr th {\n",
       "        vertical-align: top;\n",
       "    }\n",
       "\n",
       "    .dataframe thead th {\n",
       "        text-align: right;\n",
       "    }\n",
       "</style>\n",
       "<table border=\"1\" class=\"dataframe\">\n",
       "  <thead>\n",
       "    <tr style=\"text-align: right;\">\n",
       "      <th></th>\n",
       "      <th>index</th>\n",
       "      <th>0</th>\n",
       "      <th>dtype</th>\n",
       "    </tr>\n",
       "  </thead>\n",
       "  <tbody>\n",
       "    <tr>\n",
       "      <th>4</th>\n",
       "      <td>District Name</td>\n",
       "      <td>657</td>\n",
       "      <td>object</td>\n",
       "    </tr>\n",
       "    <tr>\n",
       "      <th>5</th>\n",
       "      <td>Nearest Station: Name</td>\n",
       "      <td>2633</td>\n",
       "      <td>object</td>\n",
       "    </tr>\n",
       "    <tr>\n",
       "      <th>6</th>\n",
       "      <td>Nearest station: Distance (minutes)</td>\n",
       "      <td>23059</td>\n",
       "      <td>object</td>\n",
       "    </tr>\n",
       "    <tr>\n",
       "      <th>7</th>\n",
       "      <td>Floor plan</td>\n",
       "      <td>22429</td>\n",
       "      <td>object</td>\n",
       "    </tr>\n",
       "    <tr>\n",
       "      <th>9</th>\n",
       "      <td>Building year</td>\n",
       "      <td>18695</td>\n",
       "      <td>object</td>\n",
       "    </tr>\n",
       "    <tr>\n",
       "      <th>10</th>\n",
       "      <td>Building structure</td>\n",
       "      <td>14877</td>\n",
       "      <td>object</td>\n",
       "    </tr>\n",
       "    <tr>\n",
       "      <th>11</th>\n",
       "      <td>Use</td>\n",
       "      <td>50642</td>\n",
       "      <td>object</td>\n",
       "    </tr>\n",
       "    <tr>\n",
       "      <th>12</th>\n",
       "      <td>Purpose of future use</td>\n",
       "      <td>363027</td>\n",
       "      <td>object</td>\n",
       "    </tr>\n",
       "    <tr>\n",
       "      <th>13</th>\n",
       "      <td>City planning</td>\n",
       "      <td>18813</td>\n",
       "      <td>object</td>\n",
       "    </tr>\n",
       "    <tr>\n",
       "      <th>14</th>\n",
       "      <td>Building coverage ratio (%)</td>\n",
       "      <td>22807</td>\n",
       "      <td>float64</td>\n",
       "    </tr>\n",
       "    <tr>\n",
       "      <th>15</th>\n",
       "      <td>Floor area ratio (%)</td>\n",
       "      <td>22807</td>\n",
       "      <td>float64</td>\n",
       "    </tr>\n",
       "    <tr>\n",
       "      <th>17</th>\n",
       "      <td>Refurbishment</td>\n",
       "      <td>58674</td>\n",
       "      <td>object</td>\n",
       "    </tr>\n",
       "  </tbody>\n",
       "</table>\n",
       "</div>"
      ],
      "text/plain": [
       "                                  index       0    dtype\n",
       "4                         District Name     657   object\n",
       "5                 Nearest Station: Name    2633   object\n",
       "6   Nearest station: Distance (minutes)   23059   object\n",
       "7                            Floor plan   22429   object\n",
       "9                         Building year   18695   object\n",
       "10                   Building structure   14877   object\n",
       "11                                  Use   50642   object\n",
       "12                Purpose of future use  363027   object\n",
       "13                        City planning   18813   object\n",
       "14          Building coverage ratio (%)   22807  float64\n",
       "15                 Floor area ratio (%)   22807  float64\n",
       "17                        Refurbishment   58674   object"
      ]
     },
     "execution_count": 26,
     "metadata": {},
     "output_type": "execute_result"
    }
   ],
   "source": [
    "missing = train.isna().sum().reset_index()\n",
    "missing['dtype'] = [train[c].dtype for c in missing['index']]\n",
    "missing = missing[missing[0] > 0]\n",
    "missing"
   ]
  },
  {
   "cell_type": "code",
   "execution_count": 27,
   "id": "dried-experience",
   "metadata": {
    "execution": {
     "iopub.execute_input": "2021-04-11T07:38:17.404307Z",
     "iopub.status.busy": "2021-04-11T07:38:17.339717Z",
     "iopub.status.idle": "2021-04-11T07:38:20.989720Z",
     "shell.execute_reply": "2021-04-11T07:38:20.989070Z"
    },
    "papermill": {
     "duration": 3.818285,
     "end_time": "2021-04-11T07:38:20.989881",
     "exception": false,
     "start_time": "2021-04-11T07:38:17.171596",
     "status": "completed"
    },
    "tags": []
   },
   "outputs": [
    {
     "name": "stdout",
     "output_type": "stream",
     "text": [
      "Imputing NaNs of object dtype by most occurances\n",
      "Imputing NaNs of float dtype by mean value\n"
     ]
    }
   ],
   "source": [
    "print('Imputing NaNs of object dtype by most occurances')\n",
    "for c in missing['index'][missing['dtype'] == 'object']:\n",
    "    train[c] = train[c].fillna(train[c].value_counts().index[0])\n",
    "    test[c] = test[c].fillna(train[c].value_counts().index[0])\n",
    "    \n",
    "print('Imputing NaNs of float dtype by mean value')\n",
    "for c in missing['index'][missing['dtype'] == 'float64']:\n",
    "    train[c] = train[c].fillna(train[c].mean())\n",
    "    test[c] = test[c].fillna(test[c].mean())"
   ]
  },
  {
   "cell_type": "code",
   "execution_count": 28,
   "id": "rubber-maine",
   "metadata": {
    "execution": {
     "iopub.execute_input": "2021-04-11T07:38:21.135046Z",
     "iopub.status.busy": "2021-04-11T07:38:21.133724Z",
     "iopub.status.idle": "2021-04-11T07:38:21.487917Z",
     "shell.execute_reply": "2021-04-11T07:38:21.487368Z"
    },
    "papermill": {
     "duration": 0.429912,
     "end_time": "2021-04-11T07:38:21.488069",
     "exception": false,
     "start_time": "2021-04-11T07:38:21.058157",
     "status": "completed"
    },
    "tags": []
   },
   "outputs": [
    {
     "data": {
      "image/png": "[encoded data removed]",
      "text/plain": [
       "<Figure size 2160x1440 with 1 Axes>"
      ]
     },
     "metadata": {},
     "output_type": "display_data"
    }
   ],
   "source": [
    "from scipy.stats import skew\n",
    "\n",
    "num_feats = train.dtypes[train.dtypes != 'object'].index\n",
    "\n",
    "# Check how skewed they are\n",
    "skewed_feats = train[num_feats].apply(lambda x: skew(x.dropna())).sort_values(ascending = False)\n",
    "\n",
    "plt.subplots(figsize = (30, 20))\n",
    "skewed_feats.plot(kind = 'bar', rot = 0);"
   ]
  },
  {
   "cell_type": "markdown",
   "id": "divided-contractor",
   "metadata": {
    "papermill": {
     "duration": 0.069413,
     "end_time": "2021-04-11T07:38:21.627430",
     "exception": false,
     "start_time": "2021-04-11T07:38:21.558017",
     "status": "completed"
    },
    "tags": []
   },
   "source": [
    "__Standardize Numerical Features and Label Encode Categorical Features__"
   ]
  },
  {
   "cell_type": "code",
   "execution_count": 29,
   "id": "challenging-anderson",
   "metadata": {
    "execution": {
     "iopub.execute_input": "2021-04-11T07:38:21.845552Z",
     "iopub.status.busy": "2021-04-11T07:38:21.817966Z",
     "iopub.status.idle": "2021-04-11T07:38:21.860469Z",
     "shell.execute_reply": "2021-04-11T07:38:21.859859Z"
    },
    "papermill": {
     "duration": 0.164259,
     "end_time": "2021-04-11T07:38:21.860609",
     "exception": false,
     "start_time": "2021-04-11T07:38:21.696350",
     "status": "completed"
    },
    "tags": []
   },
   "outputs": [],
   "source": [
    "numerical_features.remove('ID')\n",
    "numerical_features.remove('Transaction price (total amount) _log')\n",
    "train.drop(['ID'], axis = 1, inplace = True)\n",
    "test.drop(['ID'], axis = 1, inplace = True)"
   ]
  },
  {
   "cell_type": "code",
   "execution_count": 30,
   "id": "known-constraint",
   "metadata": {
    "execution": {
     "iopub.execute_input": "2021-04-11T07:38:22.018536Z",
     "iopub.status.busy": "2021-04-11T07:38:22.016699Z",
     "iopub.status.idle": "2021-04-11T07:38:23.036052Z",
     "shell.execute_reply": "2021-04-11T07:38:23.034660Z"
    },
    "papermill": {
     "duration": 1.106249,
     "end_time": "2021-04-11T07:38:23.036226",
     "exception": false,
     "start_time": "2021-04-11T07:38:21.929977",
     "status": "completed"
    },
    "tags": []
   },
   "outputs": [],
   "source": [
    "scl = StandardScaler()\n",
    "train[numerical_features] = scl.fit_transform(train[numerical_features])\n",
    "test[numerical_features] = scl.transform(test[numerical_features])"
   ]
  },
  {
   "cell_type": "code",
   "execution_count": 31,
   "id": "lightweight-madison",
   "metadata": {
    "execution": {
     "iopub.execute_input": "2021-04-11T07:38:23.183722Z",
     "iopub.status.busy": "2021-04-11T07:38:23.183106Z",
     "iopub.status.idle": "2021-04-11T07:38:38.462079Z",
     "shell.execute_reply": "2021-04-11T07:38:38.461404Z"
    },
    "papermill": {
     "duration": 15.355308,
     "end_time": "2021-04-11T07:38:38.462225",
     "exception": false,
     "start_time": "2021-04-11T07:38:23.106917",
     "status": "completed"
    },
    "tags": []
   },
   "outputs": [
    {
     "name": "stdout",
     "output_type": "stream",
     "text": [
      "Label Encoding Categorical Features done..\n"
     ]
    }
   ],
   "source": [
    "lbl = LabelEncoder()\n",
    "for c in categorical_features:\n",
    "    lbl.fit(list(train[c].astype(str).values) + list(test[c].astype(str).values))\n",
    "    train[c] = lbl.transform(list(train[c].astype(str).values))\n",
    "    test[c] = lbl.transform(list(test[c].astype(str).values))\n",
    "print('Label Encoding Categorical Features done..')"
   ]
  },
  {
   "cell_type": "markdown",
   "id": "speaking-tooth",
   "metadata": {
    "papermill": {
     "duration": 0.069473,
     "end_time": "2021-04-11T07:38:38.601753",
     "exception": false,
     "start_time": "2021-04-11T07:38:38.532280",
     "status": "completed"
    },
    "tags": []
   },
   "source": [
    "- Check if the most recurrent value of the feature is repeated almost in all the instances. If it does then it drops these features because their values are almost the same for all instances and will not help in the learning process."
   ]
  },
  {
   "cell_type": "code",
   "execution_count": 32,
   "id": "dated-weight",
   "metadata": {
    "execution": {
     "iopub.execute_input": "2021-04-11T07:38:38.749627Z",
     "iopub.status.busy": "2021-04-11T07:38:38.748591Z",
     "iopub.status.idle": "2021-04-11T07:38:39.087758Z",
     "shell.execute_reply": "2021-04-11T07:38:39.087126Z"
    },
    "papermill": {
     "duration": 0.41628,
     "end_time": "2021-04-11T07:38:39.087917",
     "exception": false,
     "start_time": "2021-04-11T07:38:38.671637",
     "status": "completed"
    },
    "tags": []
   },
   "outputs": [
    {
     "name": "stdout",
     "output_type": "stream",
     "text": [
      "No repeated values in columns\n"
     ]
    }
   ],
   "source": [
    "repeated = []\n",
    "for c in df.columns:\n",
    "    counts = df[c].value_counts()\n",
    "    zeros = counts.iloc[0]\n",
    "    if zeros / len(df) * 100 > 99.94:\n",
    "        repeated.append(c)\n",
    "repeated = list(repeated)\n",
    "if repeated:\n",
    "    print(f\"These are the features with same repeated value: {repeated}\")\n",
    "    train = train.drop(repeated, axis = 1)\n",
    "    test = test.drop(repeated, axis = 1)\n",
    "else:\n",
    "    print('No repeated values in columns')"
   ]
  },
  {
   "cell_type": "code",
   "execution_count": 33,
   "id": "impossible-lexington",
   "metadata": {
    "execution": {
     "iopub.execute_input": "2021-04-11T07:38:39.233874Z",
     "iopub.status.busy": "2021-04-11T07:38:39.233185Z",
     "iopub.status.idle": "2021-04-11T07:38:39.337805Z",
     "shell.execute_reply": "2021-04-11T07:38:39.336663Z"
    },
    "papermill": {
     "duration": 0.179423,
     "end_time": "2021-04-11T07:38:39.337979",
     "exception": false,
     "start_time": "2021-04-11T07:38:39.158556",
     "status": "completed"
    },
    "tags": []
   },
   "outputs": [],
   "source": [
    "target = train['Transaction price (total amount) _log'].copy()\n",
    "train.drop(['Transaction price (total amount) _log'], axis = 1, inplace = True)"
   ]
  },
  {
   "cell_type": "code",
   "execution_count": 34,
   "id": "moved-confusion",
   "metadata": {
    "execution": {
     "iopub.execute_input": "2021-04-11T07:38:39.486208Z",
     "iopub.status.busy": "2021-04-11T07:38:39.485549Z",
     "iopub.status.idle": "2021-04-11T07:38:39.667681Z",
     "shell.execute_reply": "2021-04-11T07:38:39.667047Z"
    },
    "papermill": {
     "duration": 0.258633,
     "end_time": "2021-04-11T07:38:39.667836",
     "exception": false,
     "start_time": "2021-04-11T07:38:39.409203",
     "status": "completed"
    },
    "tags": []
   },
   "outputs": [
    {
     "name": "stdout",
     "output_type": "stream",
     "text": [
      "(521580, 18) (521580,) (130395, 18) (130395,)\n"
     ]
    }
   ],
   "source": [
    "Xtrain, Xvalid, ytrain, yvalid = train_test_split(train, target, test_size = 0.2, random_state = 2021)\n",
    "print(Xtrain.shape, ytrain.shape, Xvalid.shape, yvalid.shape)"
   ]
  },
  {
   "cell_type": "code",
   "execution_count": 35,
   "id": "cubic-demonstration",
   "metadata": {
    "execution": {
     "iopub.execute_input": "2021-04-11T07:38:39.814996Z",
     "iopub.status.busy": "2021-04-11T07:38:39.814328Z",
     "iopub.status.idle": "2021-04-11T07:38:39.816315Z",
     "shell.execute_reply": "2021-04-11T07:38:39.816817Z"
    },
    "papermill": {
     "duration": 0.078338,
     "end_time": "2021-04-11T07:38:39.816994",
     "exception": false,
     "start_time": "2021-04-11T07:38:39.738656",
     "status": "completed"
    },
    "tags": []
   },
   "outputs": [],
   "source": [
    "from sklearn.metrics import mean_absolute_error"
   ]
  },
  {
   "cell_type": "code",
   "execution_count": 36,
   "id": "vulnerable-escape",
   "metadata": {
    "execution": {
     "iopub.execute_input": "2021-04-11T07:38:39.963970Z",
     "iopub.status.busy": "2021-04-11T07:38:39.963266Z",
     "iopub.status.idle": "2021-04-11T07:38:40.963084Z",
     "shell.execute_reply": "2021-04-11T07:38:40.963809Z"
    },
    "papermill": {
     "duration": 1.07519,
     "end_time": "2021-04-11T07:38:40.964084",
     "exception": false,
     "start_time": "2021-04-11T07:38:39.888894",
     "status": "completed"
    },
    "tags": []
   },
   "outputs": [
    {
     "data": {
      "text/html": [
       "<style type='text/css'>\n",
       ".datatable table.frame { margin-bottom: 0; }\n",
       ".datatable table.frame thead { border-bottom: none; }\n",
       ".datatable table.frame tr.coltypes td {  color: #FFFFFF;  line-height: 6px;  padding: 0 0.5em;}\n",
       ".datatable .bool    { background: #DDDD99; }\n",
       ".datatable .object  { background: #565656; }\n",
       ".datatable .int     { background: #5D9E5D; }\n",
       ".datatable .float   { background: #4040CC; }\n",
       ".datatable .str     { background: #CC4040; }\n",
       ".datatable .row_index {  background: var(--jp-border-color3);  border-right: 1px solid var(--jp-border-color0);  color: var(--jp-ui-font-color3);  font-size: 9px;}\n",
       ".datatable .frame tr.coltypes .row_index {  background: var(--jp-border-color0);}\n",
       ".datatable th:nth-child(2) { padding-left: 12px; }\n",
       ".datatable .hellipsis {  color: var(--jp-cell-editor-border-color);}\n",
       ".datatable .vellipsis {  background: var(--jp-layout-color0);  color: var(--jp-cell-editor-border-color);}\n",
       ".datatable .na {  color: var(--jp-cell-editor-border-color);  font-size: 80%;}\n",
       ".datatable .footer { font-size: 9px; }\n",
       ".datatable .frame_dimensions {  background: var(--jp-border-color3);  border-top: 1px solid var(--jp-border-color0);  color: var(--jp-ui-font-color3);  display: inline-block;  opacity: 0.6;  padding: 1px 10px 1px 5px;}\n",
       "</style>\n"
      ],
      "text/plain": [
       "<IPython.core.display.HTML object>"
      ]
     },
     "metadata": {},
     "output_type": "display_data"
    },
    {
     "name": "stdout",
     "output_type": "stream",
     "text": [
      "[LightGBM] [Warning] feature_fraction is set=0.2, colsample_bytree=1.0 will be ignored. Current value: feature_fraction=0.2\n",
      "[LightGBM] [Warning] bagging_freq is set=5, subsample_freq=0 will be ignored. Current value: bagging_freq=5\n",
      "[LightGBM] [Warning] bagging_fraction is set=0.75, subsample=1.0 will be ignored. Current value: bagging_fraction=0.75\n"
     ]
    },
    {
     "ename": "LightGBMError",
     "evalue": "Do not support special JSON characters in feature name.",
     "output_type": "error",
     "traceback": [
      "\u001b[0;31m---------------------------------------------------------------------------\u001b[0m",
      "\u001b[0;31mLightGBMError\u001b[0m                             Traceback (most recent call last)",
      "\u001b[0;32m<ipython-input-36-154c2b41de9f>\u001b[0m in \u001b[0;36m<module>\u001b[0;34m\u001b[0m\n\u001b[1;32m     15\u001b[0m             )\n\u001b[1;32m     16\u001b[0m \u001b[0;34m\u001b[0m\u001b[0m\n\u001b[0;32m---> 17\u001b[0;31m \u001b[0mlgbm_model\u001b[0m \u001b[0;34m=\u001b[0m \u001b[0mlgbm\u001b[0m\u001b[0;34m.\u001b[0m\u001b[0mfit\u001b[0m\u001b[0;34m(\u001b[0m\u001b[0mXtrain\u001b[0m\u001b[0;34m,\u001b[0m \u001b[0mytrain\u001b[0m\u001b[0;34m)\u001b[0m\u001b[0;34m\u001b[0m\u001b[0;34m\u001b[0m\u001b[0m\n\u001b[0m\u001b[1;32m     18\u001b[0m \u001b[0mlg_vpreds\u001b[0m \u001b[0;34m=\u001b[0m \u001b[0mlgbm_model\u001b[0m\u001b[0;34m.\u001b[0m\u001b[0mpredict\u001b[0m\u001b[0;34m(\u001b[0m\u001b[0mXvalid\u001b[0m\u001b[0;34m)\u001b[0m\u001b[0;34m\u001b[0m\u001b[0;34m\u001b[0m\u001b[0m\n\u001b[1;32m     19\u001b[0m \u001b[0mprint\u001b[0m\u001b[0;34m(\u001b[0m\u001b[0;34m(\u001b[0m\u001b[0;34mf\"LGBM MAE: {mean_absolute_error(yvalid, lg_vpreds)}\"\u001b[0m\u001b[0;34m)\u001b[0m\u001b[0;34m)\u001b[0m\u001b[0;34m\u001b[0m\u001b[0;34m\u001b[0m\u001b[0m\n",
      "\u001b[0;32m/opt/conda/lib/python3.7/site-packages/lightgbm/sklearn.py\u001b[0m in \u001b[0;36mfit\u001b[0;34m(self, X, y, sample_weight, init_score, eval_set, eval_names, eval_sample_weight, eval_init_score, eval_metric, early_stopping_rounds, verbose, feature_name, categorical_feature, callbacks, init_model)\u001b[0m\n\u001b[1;32m    777\u001b[0m                                        \u001b[0mverbose\u001b[0m\u001b[0;34m=\u001b[0m\u001b[0mverbose\u001b[0m\u001b[0;34m,\u001b[0m \u001b[0mfeature_name\u001b[0m\u001b[0;34m=\u001b[0m\u001b[0mfeature_name\u001b[0m\u001b[0;34m,\u001b[0m\u001b[0;34m\u001b[0m\u001b[0;34m\u001b[0m\u001b[0m\n\u001b[1;32m    778\u001b[0m                                        \u001b[0mcategorical_feature\u001b[0m\u001b[0;34m=\u001b[0m\u001b[0mcategorical_feature\u001b[0m\u001b[0;34m,\u001b[0m\u001b[0;34m\u001b[0m\u001b[0;34m\u001b[0m\u001b[0m\n\u001b[0;32m--> 779\u001b[0;31m                                        callbacks=callbacks, init_model=init_model)\n\u001b[0m\u001b[1;32m    780\u001b[0m         \u001b[0;32mreturn\u001b[0m \u001b[0mself\u001b[0m\u001b[0;34m\u001b[0m\u001b[0;34m\u001b[0m\u001b[0m\n\u001b[1;32m    781\u001b[0m \u001b[0;34m\u001b[0m\u001b[0m\n",
      "\u001b[0;32m/opt/conda/lib/python3.7/site-packages/lightgbm/sklearn.py\u001b[0m in \u001b[0;36mfit\u001b[0;34m(self, X, y, sample_weight, init_score, group, eval_set, eval_names, eval_sample_weight, eval_class_weight, eval_init_score, eval_group, eval_metric, early_stopping_rounds, verbose, feature_name, categorical_feature, callbacks, init_model)\u001b[0m\n\u001b[1;32m    615\u001b[0m                               \u001b[0mevals_result\u001b[0m\u001b[0;34m=\u001b[0m\u001b[0mevals_result\u001b[0m\u001b[0;34m,\u001b[0m \u001b[0mfobj\u001b[0m\u001b[0;34m=\u001b[0m\u001b[0mself\u001b[0m\u001b[0;34m.\u001b[0m\u001b[0m_fobj\u001b[0m\u001b[0;34m,\u001b[0m \u001b[0mfeval\u001b[0m\u001b[0;34m=\u001b[0m\u001b[0meval_metrics_callable\u001b[0m\u001b[0;34m,\u001b[0m\u001b[0;34m\u001b[0m\u001b[0;34m\u001b[0m\u001b[0m\n\u001b[1;32m    616\u001b[0m                               \u001b[0mverbose_eval\u001b[0m\u001b[0;34m=\u001b[0m\u001b[0mverbose\u001b[0m\u001b[0;34m,\u001b[0m \u001b[0mfeature_name\u001b[0m\u001b[0;34m=\u001b[0m\u001b[0mfeature_name\u001b[0m\u001b[0;34m,\u001b[0m\u001b[0;34m\u001b[0m\u001b[0;34m\u001b[0m\u001b[0m\n\u001b[0;32m--> 617\u001b[0;31m                               callbacks=callbacks, init_model=init_model)\n\u001b[0m\u001b[1;32m    618\u001b[0m \u001b[0;34m\u001b[0m\u001b[0m\n\u001b[1;32m    619\u001b[0m         \u001b[0;32mif\u001b[0m \u001b[0mevals_result\u001b[0m\u001b[0;34m:\u001b[0m\u001b[0;34m\u001b[0m\u001b[0;34m\u001b[0m\u001b[0m\n",
      "\u001b[0;32m/opt/conda/lib/python3.7/site-packages/lightgbm/engine.py\u001b[0m in \u001b[0;36mtrain\u001b[0;34m(params, train_set, num_boost_round, valid_sets, valid_names, fobj, feval, init_model, feature_name, categorical_feature, early_stopping_rounds, evals_result, verbose_eval, learning_rates, keep_training_booster, callbacks)\u001b[0m\n\u001b[1;32m    229\u001b[0m     \u001b[0;31m# construct booster\u001b[0m\u001b[0;34m\u001b[0m\u001b[0;34m\u001b[0m\u001b[0;34m\u001b[0m\u001b[0m\n\u001b[1;32m    230\u001b[0m     \u001b[0;32mtry\u001b[0m\u001b[0;34m:\u001b[0m\u001b[0;34m\u001b[0m\u001b[0;34m\u001b[0m\u001b[0m\n\u001b[0;32m--> 231\u001b[0;31m         \u001b[0mbooster\u001b[0m \u001b[0;34m=\u001b[0m \u001b[0mBooster\u001b[0m\u001b[0;34m(\u001b[0m\u001b[0mparams\u001b[0m\u001b[0;34m=\u001b[0m\u001b[0mparams\u001b[0m\u001b[0;34m,\u001b[0m \u001b[0mtrain_set\u001b[0m\u001b[0;34m=\u001b[0m\u001b[0mtrain_set\u001b[0m\u001b[0;34m)\u001b[0m\u001b[0;34m\u001b[0m\u001b[0;34m\u001b[0m\u001b[0m\n\u001b[0m\u001b[1;32m    232\u001b[0m         \u001b[0;32mif\u001b[0m \u001b[0mis_valid_contain_train\u001b[0m\u001b[0;34m:\u001b[0m\u001b[0;34m\u001b[0m\u001b[0;34m\u001b[0m\u001b[0m\n\u001b[1;32m    233\u001b[0m             \u001b[0mbooster\u001b[0m\u001b[0;34m.\u001b[0m\u001b[0mset_train_data_name\u001b[0m\u001b[0;34m(\u001b[0m\u001b[0mtrain_data_name\u001b[0m\u001b[0;34m)\u001b[0m\u001b[0;34m\u001b[0m\u001b[0;34m\u001b[0m\u001b[0m\n",
      "\u001b[0;32m/opt/conda/lib/python3.7/site-packages/lightgbm/basic.py\u001b[0m in \u001b[0;36m__init__\u001b[0;34m(self, params, train_set, model_file, model_str, silent)\u001b[0m\n\u001b[1;32m   2051\u001b[0m                     \u001b[0;32mbreak\u001b[0m\u001b[0;34m\u001b[0m\u001b[0;34m\u001b[0m\u001b[0m\n\u001b[1;32m   2052\u001b[0m             \u001b[0;31m# construct booster object\u001b[0m\u001b[0;34m\u001b[0m\u001b[0;34m\u001b[0m\u001b[0;34m\u001b[0m\u001b[0m\n\u001b[0;32m-> 2053\u001b[0;31m             \u001b[0mtrain_set\u001b[0m\u001b[0;34m.\u001b[0m\u001b[0mconstruct\u001b[0m\u001b[0;34m(\u001b[0m\u001b[0;34m)\u001b[0m\u001b[0;34m\u001b[0m\u001b[0;34m\u001b[0m\u001b[0m\n\u001b[0m\u001b[1;32m   2054\u001b[0m             \u001b[0;31m# copy the parameters from train_set\u001b[0m\u001b[0;34m\u001b[0m\u001b[0;34m\u001b[0m\u001b[0;34m\u001b[0m\u001b[0m\n\u001b[1;32m   2055\u001b[0m             \u001b[0mparams\u001b[0m\u001b[0;34m.\u001b[0m\u001b[0mupdate\u001b[0m\u001b[0;34m(\u001b[0m\u001b[0mtrain_set\u001b[0m\u001b[0;34m.\u001b[0m\u001b[0mget_params\u001b[0m\u001b[0;34m(\u001b[0m\u001b[0;34m)\u001b[0m\u001b[0;34m)\u001b[0m\u001b[0;34m\u001b[0m\u001b[0;34m\u001b[0m\u001b[0m\n",
      "\u001b[0;32m/opt/conda/lib/python3.7/site-packages/lightgbm/basic.py\u001b[0m in \u001b[0;36mconstruct\u001b[0;34m(self)\u001b[0m\n\u001b[1;32m   1323\u001b[0m                                 \u001b[0minit_score\u001b[0m\u001b[0;34m=\u001b[0m\u001b[0mself\u001b[0m\u001b[0;34m.\u001b[0m\u001b[0minit_score\u001b[0m\u001b[0;34m,\u001b[0m \u001b[0mpredictor\u001b[0m\u001b[0;34m=\u001b[0m\u001b[0mself\u001b[0m\u001b[0;34m.\u001b[0m\u001b[0m_predictor\u001b[0m\u001b[0;34m,\u001b[0m\u001b[0;34m\u001b[0m\u001b[0;34m\u001b[0m\u001b[0m\n\u001b[1;32m   1324\u001b[0m                                 \u001b[0msilent\u001b[0m\u001b[0;34m=\u001b[0m\u001b[0mself\u001b[0m\u001b[0;34m.\u001b[0m\u001b[0msilent\u001b[0m\u001b[0;34m,\u001b[0m \u001b[0mfeature_name\u001b[0m\u001b[0;34m=\u001b[0m\u001b[0mself\u001b[0m\u001b[0;34m.\u001b[0m\u001b[0mfeature_name\u001b[0m\u001b[0;34m,\u001b[0m\u001b[0;34m\u001b[0m\u001b[0;34m\u001b[0m\u001b[0m\n\u001b[0;32m-> 1325\u001b[0;31m                                 categorical_feature=self.categorical_feature, params=self.params)\n\u001b[0m\u001b[1;32m   1326\u001b[0m             \u001b[0;32mif\u001b[0m \u001b[0mself\u001b[0m\u001b[0;34m.\u001b[0m\u001b[0mfree_raw_data\u001b[0m\u001b[0;34m:\u001b[0m\u001b[0;34m\u001b[0m\u001b[0;34m\u001b[0m\u001b[0m\n\u001b[1;32m   1327\u001b[0m                 \u001b[0mself\u001b[0m\u001b[0;34m.\u001b[0m\u001b[0mdata\u001b[0m \u001b[0;34m=\u001b[0m \u001b[0;32mNone\u001b[0m\u001b[0;34m\u001b[0m\u001b[0;34m\u001b[0m\u001b[0m\n",
      "\u001b[0;32m/opt/conda/lib/python3.7/site-packages/lightgbm/basic.py\u001b[0m in \u001b[0;36m_lazy_init\u001b[0;34m(self, data, label, reference, weight, group, init_score, predictor, silent, feature_name, categorical_feature, params)\u001b[0m\n\u001b[1;32m   1149\u001b[0m             \u001b[0;32mraise\u001b[0m \u001b[0mTypeError\u001b[0m\u001b[0;34m(\u001b[0m\u001b[0;34m'Wrong predictor type {}'\u001b[0m\u001b[0;34m.\u001b[0m\u001b[0mformat\u001b[0m\u001b[0;34m(\u001b[0m\u001b[0mtype\u001b[0m\u001b[0;34m(\u001b[0m\u001b[0mpredictor\u001b[0m\u001b[0;34m)\u001b[0m\u001b[0;34m.\u001b[0m\u001b[0m__name__\u001b[0m\u001b[0;34m)\u001b[0m\u001b[0;34m)\u001b[0m\u001b[0;34m\u001b[0m\u001b[0;34m\u001b[0m\u001b[0m\n\u001b[1;32m   1150\u001b[0m         \u001b[0;31m# set feature names\u001b[0m\u001b[0;34m\u001b[0m\u001b[0;34m\u001b[0m\u001b[0;34m\u001b[0m\u001b[0m\n\u001b[0;32m-> 1151\u001b[0;31m         \u001b[0;32mreturn\u001b[0m \u001b[0mself\u001b[0m\u001b[0;34m.\u001b[0m\u001b[0mset_feature_name\u001b[0m\u001b[0;34m(\u001b[0m\u001b[0mfeature_name\u001b[0m\u001b[0;34m)\u001b[0m\u001b[0;34m\u001b[0m\u001b[0;34m\u001b[0m\u001b[0m\n\u001b[0m\u001b[1;32m   1152\u001b[0m \u001b[0;34m\u001b[0m\u001b[0m\n\u001b[1;32m   1153\u001b[0m     \u001b[0;32mdef\u001b[0m \u001b[0m__init_from_np2d\u001b[0m\u001b[0;34m(\u001b[0m\u001b[0mself\u001b[0m\u001b[0;34m,\u001b[0m \u001b[0mmat\u001b[0m\u001b[0;34m,\u001b[0m \u001b[0mparams_str\u001b[0m\u001b[0;34m,\u001b[0m \u001b[0mref_dataset\u001b[0m\u001b[0;34m)\u001b[0m\u001b[0;34m:\u001b[0m\u001b[0;34m\u001b[0m\u001b[0;34m\u001b[0m\u001b[0m\n",
      "\u001b[0;32m/opt/conda/lib/python3.7/site-packages/lightgbm/basic.py\u001b[0m in \u001b[0;36mset_feature_name\u001b[0;34m(self, feature_name)\u001b[0m\n\u001b[1;32m   1630\u001b[0m                 \u001b[0mself\u001b[0m\u001b[0;34m.\u001b[0m\u001b[0mhandle\u001b[0m\u001b[0;34m,\u001b[0m\u001b[0;34m\u001b[0m\u001b[0;34m\u001b[0m\u001b[0m\n\u001b[1;32m   1631\u001b[0m                 \u001b[0mc_array\u001b[0m\u001b[0;34m(\u001b[0m\u001b[0mctypes\u001b[0m\u001b[0;34m.\u001b[0m\u001b[0mc_char_p\u001b[0m\u001b[0;34m,\u001b[0m \u001b[0mc_feature_name\u001b[0m\u001b[0;34m)\u001b[0m\u001b[0;34m,\u001b[0m\u001b[0;34m\u001b[0m\u001b[0;34m\u001b[0m\u001b[0m\n\u001b[0;32m-> 1632\u001b[0;31m                 ctypes.c_int(len(feature_name))))\n\u001b[0m\u001b[1;32m   1633\u001b[0m         \u001b[0;32mreturn\u001b[0m \u001b[0mself\u001b[0m\u001b[0;34m\u001b[0m\u001b[0;34m\u001b[0m\u001b[0m\n\u001b[1;32m   1634\u001b[0m \u001b[0;34m\u001b[0m\u001b[0m\n",
      "\u001b[0;32m/opt/conda/lib/python3.7/site-packages/lightgbm/basic.py\u001b[0m in \u001b[0;36m_safe_call\u001b[0;34m(ret)\u001b[0m\n\u001b[1;32m     53\u001b[0m     \"\"\"\n\u001b[1;32m     54\u001b[0m     \u001b[0;32mif\u001b[0m \u001b[0mret\u001b[0m \u001b[0;34m!=\u001b[0m \u001b[0;36m0\u001b[0m\u001b[0;34m:\u001b[0m\u001b[0;34m\u001b[0m\u001b[0;34m\u001b[0m\u001b[0m\n\u001b[0;32m---> 55\u001b[0;31m         \u001b[0;32mraise\u001b[0m \u001b[0mLightGBMError\u001b[0m\u001b[0;34m(\u001b[0m\u001b[0mdecode_string\u001b[0m\u001b[0;34m(\u001b[0m\u001b[0m_LIB\u001b[0m\u001b[0;34m.\u001b[0m\u001b[0mLGBM_GetLastError\u001b[0m\u001b[0;34m(\u001b[0m\u001b[0;34m)\u001b[0m\u001b[0;34m)\u001b[0m\u001b[0;34m)\u001b[0m\u001b[0;34m\u001b[0m\u001b[0;34m\u001b[0m\u001b[0m\n\u001b[0m\u001b[1;32m     56\u001b[0m \u001b[0;34m\u001b[0m\u001b[0m\n\u001b[1;32m     57\u001b[0m \u001b[0;34m\u001b[0m\u001b[0m\n",
      "\u001b[0;31mLightGBMError\u001b[0m: Do not support special JSON characters in feature name."
     ]
    }
   ],
   "source": [
    "from lightgbm import LGBMRegressor\n",
    "\n",
    "lgbm = LGBMRegressor(\n",
    "               objective = 'regression', \n",
    "               num_leaves = 4,\n",
    "               learning_rate = 0.01, \n",
    "               n_estimators = 10000,\n",
    "               max_bin = 200, \n",
    "               bagging_fraction = 0.75,\n",
    "               bagging_freq = 5, \n",
    "               bagging_seed = 7,\n",
    "               feature_fraction = 0.2,\n",
    "               feature_fraction_seed = 7,\n",
    "               verbose = 1,\n",
    "            )\n",
    "\n",
    "lgbm_model = lgbm.fit(Xtrain, ytrain)\n",
    "lg_vpreds = lgbm_model.predict(Xvalid)\n",
    "print((f\"LGBM MAE: {mean_absolute_error(yvalid, lg_vpreds)}\"))"
   ]
  },
  {
   "cell_type": "code",
   "execution_count": 37,
   "id": "written-defensive",
   "metadata": {
    "execution": {
     "iopub.execute_input": "2021-04-11T07:38:41.113210Z",
     "iopub.status.busy": "2021-04-11T07:38:41.112541Z",
     "iopub.status.idle": "2021-04-11T07:38:41.132232Z",
     "shell.execute_reply": "2021-04-11T07:38:41.132731Z"
    },
    "papermill": {
     "duration": 0.095863,
     "end_time": "2021-04-11T07:38:41.132936",
     "exception": false,
     "start_time": "2021-04-11T07:38:41.037073",
     "status": "completed"
    },
    "tags": []
   },
   "outputs": [
    {
     "ename": "NameError",
     "evalue": "name 'lgbm_model' is not defined",
     "output_type": "error",
     "traceback": [
      "\u001b[0;31m---------------------------------------------------------------------------\u001b[0m",
      "\u001b[0;31mNameError\u001b[0m                                 Traceback (most recent call last)",
      "\u001b[0;32m<ipython-input-37-b1386f093918>\u001b[0m in \u001b[0;36m<module>\u001b[0;34m\u001b[0m\n\u001b[0;32m----> 1\u001b[0;31m \u001b[0mlg_preds\u001b[0m \u001b[0;34m=\u001b[0m \u001b[0mlgbm_model\u001b[0m\u001b[0;34m.\u001b[0m\u001b[0mpredict\u001b[0m\u001b[0;34m(\u001b[0m\u001b[0mtest\u001b[0m\u001b[0;34m)\u001b[0m\u001b[0;34m\u001b[0m\u001b[0;34m\u001b[0m\u001b[0m\n\u001b[0m\u001b[1;32m      2\u001b[0m \u001b[0msub\u001b[0m\u001b[0;34m[\u001b[0m\u001b[0;34m'取引価格（総額）_log'\u001b[0m\u001b[0;34m]\u001b[0m \u001b[0;34m=\u001b[0m \u001b[0mlg_preds\u001b[0m\u001b[0;34m\u001b[0m\u001b[0;34m\u001b[0m\u001b[0m\n\u001b[1;32m      3\u001b[0m \u001b[0msub\u001b[0m\u001b[0;34m.\u001b[0m\u001b[0mto_csv\u001b[0m\u001b[0;34m(\u001b[0m\u001b[0;34m'sub_lgbm.csv'\u001b[0m\u001b[0;34m,\u001b[0m \u001b[0mindex\u001b[0m \u001b[0;34m=\u001b[0m \u001b[0;32mFalse\u001b[0m\u001b[0;34m)\u001b[0m\u001b[0;34m\u001b[0m\u001b[0;34m\u001b[0m\u001b[0m\n\u001b[1;32m      4\u001b[0m \u001b[0msub\u001b[0m\u001b[0;34m.\u001b[0m\u001b[0mhead\u001b[0m\u001b[0;34m(\u001b[0m\u001b[0;34m)\u001b[0m\u001b[0;34m\u001b[0m\u001b[0;34m\u001b[0m\u001b[0m\n",
      "\u001b[0;31mNameError\u001b[0m: name 'lgbm_model' is not defined"
     ]
    }
   ],
   "source": [
    "lg_preds = lgbm_model.predict(test)\n",
    "sub['取引価格（総額）_log'] = lg_preds\n",
    "sub.to_csv('sub_lgbm.csv', index = False)\n",
    "sub.head()"
   ]
  },
  {
   "cell_type": "code",
   "execution_count": 38,
   "id": "foster-stream",
   "metadata": {
    "execution": {
     "iopub.execute_input": "2021-04-11T07:38:41.333348Z",
     "iopub.status.busy": "2021-04-11T07:38:41.332726Z",
     "iopub.status.idle": "2021-04-11T07:38:41.338184Z",
     "shell.execute_reply": "2021-04-11T07:38:41.337559Z"
    },
    "papermill": {
     "duration": 0.130734,
     "end_time": "2021-04-11T07:38:41.338319",
     "exception": false,
     "start_time": "2021-04-11T07:38:41.207585",
     "status": "completed"
    },
    "tags": []
   },
   "outputs": [
    {
     "name": "stdout",
     "output_type": "stream",
     "text": [
      "00:01:02\n"
     ]
    }
   ],
   "source": [
    "finish = time()\n",
    "print(strftime(\"%H:%M:%S\", gmtime(finish - start)))"
   ]
  }
 ],
 "metadata": {
  "kernelspec": {
   "display_name": "Python 3",
   "language": "python",
   "name": "python3"
  },
  "language_info": {
   "codemirror_mode": {
    "name": "ipython",
    "version": 3
   },
   "file_extension": ".py",
   "mimetype": "text/x-python",
   "name": "python",
   "nbconvert_exporter": "python",
   "pygments_lexer": "ipython3",
   "version": "3.7.9"
  },
  "papermill": {
   "default_parameters": {},
   "duration": 74.871738,
   "end_time": "2021-04-11T07:38:43.411674",
   "environment_variables": {},
   "exception": null,
   "input_path": "__notebook__.ipynb",
   "output_path": "__notebook__.ipynb",
   "parameters": {},
   "start_time": "2021-04-11T07:37:28.539936",
   "version": "2.3.2"
  },
  "widgets": {
   "application/vnd.jupyter.widget-state+json": {
    "state": {
     "052c53c202a147d1a55831fd4d1c6954": {
      "model_module": "@jupyter-widgets/controls",
      "model_module_version": "1.5.0",
      "model_name": "HBoxModel",
      "state": {
       "_dom_classes": [],
       "_model_module": "@jupyter-widgets/controls",
       "_model_module_version": "1.5.0",
       "_model_name": "HBoxModel",
       "_view_count": null,
       "_view_module": "@jupyter-widgets/controls",
       "_view_module_version": "1.5.0",
       "_view_name": "HBoxView",
       "box_style": "",
       "children": [
        "IPY_MODEL_9e5db8378a764b4693064c8fa8f8ea6c",
        "IPY_MODEL_693ff7bc39c7441886bc549b03104d8e",
        "IPY_MODEL_d75aa14ef49f44af858de374da6a4347"
       ],
       "layout": "IPY_MODEL_8f61555d25904300825e5dca4a849f5d"
      }
     },
     "2d466751a2544a0f9106ee433418cd80": {
      "model_module": "@jupyter-widgets/base",
      "model_module_version": "1.2.0",
      "model_name": "LayoutModel",
      "state": {
       "_model_module": "@jupyter-widgets/base",
       "_model_module_version": "1.2.0",
       "_model_name": "LayoutModel",
       "_view_count": null,
       "_view_module": "@jupyter-widgets/base",
       "_view_module_version": "1.2.0",
       "_view_name": "LayoutView",
       "align_content": null,
       "align_items": null,
       "align_self": null,
       "border": null,
       "bottom": null,
       "display": null,
       "flex": null,
       "flex_flow": null,
       "grid_area": null,
       "grid_auto_columns": null,
       "grid_auto_flow": null,
       "grid_auto_rows": null,
       "grid_column": null,
       "grid_gap": null,
       "grid_row": null,
       "grid_template_areas": null,
       "grid_template_columns": null,
       "grid_template_rows": null,
       "height": null,
       "justify_content": null,
       "justify_items": null,
       "left": null,
       "margin": null,
       "max_height": null,
       "max_width": null,
       "min_height": null,
       "min_width": null,
       "object_fit": null,
       "object_position": null,
       "order": null,
       "overflow": null,
       "overflow_x": null,
       "overflow_y": null,
       "padding": null,
       "right": null,
       "top": null,
       "visibility": null,
       "width": null
      }
     },
     "4f6f279f7d5849d6aa5f76d9fe61dcd2": {
      "model_module": "@jupyter-widgets/base",
      "model_module_version": "1.2.0",
      "model_name": "LayoutModel",
      "state": {
       "_model_module": "@jupyter-widgets/base",
       "_model_module_version": "1.2.0",
       "_model_name": "LayoutModel",
       "_view_count": null,
       "_view_module": "@jupyter-widgets/base",
       "_view_module_version": "1.2.0",
       "_view_name": "LayoutView",
       "align_content": null,
       "align_items": null,
       "align_self": null,
       "border": null,
       "bottom": null,
       "display": null,
       "flex": null,
       "flex_flow": null,
       "grid_area": null,
       "grid_auto_columns": null,
       "grid_auto_flow": null,
       "grid_auto_rows": null,
       "grid_column": null,
       "grid_gap": null,
       "grid_row": null,
       "grid_template_areas": null,
       "grid_template_columns": null,
       "grid_template_rows": null,
       "height": null,
       "justify_content": null,
       "justify_items": null,
       "left": null,
       "margin": null,
       "max_height": null,
       "max_width": null,
       "min_height": null,
       "min_width": null,
       "object_fit": null,
       "object_position": null,
       "order": null,
       "overflow": null,
       "overflow_x": null,
       "overflow_y": null,
       "padding": null,
       "right": null,
       "top": null,
       "visibility": null,
       "width": null
      }
     },
     "693ff7bc39c7441886bc549b03104d8e": {
      "model_module": "@jupyter-widgets/controls",
      "model_module_version": "1.5.0",
      "model_name": "FloatProgressModel",
      "state": {
       "_dom_classes": [],
       "_model_module": "@jupyter-widgets/controls",
       "_model_module_version": "1.5.0",
       "_model_name": "FloatProgressModel",
       "_view_count": null,
       "_view_module": "@jupyter-widgets/controls",
       "_view_module_version": "1.5.0",
       "_view_name": "ProgressView",
       "bar_style": "success",
       "description": "",
       "description_tooltip": null,
       "layout": "IPY_MODEL_b5a5598e39e7458fb490692906ea50f2",
       "max": 47.0,
       "min": 0.0,
       "orientation": "horizontal",
       "style": "IPY_MODEL_b7ace828649e4dea9a493829c17164fe",
       "value": 47.0
      }
     },
     "832346f5932f4263a5a416ae06942beb": {
      "model_module": "@jupyter-widgets/controls",
      "model_module_version": "1.5.0",
      "model_name": "DescriptionStyleModel",
      "state": {
       "_model_module": "@jupyter-widgets/controls",
       "_model_module_version": "1.5.0",
       "_model_name": "DescriptionStyleModel",
       "_view_count": null,
       "_view_module": "@jupyter-widgets/base",
       "_view_module_version": "1.2.0",
       "_view_name": "StyleView",
       "description_width": ""
      }
     },
     "8f61555d25904300825e5dca4a849f5d": {
      "model_module": "@jupyter-widgets/base",
      "model_module_version": "1.2.0",
      "model_name": "LayoutModel",
      "state": {
       "_model_module": "@jupyter-widgets/base",
       "_model_module_version": "1.2.0",
       "_model_name": "LayoutModel",
       "_view_count": null,
       "_view_module": "@jupyter-widgets/base",
       "_view_module_version": "1.2.0",
       "_view_name": "LayoutView",
       "align_content": null,
       "align_items": null,
       "align_self": null,
       "border": null,
       "bottom": null,
       "display": null,
       "flex": null,
       "flex_flow": null,
       "grid_area": null,
       "grid_auto_columns": null,
       "grid_auto_flow": null,
       "grid_auto_rows": null,
       "grid_column": null,
       "grid_gap": null,
       "grid_row": null,
       "grid_template_areas": null,
       "grid_template_columns": null,
       "grid_template_rows": null,
       "height": null,
       "justify_content": null,
       "justify_items": null,
       "left": null,
       "margin": null,
       "max_height": null,
       "max_width": null,
       "min_height": null,
       "min_width": null,
       "object_fit": null,
       "object_position": null,
       "order": null,
       "overflow": null,
       "overflow_x": null,
       "overflow_y": null,
       "padding": null,
       "right": null,
       "top": null,
       "visibility": null,
       "width": null
      }
     },
     "9a605956c623476eaf80a296fedc0889": {
      "model_module": "@jupyter-widgets/controls",
      "model_module_version": "1.5.0",
      "model_name": "DescriptionStyleModel",
      "state": {
       "_model_module": "@jupyter-widgets/controls",
       "_model_module_version": "1.5.0",
       "_model_name": "DescriptionStyleModel",
       "_view_count": null,
       "_view_module": "@jupyter-widgets/base",
       "_view_module_version": "1.2.0",
       "_view_name": "StyleView",
       "description_width": ""
      }
     },
     "9e5db8378a764b4693064c8fa8f8ea6c": {
      "model_module": "@jupyter-widgets/controls",
      "model_module_version": "1.5.0",
      "model_name": "HTMLModel",
      "state": {
       "_dom_classes": [],
       "_model_module": "@jupyter-widgets/controls",
       "_model_module_version": "1.5.0",
       "_model_name": "HTMLModel",
       "_view_count": null,
       "_view_module": "@jupyter-widgets/controls",
       "_view_module_version": "1.5.0",
       "_view_name": "HTMLView",
       "description": "",
       "description_tooltip": null,
       "layout": "IPY_MODEL_2d466751a2544a0f9106ee433418cd80",
       "placeholder": "​",
       "style": "IPY_MODEL_832346f5932f4263a5a416ae06942beb",
       "value": "100%"
      }
     },
     "b5a5598e39e7458fb490692906ea50f2": {
      "model_module": "@jupyter-widgets/base",
      "model_module_version": "1.2.0",
      "model_name": "LayoutModel",
      "state": {
       "_model_module": "@jupyter-widgets/base",
       "_model_module_version": "1.2.0",
       "_model_name": "LayoutModel",
       "_view_count": null,
       "_view_module": "@jupyter-widgets/base",
       "_view_module_version": "1.2.0",
       "_view_name": "LayoutView",
       "align_content": null,
       "align_items": null,
       "align_self": null,
       "border": null,
       "bottom": null,
       "display": null,
       "flex": null,
       "flex_flow": null,
       "grid_area": null,
       "grid_auto_columns": null,
       "grid_auto_flow": null,
       "grid_auto_rows": null,
       "grid_column": null,
       "grid_gap": null,
       "grid_row": null,
       "grid_template_areas": null,
       "grid_template_columns": null,
       "grid_template_rows": null,
       "height": null,
       "justify_content": null,
       "justify_items": null,
       "left": null,
       "margin": null,
       "max_height": null,
       "max_width": null,
       "min_height": null,
       "min_width": null,
       "object_fit": null,
       "object_position": null,
       "order": null,
       "overflow": null,
       "overflow_x": null,
       "overflow_y": null,
       "padding": null,
       "right": null,
       "top": null,
       "visibility": null,
       "width": null
      }
     },
     "b7ace828649e4dea9a493829c17164fe": {
      "model_module": "@jupyter-widgets/controls",
      "model_module_version": "1.5.0",
      "model_name": "ProgressStyleModel",
      "state": {
       "_model_module": "@jupyter-widgets/controls",
       "_model_module_version": "1.5.0",
       "_model_name": "ProgressStyleModel",
       "_view_count": null,
       "_view_module": "@jupyter-widgets/base",
       "_view_module_version": "1.2.0",
       "_view_name": "StyleView",
       "bar_color": null,
       "description_width": ""
      }
     },
     "d75aa14ef49f44af858de374da6a4347": {
      "model_module": "@jupyter-widgets/controls",
      "model_module_version": "1.5.0",
      "model_name": "HTMLModel",
      "state": {
       "_dom_classes": [],
       "_model_module": "@jupyter-widgets/controls",
       "_model_module_version": "1.5.0",
       "_model_name": "HTMLModel",
       "_view_count": null,
       "_view_module": "@jupyter-widgets/controls",
       "_view_module_version": "1.5.0",
       "_view_name": "HTMLView",
       "description": "",
       "description_tooltip": null,
       "layout": "IPY_MODEL_4f6f279f7d5849d6aa5f76d9fe61dcd2",
       "placeholder": "​",
       "style": "IPY_MODEL_9a605956c623476eaf80a296fedc0889",
       "value": " 47/47 [00:20&lt;00:00,  1.39it/s]"
      }
     }
    },
    "version_major": 2,
    "version_minor": 0
   }
  }
 },
 "nbformat": 4,
 "nbformat_minor": 5
}
